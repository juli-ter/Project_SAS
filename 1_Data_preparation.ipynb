{
  "nbformat": 4,
  "nbformat_minor": 0,
  "metadata": {
    "kernelspec": {
      "display_name": "Python 3",
      "language": "python",
      "name": "python3"
    },
    "language_info": {
      "codemirror_mode": {
        "name": "ipython",
        "version": 3
      },
      "file_extension": ".py",
      "mimetype": "text/x-python",
      "name": "python",
      "nbconvert_exporter": "python",
      "pygments_lexer": "ipython3",
      "version": "3.7.4"
    },
    "colab": {
      "name": "1. Data preparation.ipynb",
      "provenance": [],
      "collapsed_sections": [],
      "include_colab_link": true
    }
  },
  "cells": [
    {
      "cell_type": "markdown",
      "metadata": {
        "id": "view-in-github",
        "colab_type": "text"
      },
      "source": [
        "<a href=\"https://colab.research.google.com/github/juli-ter/Project_SAS/blob/master/1_Data_preparation.ipynb\" target=\"_parent\"><img src=\"https://colab.research.google.com/assets/colab-badge.svg\" alt=\"Open In Colab\"/></a>"
      ]
    },
    {
      "cell_type": "markdown",
      "metadata": {
        "id": "CZv34scwfpmn",
        "colab_type": "text"
      },
      "source": [
        "# 1. Data preparation"
      ]
    },
    {
      "cell_type": "markdown",
      "metadata": {
        "id": "RwOhLlUzfpmo",
        "colab_type": "text"
      },
      "source": [
        "First of all we need to import several libraries which will help us to work with table of data that we were given and some libraries will make visualisations. "
      ]
    },
    {
      "cell_type": "code",
      "metadata": {
        "id": "XTx3rj_Sfpmo",
        "colab_type": "code",
        "colab": {
          "base_uri": "https://localhost:8080/",
          "height": 52
        },
        "outputId": "b264a674-7f06-4d94-f9d3-0ed0135c3a0a"
      },
      "source": [
        "import pandas as pd               \n",
        "import numpy as np                \n",
        "import matplotlib.pyplot as plt   \n",
        "import seaborn as sns             \n",
        "plt.style.use('ggplot')     \n",
        "\n",
        "%matplotlib inline"
      ],
      "execution_count": 1,
      "outputs": [
        {
          "output_type": "stream",
          "text": [
            "/usr/local/lib/python3.6/dist-packages/statsmodels/tools/_testing.py:19: FutureWarning: pandas.util.testing is deprecated. Use the functions in the public API at pandas.testing instead.\n",
            "  import pandas.util.testing as tm\n"
          ],
          "name": "stderr"
        }
      ]
    },
    {
      "cell_type": "code",
      "metadata": {
        "id": "sUqWLsvCp9Cm",
        "colab_type": "code",
        "colab": {
          "base_uri": "https://localhost:8080/",
          "height": 126
        },
        "outputId": "aebe2a94-4a57-4176-cb47-1ca3b167a636"
      },
      "source": [
        "from google.colab import drive\n",
        "drive.mount('/content/drive/')"
      ],
      "execution_count": 2,
      "outputs": [
        {
          "output_type": "stream",
          "text": [
            "Go to this URL in a browser: https://accounts.google.com/o/oauth2/auth?client_id=947318989803-6bn6qk8qdgf4n4g3pfee6491hc0brc4i.apps.googleusercontent.com&redirect_uri=urn%3aietf%3awg%3aoauth%3a2.0%3aoob&response_type=code&scope=email%20https%3a%2f%2fwww.googleapis.com%2fauth%2fdocs.test%20https%3a%2f%2fwww.googleapis.com%2fauth%2fdrive%20https%3a%2f%2fwww.googleapis.com%2fauth%2fdrive.photos.readonly%20https%3a%2f%2fwww.googleapis.com%2fauth%2fpeopleapi.readonly\n",
            "\n",
            "Enter your authorization code:\n",
            "··········\n",
            "Mounted at /content/drive/\n"
          ],
          "name": "stdout"
        }
      ]
    },
    {
      "cell_type": "markdown",
      "metadata": {
        "id": "Zco3PS9qfpms",
        "colab_type": "text"
      },
      "source": [
        "Read data from the initial .csv file and put it in a DataFrame "
      ]
    },
    {
      "cell_type": "code",
      "metadata": {
        "id": "S-cVXDI2fpms",
        "colab_type": "code",
        "colab": {}
      },
      "source": [
        "path = \"/content/drive/My Drive/Optimisation/\"\n",
        "\n",
        "df = pd.read_csv(path+'исходник0.csv',delimiter=';', encoding= 'cp1251')"
      ],
      "execution_count": 27,
      "outputs": []
    },
    {
      "cell_type": "markdown",
      "metadata": {
        "id": "FncWBDjifpmv",
        "colab_type": "text"
      },
      "source": [
        "Lets have a look what our table inclues and what columns of which type is inside."
      ]
    },
    {
      "cell_type": "code",
      "metadata": {
        "id": "ICMa3W-Dfpmv",
        "colab_type": "code",
        "colab": {
          "base_uri": "https://localhost:8080/",
          "height": 462
        },
        "outputId": "2ccc9fb2-182d-4391-86d1-8958ac9fbc2b"
      },
      "source": [
        "df.head()\n"
      ],
      "execution_count": null,
      "outputs": [
        {
          "output_type": "execute_result",
          "data": {
            "text/html": [
              "<div>\n",
              "<style scoped>\n",
              "    .dataframe tbody tr th:only-of-type {\n",
              "        vertical-align: middle;\n",
              "    }\n",
              "\n",
              "    .dataframe tbody tr th {\n",
              "        vertical-align: top;\n",
              "    }\n",
              "\n",
              "    .dataframe thead th {\n",
              "        text-align: right;\n",
              "    }\n",
              "</style>\n",
              "<table border=\"1\" class=\"dataframe\">\n",
              "  <thead>\n",
              "    <tr style=\"text-align: right;\">\n",
              "      <th></th>\n",
              "      <th>Дата</th>\n",
              "      <th>ДатаДоставки</th>\n",
              "      <th>НомерЗаказаНаСайте</th>\n",
              "      <th>НовыйСтатус</th>\n",
              "      <th>СуммаЗаказаНаСайте</th>\n",
              "      <th>СуммаДокумента</th>\n",
              "      <th>МетодДоставки</th>\n",
              "      <th>ФормаОплаты</th>\n",
              "      <th>Регион</th>\n",
              "      <th>Группа2</th>\n",
              "      <th>Группа3</th>\n",
              "      <th>Группа4</th>\n",
              "      <th>Тип</th>\n",
              "      <th>Номенклатура</th>\n",
              "      <th>ТипТовара</th>\n",
              "      <th>Отменено</th>\n",
              "      <th>ПричинаОтмены</th>\n",
              "      <th>Количество</th>\n",
              "      <th>Цена</th>\n",
              "      <th>СуммаСтроки</th>\n",
              "      <th>ЦенаЗакупки</th>\n",
              "      <th>МесяцДатыЗаказа</th>\n",
              "      <th>ГодДатыЗаказа</th>\n",
              "      <th>ПВЗ_код</th>\n",
              "      <th>Статус</th>\n",
              "      <th>Гео</th>\n",
              "      <th>Маржа</th>\n",
              "      <th>СуммаУслуг</th>\n",
              "      <th>СуммаДоставки</th>\n",
              "      <th>НомерСтроки</th>\n",
              "      <th>КоличествоПроданоКлиенту</th>\n",
              "      <th>ДатаЗаказаНаСайте</th>\n",
              "      <th>Телефон_new</th>\n",
              "      <th>ЭлектроннаяПочта_new</th>\n",
              "      <th>Клиент</th>\n",
              "      <th>ID_SKU</th>\n",
              "      <th>ГородМагазина</th>\n",
              "      <th>МагазинЗаказа</th>\n",
              "    </tr>\n",
              "  </thead>\n",
              "  <tbody>\n",
              "    <tr>\n",
              "      <th>0</th>\n",
              "      <td>01.03.2017 11:41</td>\n",
              "      <td>07.03.2017 0:00</td>\n",
              "      <td>3998972_TR</td>\n",
              "      <td>Частичный возврат</td>\n",
              "      <td>12 098</td>\n",
              "      <td>12 247</td>\n",
              "      <td>Курьерская</td>\n",
              "      <td>Наличная</td>\n",
              "      <td>Москва</td>\n",
              "      <td>КРУПНОГАБАРИТНЫЙ ТОВАР</td>\n",
              "      <td>КОЛЯСКИ</td>\n",
              "      <td>АКСЕССУАРЫ ДЛЯ КОЛЯСОК</td>\n",
              "      <td>КГТ</td>\n",
              "      <td>LEADER KIDS, МУФТА на ручку коляски, (беж),</td>\n",
              "      <td>КГТ</td>\n",
              "      <td>Нет</td>\n",
              "      <td>NaN</td>\n",
              "      <td>1</td>\n",
              "      <td>680</td>\n",
              "      <td>680</td>\n",
              "      <td>172</td>\n",
              "      <td>3</td>\n",
              "      <td>2 017</td>\n",
              "      <td>NaN</td>\n",
              "      <td>Возврат</td>\n",
              "      <td>Москва</td>\n",
              "      <td>508</td>\n",
              "      <td>0</td>\n",
              "      <td>0</td>\n",
              "      <td>8</td>\n",
              "      <td>1</td>\n",
              "      <td>28.02.2017 0:00</td>\n",
              "      <td>55574854-48574951555577</td>\n",
              "      <td>106117_ju18@yandex.ru</td>\n",
              "      <td>Юлия</td>\n",
              "      <td>ID9010020114553</td>\n",
              "      <td>0</td>\n",
              "      <td>NaN</td>\n",
              "    </tr>\n",
              "    <tr>\n",
              "      <th>1</th>\n",
              "      <td>01.03.2017 12:22</td>\n",
              "      <td>15.03.2017 0:00</td>\n",
              "      <td>3999117_TR</td>\n",
              "      <td>Доставлен</td>\n",
              "      <td>4 819</td>\n",
              "      <td>3 759</td>\n",
              "      <td>Магазины</td>\n",
              "      <td>Безналичная</td>\n",
              "      <td>Челябинск</td>\n",
              "      <td>ТЕКСТИЛЬ, ТРИКОТАЖ</td>\n",
              "      <td>ОДЕЖДА ДЛЯ НОВОРОЖДЕННЫХ (0-2 лет)</td>\n",
              "      <td>боди</td>\n",
              "      <td>ОДЕЖДА</td>\n",
              "      <td>GAMEX, БОДИ кор. рук. Roza, (бел/сер), р. 86, ...</td>\n",
              "      <td>МГТ</td>\n",
              "      <td>Нет</td>\n",
              "      <td>NaN</td>\n",
              "      <td>1</td>\n",
              "      <td>379</td>\n",
              "      <td>379</td>\n",
              "      <td>209,8</td>\n",
              "      <td>3</td>\n",
              "      <td>2 017</td>\n",
              "      <td>23111</td>\n",
              "      <td>Доставлен</td>\n",
              "      <td>Регионы</td>\n",
              "      <td>169,2</td>\n",
              "      <td>0</td>\n",
              "      <td>0</td>\n",
              "      <td>3</td>\n",
              "      <td>1</td>\n",
              "      <td>01.03.2017 0:00</td>\n",
              "      <td>55575453-56535648535679</td>\n",
              "      <td>107117_ku16@list.ru</td>\n",
              "      <td>Гость</td>\n",
              "      <td>IDL00028974351</td>\n",
              "      <td>0</td>\n",
              "      <td>NaN</td>\n",
              "    </tr>\n",
              "    <tr>\n",
              "      <th>2</th>\n",
              "      <td>01.03.2017 12:31</td>\n",
              "      <td>17.03.2017 0:00</td>\n",
              "      <td>3999122_TR</td>\n",
              "      <td>Доставлен</td>\n",
              "      <td>3 325</td>\n",
              "      <td>3 325</td>\n",
              "      <td>Магазины</td>\n",
              "      <td>Безналичная</td>\n",
              "      <td>Нижневартовск</td>\n",
              "      <td>ИГРУШКИ</td>\n",
              "      <td>ИГРУШКИ ДЛЯ ДЕВОЧЕК</td>\n",
              "      <td>имитационные игрушки для девочек</td>\n",
              "      <td>ИГРУШКИ</td>\n",
              "      <td>ИГРУША, ХОЛОДИЛЬНИК (на бат), (29,5*19*45,5 см)</td>\n",
              "      <td>МГТ</td>\n",
              "      <td>Нет</td>\n",
              "      <td>NaN</td>\n",
              "      <td>1</td>\n",
              "      <td>3 325</td>\n",
              "      <td>3 325</td>\n",
              "      <td>1 149</td>\n",
              "      <td>3</td>\n",
              "      <td>2 017</td>\n",
              "      <td>23111</td>\n",
              "      <td>Доставлен</td>\n",
              "      <td>Регионы</td>\n",
              "      <td>2 176</td>\n",
              "      <td>0</td>\n",
              "      <td>0</td>\n",
              "      <td>1</td>\n",
              "      <td>1</td>\n",
              "      <td>01.03.2017 0:00</td>\n",
              "      <td>55574950-57515657535772</td>\n",
              "      <td>109117_mu17@mail.ru</td>\n",
              "      <td>Гость</td>\n",
              "      <td>IDL00038573351</td>\n",
              "      <td>0</td>\n",
              "      <td>NaN</td>\n",
              "    </tr>\n",
              "    <tr>\n",
              "      <th>3</th>\n",
              "      <td>01.03.2017 3:06</td>\n",
              "      <td>02.03.2017 0:00</td>\n",
              "      <td>3999363_TR</td>\n",
              "      <td>К отгрузке</td>\n",
              "      <td>4 998</td>\n",
              "      <td>4 998</td>\n",
              "      <td>Курьерская</td>\n",
              "      <td>Наличная</td>\n",
              "      <td>Москва</td>\n",
              "      <td>ТЕКСТИЛЬ, ТРИКОТАЖ</td>\n",
              "      <td>ОДЕЖДА ДЛЯ НОВОРОЖДЕННЫХ (0-2 лет)</td>\n",
              "      <td>ползунки</td>\n",
              "      <td>ОДЕЖДА</td>\n",
              "      <td>MAMATTI, ПОЛЗУНКИ Elephant, р. 68, Польша</td>\n",
              "      <td>МГТ</td>\n",
              "      <td>Нет</td>\n",
              "      <td>NaN</td>\n",
              "      <td>1</td>\n",
              "      <td>330</td>\n",
              "      <td>330</td>\n",
              "      <td>166,96</td>\n",
              "      <td>3</td>\n",
              "      <td>2 017</td>\n",
              "      <td>NaN</td>\n",
              "      <td>Доставлен</td>\n",
              "      <td>Москва</td>\n",
              "      <td>163,04</td>\n",
              "      <td>0</td>\n",
              "      <td>0</td>\n",
              "      <td>4</td>\n",
              "      <td>0</td>\n",
              "      <td>01.03.2017 0:00</td>\n",
              "      <td>55574851-55545249535475</td>\n",
              "      <td>115117_su13@mail.ru</td>\n",
              "      <td>Гость</td>\n",
              "      <td>IDL00034303856</td>\n",
              "      <td>0</td>\n",
              "      <td>NaN</td>\n",
              "    </tr>\n",
              "    <tr>\n",
              "      <th>4</th>\n",
              "      <td>01.03.2017 11:38</td>\n",
              "      <td>14.03.2017 0:00</td>\n",
              "      <td>3999411_TR</td>\n",
              "      <td>Доставлен</td>\n",
              "      <td>528</td>\n",
              "      <td>528</td>\n",
              "      <td>Магазины</td>\n",
              "      <td>Безналичная</td>\n",
              "      <td>Ижевск</td>\n",
              "      <td>ИГРУШКИ</td>\n",
              "      <td>ИГРУШКИ ДЛЯ РАЗВИТИЯ МАЛЫШЕЙ</td>\n",
              "      <td>игрушки для ванной</td>\n",
              "      <td>ИГРУШКИ</td>\n",
              "      <td>S+S TOYS, ИГРУШКА ПВХ в наборе, (2 шт)</td>\n",
              "      <td>МГТ</td>\n",
              "      <td>Нет</td>\n",
              "      <td>NaN</td>\n",
              "      <td>1</td>\n",
              "      <td>199</td>\n",
              "      <td>199</td>\n",
              "      <td>79</td>\n",
              "      <td>3</td>\n",
              "      <td>2 017</td>\n",
              "      <td>23111</td>\n",
              "      <td>Доставлен</td>\n",
              "      <td>Регионы</td>\n",
              "      <td>120</td>\n",
              "      <td>0</td>\n",
              "      <td>0</td>\n",
              "      <td>3</td>\n",
              "      <td>1</td>\n",
              "      <td>01.03.2017 0:00</td>\n",
              "      <td>55574854-56495552515179</td>\n",
              "      <td>guest_103117_gu28@workmail.ru</td>\n",
              "      <td>Гость</td>\n",
              "      <td>IDL00035791553</td>\n",
              "      <td>0</td>\n",
              "      <td>NaN</td>\n",
              "    </tr>\n",
              "  </tbody>\n",
              "</table>\n",
              "</div>"
            ],
            "text/plain": [
              "               Дата     ДатаДоставки  ... ГородМагазина МагазинЗаказа\n",
              "0  01.03.2017 11:41  07.03.2017 0:00  ...             0           NaN\n",
              "1  01.03.2017 12:22  15.03.2017 0:00  ...             0           NaN\n",
              "2  01.03.2017 12:31  17.03.2017 0:00  ...             0           NaN\n",
              "3   01.03.2017 3:06  02.03.2017 0:00  ...             0           NaN\n",
              "4  01.03.2017 11:38  14.03.2017 0:00  ...             0           NaN\n",
              "\n",
              "[5 rows x 38 columns]"
            ]
          },
          "metadata": {
            "tags": []
          },
          "execution_count": 4
        }
      ]
    },
    {
      "cell_type": "code",
      "metadata": {
        "id": "ut5huZIIfpm0",
        "colab_type": "code",
        "colab": {
          "base_uri": "https://localhost:8080/",
          "height": 817
        },
        "outputId": "63884892-3a0b-4b26-eab8-d85d3741244c"
      },
      "source": [
        "df.info()"
      ],
      "execution_count": 4,
      "outputs": [
        {
          "output_type": "stream",
          "text": [
            "<class 'pandas.core.frame.DataFrame'>\n",
            "RangeIndex: 691539 entries, 0 to 691538\n",
            "Data columns (total 38 columns):\n",
            " #   Column                    Non-Null Count   Dtype \n",
            "---  ------                    --------------   ----- \n",
            " 0   Дата                      691539 non-null  object\n",
            " 1   ДатаДоставки              690913 non-null  object\n",
            " 2   НомерЗаказаНаСайте        691535 non-null  object\n",
            " 3   НовыйСтатус               691539 non-null  object\n",
            " 4   СуммаЗаказаНаСайте        691539 non-null  object\n",
            " 5   СуммаДокумента            691539 non-null  object\n",
            " 6   МетодДоставки             691539 non-null  object\n",
            " 7   ФормаОплаты               691539 non-null  object\n",
            " 8   Регион                    686397 non-null  object\n",
            " 9   Группа2                   616853 non-null  object\n",
            " 10  Группа3                   616853 non-null  object\n",
            " 11  Группа4                   585914 non-null  object\n",
            " 12  Тип                       691539 non-null  object\n",
            " 13  Номенклатура              691539 non-null  object\n",
            " 14  ТипТовара                 616849 non-null  object\n",
            " 15  Отменено                  691539 non-null  object\n",
            " 16  ПричинаОтмены             66703 non-null   object\n",
            " 17  Количество                691539 non-null  int64 \n",
            " 18  Цена                      691539 non-null  object\n",
            " 19  СуммаСтроки               691539 non-null  object\n",
            " 20  ЦенаЗакупки               614626 non-null  object\n",
            " 21  МесяцДатыЗаказа           691539 non-null  int64 \n",
            " 22  ГодДатыЗаказа             691539 non-null  object\n",
            " 23  ПВЗ_код                   462653 non-null  object\n",
            " 24  Статус                    691539 non-null  object\n",
            " 25  Гео                       691539 non-null  object\n",
            " 26  Маржа                     614626 non-null  object\n",
            " 27  СуммаУслуг                691539 non-null  object\n",
            " 28  СуммаДоставки             691539 non-null  object\n",
            " 29  НомерСтроки               691539 non-null  int64 \n",
            " 30  КоличествоПроданоКлиенту  691539 non-null  int64 \n",
            " 31  ДатаЗаказаНаСайте         691535 non-null  object\n",
            " 32  Телефон_new               691539 non-null  object\n",
            " 33  ЭлектроннаяПочта_new      678422 non-null  object\n",
            " 34  Клиент                    691165 non-null  object\n",
            " 35  ID_SKU                    691539 non-null  object\n",
            " 36  ГородМагазина             691539 non-null  object\n",
            " 37  МагазинЗаказа             4983 non-null    object\n",
            "dtypes: int64(4), object(34)\n",
            "memory usage: 200.5+ MB\n"
          ],
          "name": "stdout"
        }
      ]
    },
    {
      "cell_type": "code",
      "metadata": {
        "id": "eOtBWHPifpm3",
        "colab_type": "code",
        "colab": {
          "base_uri": "https://localhost:8080/",
          "height": 35
        },
        "outputId": "65da08ae-523e-4b26-b4df-65a78c25d325"
      },
      "source": [
        "df.shape"
      ],
      "execution_count": 5,
      "outputs": [
        {
          "output_type": "execute_result",
          "data": {
            "text/plain": [
              "(691539, 38)"
            ]
          },
          "metadata": {
            "tags": []
          },
          "execution_count": 5
        }
      ]
    },
    {
      "cell_type": "markdown",
      "metadata": {
        "id": "nI3o1S0ufpm5",
        "colab_type": "text"
      },
      "source": [
        "Now lets drop duplicates if there are any"
      ]
    },
    {
      "cell_type": "code",
      "metadata": {
        "id": "D1uVWFPafpm6",
        "colab_type": "code",
        "colab": {
          "base_uri": "https://localhost:8080/",
          "height": 909
        },
        "outputId": "69a8fd7d-64c5-4a44-9352-cee136953ab7"
      },
      "source": [
        "df.drop_duplicates()"
      ],
      "execution_count": 28,
      "outputs": [
        {
          "output_type": "execute_result",
          "data": {
            "text/html": [
              "<div>\n",
              "<style scoped>\n",
              "    .dataframe tbody tr th:only-of-type {\n",
              "        vertical-align: middle;\n",
              "    }\n",
              "\n",
              "    .dataframe tbody tr th {\n",
              "        vertical-align: top;\n",
              "    }\n",
              "\n",
              "    .dataframe thead th {\n",
              "        text-align: right;\n",
              "    }\n",
              "</style>\n",
              "<table border=\"1\" class=\"dataframe\">\n",
              "  <thead>\n",
              "    <tr style=\"text-align: right;\">\n",
              "      <th></th>\n",
              "      <th>Дата</th>\n",
              "      <th>ДатаДоставки</th>\n",
              "      <th>НомерЗаказаНаСайте</th>\n",
              "      <th>НовыйСтатус</th>\n",
              "      <th>СуммаЗаказаНаСайте</th>\n",
              "      <th>СуммаДокумента</th>\n",
              "      <th>МетодДоставки</th>\n",
              "      <th>ФормаОплаты</th>\n",
              "      <th>Регион</th>\n",
              "      <th>Группа2</th>\n",
              "      <th>Группа3</th>\n",
              "      <th>Группа4</th>\n",
              "      <th>Тип</th>\n",
              "      <th>Номенклатура</th>\n",
              "      <th>ТипТовара</th>\n",
              "      <th>Отменено</th>\n",
              "      <th>ПричинаОтмены</th>\n",
              "      <th>Количество</th>\n",
              "      <th>Цена</th>\n",
              "      <th>СуммаСтроки</th>\n",
              "      <th>ЦенаЗакупки</th>\n",
              "      <th>МесяцДатыЗаказа</th>\n",
              "      <th>ГодДатыЗаказа</th>\n",
              "      <th>ПВЗ_код</th>\n",
              "      <th>Статус</th>\n",
              "      <th>Гео</th>\n",
              "      <th>Маржа</th>\n",
              "      <th>СуммаУслуг</th>\n",
              "      <th>СуммаДоставки</th>\n",
              "      <th>НомерСтроки</th>\n",
              "      <th>КоличествоПроданоКлиенту</th>\n",
              "      <th>ДатаЗаказаНаСайте</th>\n",
              "      <th>Телефон_new</th>\n",
              "      <th>ЭлектроннаяПочта_new</th>\n",
              "      <th>Клиент</th>\n",
              "      <th>ID_SKU</th>\n",
              "      <th>ГородМагазина</th>\n",
              "      <th>МагазинЗаказа</th>\n",
              "    </tr>\n",
              "  </thead>\n",
              "  <tbody>\n",
              "    <tr>\n",
              "      <th>0</th>\n",
              "      <td>01.03.2017 11:41</td>\n",
              "      <td>07.03.2017 0:00</td>\n",
              "      <td>3998972_TR</td>\n",
              "      <td>Частичный возврат</td>\n",
              "      <td>12 098</td>\n",
              "      <td>12 247</td>\n",
              "      <td>Курьерская</td>\n",
              "      <td>Наличная</td>\n",
              "      <td>Москва</td>\n",
              "      <td>КРУПНОГАБАРИТНЫЙ ТОВАР</td>\n",
              "      <td>КОЛЯСКИ</td>\n",
              "      <td>АКСЕССУАРЫ ДЛЯ КОЛЯСОК</td>\n",
              "      <td>КГТ</td>\n",
              "      <td>LEADER KIDS, МУФТА на ручку коляски, (беж),</td>\n",
              "      <td>КГТ</td>\n",
              "      <td>Нет</td>\n",
              "      <td>NaN</td>\n",
              "      <td>1</td>\n",
              "      <td>680</td>\n",
              "      <td>680</td>\n",
              "      <td>172</td>\n",
              "      <td>3</td>\n",
              "      <td>2 017</td>\n",
              "      <td>NaN</td>\n",
              "      <td>Возврат</td>\n",
              "      <td>Москва</td>\n",
              "      <td>508</td>\n",
              "      <td>0</td>\n",
              "      <td>0</td>\n",
              "      <td>8</td>\n",
              "      <td>1</td>\n",
              "      <td>28.02.2017 0:00</td>\n",
              "      <td>55574854-48574951555577</td>\n",
              "      <td>106117_ju18@yandex.ru</td>\n",
              "      <td>Юлия</td>\n",
              "      <td>ID9010020114553</td>\n",
              "      <td>0</td>\n",
              "      <td>NaN</td>\n",
              "    </tr>\n",
              "    <tr>\n",
              "      <th>1</th>\n",
              "      <td>01.03.2017 12:22</td>\n",
              "      <td>15.03.2017 0:00</td>\n",
              "      <td>3999117_TR</td>\n",
              "      <td>Доставлен</td>\n",
              "      <td>4 819</td>\n",
              "      <td>3 759</td>\n",
              "      <td>Магазины</td>\n",
              "      <td>Безналичная</td>\n",
              "      <td>Челябинск</td>\n",
              "      <td>ТЕКСТИЛЬ, ТРИКОТАЖ</td>\n",
              "      <td>ОДЕЖДА ДЛЯ НОВОРОЖДЕННЫХ (0-2 лет)</td>\n",
              "      <td>боди</td>\n",
              "      <td>ОДЕЖДА</td>\n",
              "      <td>GAMEX, БОДИ кор. рук. Roza, (бел/сер), р. 86, ...</td>\n",
              "      <td>МГТ</td>\n",
              "      <td>Нет</td>\n",
              "      <td>NaN</td>\n",
              "      <td>1</td>\n",
              "      <td>379</td>\n",
              "      <td>379</td>\n",
              "      <td>209,8</td>\n",
              "      <td>3</td>\n",
              "      <td>2 017</td>\n",
              "      <td>23111</td>\n",
              "      <td>Доставлен</td>\n",
              "      <td>Регионы</td>\n",
              "      <td>169,2</td>\n",
              "      <td>0</td>\n",
              "      <td>0</td>\n",
              "      <td>3</td>\n",
              "      <td>1</td>\n",
              "      <td>01.03.2017 0:00</td>\n",
              "      <td>55575453-56535648535679</td>\n",
              "      <td>107117_ku16@list.ru</td>\n",
              "      <td>Гость</td>\n",
              "      <td>IDL00028974351</td>\n",
              "      <td>0</td>\n",
              "      <td>NaN</td>\n",
              "    </tr>\n",
              "    <tr>\n",
              "      <th>2</th>\n",
              "      <td>01.03.2017 12:31</td>\n",
              "      <td>17.03.2017 0:00</td>\n",
              "      <td>3999122_TR</td>\n",
              "      <td>Доставлен</td>\n",
              "      <td>3 325</td>\n",
              "      <td>3 325</td>\n",
              "      <td>Магазины</td>\n",
              "      <td>Безналичная</td>\n",
              "      <td>Нижневартовск</td>\n",
              "      <td>ИГРУШКИ</td>\n",
              "      <td>ИГРУШКИ ДЛЯ ДЕВОЧЕК</td>\n",
              "      <td>имитационные игрушки для девочек</td>\n",
              "      <td>ИГРУШКИ</td>\n",
              "      <td>ИГРУША, ХОЛОДИЛЬНИК (на бат), (29,5*19*45,5 см)</td>\n",
              "      <td>МГТ</td>\n",
              "      <td>Нет</td>\n",
              "      <td>NaN</td>\n",
              "      <td>1</td>\n",
              "      <td>3 325</td>\n",
              "      <td>3 325</td>\n",
              "      <td>1 149</td>\n",
              "      <td>3</td>\n",
              "      <td>2 017</td>\n",
              "      <td>23111</td>\n",
              "      <td>Доставлен</td>\n",
              "      <td>Регионы</td>\n",
              "      <td>2 176</td>\n",
              "      <td>0</td>\n",
              "      <td>0</td>\n",
              "      <td>1</td>\n",
              "      <td>1</td>\n",
              "      <td>01.03.2017 0:00</td>\n",
              "      <td>55574950-57515657535772</td>\n",
              "      <td>109117_mu17@mail.ru</td>\n",
              "      <td>Гость</td>\n",
              "      <td>IDL00038573351</td>\n",
              "      <td>0</td>\n",
              "      <td>NaN</td>\n",
              "    </tr>\n",
              "    <tr>\n",
              "      <th>3</th>\n",
              "      <td>01.03.2017 3:06</td>\n",
              "      <td>02.03.2017 0:00</td>\n",
              "      <td>3999363_TR</td>\n",
              "      <td>К отгрузке</td>\n",
              "      <td>4 998</td>\n",
              "      <td>4 998</td>\n",
              "      <td>Курьерская</td>\n",
              "      <td>Наличная</td>\n",
              "      <td>Москва</td>\n",
              "      <td>ТЕКСТИЛЬ, ТРИКОТАЖ</td>\n",
              "      <td>ОДЕЖДА ДЛЯ НОВОРОЖДЕННЫХ (0-2 лет)</td>\n",
              "      <td>ползунки</td>\n",
              "      <td>ОДЕЖДА</td>\n",
              "      <td>MAMATTI, ПОЛЗУНКИ Elephant, р. 68, Польша</td>\n",
              "      <td>МГТ</td>\n",
              "      <td>Нет</td>\n",
              "      <td>NaN</td>\n",
              "      <td>1</td>\n",
              "      <td>330</td>\n",
              "      <td>330</td>\n",
              "      <td>166,96</td>\n",
              "      <td>3</td>\n",
              "      <td>2 017</td>\n",
              "      <td>NaN</td>\n",
              "      <td>Доставлен</td>\n",
              "      <td>Москва</td>\n",
              "      <td>163,04</td>\n",
              "      <td>0</td>\n",
              "      <td>0</td>\n",
              "      <td>4</td>\n",
              "      <td>0</td>\n",
              "      <td>01.03.2017 0:00</td>\n",
              "      <td>55574851-55545249535475</td>\n",
              "      <td>115117_su13@mail.ru</td>\n",
              "      <td>Гость</td>\n",
              "      <td>IDL00034303856</td>\n",
              "      <td>0</td>\n",
              "      <td>NaN</td>\n",
              "    </tr>\n",
              "    <tr>\n",
              "      <th>4</th>\n",
              "      <td>01.03.2017 11:38</td>\n",
              "      <td>14.03.2017 0:00</td>\n",
              "      <td>3999411_TR</td>\n",
              "      <td>Доставлен</td>\n",
              "      <td>528</td>\n",
              "      <td>528</td>\n",
              "      <td>Магазины</td>\n",
              "      <td>Безналичная</td>\n",
              "      <td>Ижевск</td>\n",
              "      <td>ИГРУШКИ</td>\n",
              "      <td>ИГРУШКИ ДЛЯ РАЗВИТИЯ МАЛЫШЕЙ</td>\n",
              "      <td>игрушки для ванной</td>\n",
              "      <td>ИГРУШКИ</td>\n",
              "      <td>S+S TOYS, ИГРУШКА ПВХ в наборе, (2 шт)</td>\n",
              "      <td>МГТ</td>\n",
              "      <td>Нет</td>\n",
              "      <td>NaN</td>\n",
              "      <td>1</td>\n",
              "      <td>199</td>\n",
              "      <td>199</td>\n",
              "      <td>79</td>\n",
              "      <td>3</td>\n",
              "      <td>2 017</td>\n",
              "      <td>23111</td>\n",
              "      <td>Доставлен</td>\n",
              "      <td>Регионы</td>\n",
              "      <td>120</td>\n",
              "      <td>0</td>\n",
              "      <td>0</td>\n",
              "      <td>3</td>\n",
              "      <td>1</td>\n",
              "      <td>01.03.2017 0:00</td>\n",
              "      <td>55574854-56495552515179</td>\n",
              "      <td>guest_103117_gu28@workmail.ru</td>\n",
              "      <td>Гость</td>\n",
              "      <td>IDL00035791553</td>\n",
              "      <td>0</td>\n",
              "      <td>NaN</td>\n",
              "    </tr>\n",
              "    <tr>\n",
              "      <th>...</th>\n",
              "      <td>...</td>\n",
              "      <td>...</td>\n",
              "      <td>...</td>\n",
              "      <td>...</td>\n",
              "      <td>...</td>\n",
              "      <td>...</td>\n",
              "      <td>...</td>\n",
              "      <td>...</td>\n",
              "      <td>...</td>\n",
              "      <td>...</td>\n",
              "      <td>...</td>\n",
              "      <td>...</td>\n",
              "      <td>...</td>\n",
              "      <td>...</td>\n",
              "      <td>...</td>\n",
              "      <td>...</td>\n",
              "      <td>...</td>\n",
              "      <td>...</td>\n",
              "      <td>...</td>\n",
              "      <td>...</td>\n",
              "      <td>...</td>\n",
              "      <td>...</td>\n",
              "      <td>...</td>\n",
              "      <td>...</td>\n",
              "      <td>...</td>\n",
              "      <td>...</td>\n",
              "      <td>...</td>\n",
              "      <td>...</td>\n",
              "      <td>...</td>\n",
              "      <td>...</td>\n",
              "      <td>...</td>\n",
              "      <td>...</td>\n",
              "      <td>...</td>\n",
              "      <td>...</td>\n",
              "      <td>...</td>\n",
              "      <td>...</td>\n",
              "      <td>...</td>\n",
              "      <td>...</td>\n",
              "    </tr>\n",
              "    <tr>\n",
              "      <th>691534</th>\n",
              "      <td>17.04.2017 9:54</td>\n",
              "      <td>24.05.2017 0:00</td>\n",
              "      <td>4411156_TR</td>\n",
              "      <td>Принят в ПВЗ</td>\n",
              "      <td>3 240</td>\n",
              "      <td>3 240</td>\n",
              "      <td>Магазины</td>\n",
              "      <td>Безналичная</td>\n",
              "      <td>Чита</td>\n",
              "      <td>КРУПНОГАБАРИТНЫЙ ТОВАР</td>\n",
              "      <td>КОЛЯСКИ</td>\n",
              "      <td>КОЛЯСКИ КИТАЙ</td>\n",
              "      <td>КГТ</td>\n",
              "      <td>BABYHIT, КОЛЯСКА (син/черн)</td>\n",
              "      <td>КГТ</td>\n",
              "      <td>Нет</td>\n",
              "      <td>NaN</td>\n",
              "      <td>1</td>\n",
              "      <td>3 240</td>\n",
              "      <td>3 240</td>\n",
              "      <td>2 700</td>\n",
              "      <td>4</td>\n",
              "      <td>2 017</td>\n",
              "      <td>23111</td>\n",
              "      <td>В процессе</td>\n",
              "      <td>Регионы</td>\n",
              "      <td>540</td>\n",
              "      <td>0</td>\n",
              "      <td>0</td>\n",
              "      <td>1</td>\n",
              "      <td>1</td>\n",
              "      <td>17.04.2017 0:00</td>\n",
              "      <td>55574952-51535652495475</td>\n",
              "      <td>guest_103117_gu28@workmail.ru</td>\n",
              "      <td>Гость</td>\n",
              "      <td>IDL00040855553</td>\n",
              "      <td>0</td>\n",
              "      <td>NaN</td>\n",
              "    </tr>\n",
              "    <tr>\n",
              "      <th>691535</th>\n",
              "      <td>17.04.2017 10:10</td>\n",
              "      <td>19.04.2017 0:00</td>\n",
              "      <td>4411268_TR</td>\n",
              "      <td>Доставлен</td>\n",
              "      <td>1 377</td>\n",
              "      <td>1 377</td>\n",
              "      <td>Магазины</td>\n",
              "      <td>Безналичная</td>\n",
              "      <td>Москва</td>\n",
              "      <td>ИГРУШКИ</td>\n",
              "      <td>ИГРУШКИ ДЛЯ РАЗВИТИЯ МАЛЫШЕЙ</td>\n",
              "      <td>прочие игрушки для развития</td>\n",
              "      <td>ИГРУШКИ</td>\n",
              "      <td>TOMY LAMAZE, КНИЖКА- шуршалка Пират Пит</td>\n",
              "      <td>МГТ</td>\n",
              "      <td>Нет</td>\n",
              "      <td>NaN</td>\n",
              "      <td>1</td>\n",
              "      <td>464</td>\n",
              "      <td>464</td>\n",
              "      <td>324,8</td>\n",
              "      <td>4</td>\n",
              "      <td>2 017</td>\n",
              "      <td>GL0285876</td>\n",
              "      <td>Доставлен</td>\n",
              "      <td>Москва</td>\n",
              "      <td>139,2</td>\n",
              "      <td>49</td>\n",
              "      <td>49</td>\n",
              "      <td>2</td>\n",
              "      <td>1</td>\n",
              "      <td>17.04.2017 0:00</td>\n",
              "      <td>55575054-53545152544971</td>\n",
              "      <td>guest_103117_gu28@workmail.ru</td>\n",
              "      <td>Гость</td>\n",
              "      <td>IDL00013484149</td>\n",
              "      <td>0</td>\n",
              "      <td>NaN</td>\n",
              "    </tr>\n",
              "    <tr>\n",
              "      <th>691536</th>\n",
              "      <td>17.04.2017 11:03</td>\n",
              "      <td>27.04.2017 0:00</td>\n",
              "      <td>4411571_TR</td>\n",
              "      <td>Доставлен</td>\n",
              "      <td>1 098</td>\n",
              "      <td>2 086</td>\n",
              "      <td>Магазины</td>\n",
              "      <td>Безналичная</td>\n",
              "      <td>Нижний Новгород</td>\n",
              "      <td>КОСМЕТИКА/ГИГИЕНА</td>\n",
              "      <td>ПРЕДМЕТЫ ПО УХОДУ ЗА НОВОРОЖДЕННЫМИ</td>\n",
              "      <td>щетки зубные</td>\n",
              "      <td>ППКП</td>\n",
              "      <td>CS MEDICA, НАСАДКА для зубной щетки SonicPulsa...</td>\n",
              "      <td>МГТ</td>\n",
              "      <td>Нет</td>\n",
              "      <td>NaN</td>\n",
              "      <td>1</td>\n",
              "      <td>249</td>\n",
              "      <td>249</td>\n",
              "      <td>207</td>\n",
              "      <td>4</td>\n",
              "      <td>2 017</td>\n",
              "      <td>GL0285876</td>\n",
              "      <td>Доставлен</td>\n",
              "      <td>Регионы</td>\n",
              "      <td>42</td>\n",
              "      <td>0</td>\n",
              "      <td>0</td>\n",
              "      <td>1</td>\n",
              "      <td>1</td>\n",
              "      <td>17.04.2017 0:00</td>\n",
              "      <td>55575448-49564957485078</td>\n",
              "      <td>97117_au19@mail.ru</td>\n",
              "      <td>Анна</td>\n",
              "      <td>IDL00026050250</td>\n",
              "      <td>0</td>\n",
              "      <td>NaN</td>\n",
              "    </tr>\n",
              "    <tr>\n",
              "      <th>691537</th>\n",
              "      <td>17.04.2017 11:03</td>\n",
              "      <td>27.04.2017 0:00</td>\n",
              "      <td>4411571_TR</td>\n",
              "      <td>Доставлен</td>\n",
              "      <td>1 098</td>\n",
              "      <td>2 086</td>\n",
              "      <td>Магазины</td>\n",
              "      <td>Безналичная</td>\n",
              "      <td>Нижний Новгород</td>\n",
              "      <td>КОСМЕТИКА/ГИГИЕНА</td>\n",
              "      <td>ПРЕДМЕТЫ ПО УХОДУ ЗА НОВОРОЖДЕННЫМИ</td>\n",
              "      <td>щетки зубные</td>\n",
              "      <td>ППКП</td>\n",
              "      <td>CS MEDICA, ЩЕТКА зубная эл. SonicPulsar CS-562...</td>\n",
              "      <td>МГТ</td>\n",
              "      <td>Нет</td>\n",
              "      <td>NaN</td>\n",
              "      <td>1</td>\n",
              "      <td>849</td>\n",
              "      <td>849</td>\n",
              "      <td>705</td>\n",
              "      <td>4</td>\n",
              "      <td>2 017</td>\n",
              "      <td>GL0285876</td>\n",
              "      <td>Доставлен</td>\n",
              "      <td>Регионы</td>\n",
              "      <td>144</td>\n",
              "      <td>0</td>\n",
              "      <td>0</td>\n",
              "      <td>2</td>\n",
              "      <td>1</td>\n",
              "      <td>17.04.2017 0:00</td>\n",
              "      <td>55575448-49564957485078</td>\n",
              "      <td>97117_au19@mail.ru</td>\n",
              "      <td>Анна</td>\n",
              "      <td>IDL00026050654</td>\n",
              "      <td>0</td>\n",
              "      <td>NaN</td>\n",
              "    </tr>\n",
              "    <tr>\n",
              "      <th>691538</th>\n",
              "      <td>17.04.2017 10:41</td>\n",
              "      <td>24.04.2017 0:00</td>\n",
              "      <td>4411576_TR</td>\n",
              "      <td>Доставлен</td>\n",
              "      <td>13 349</td>\n",
              "      <td>13 349</td>\n",
              "      <td>Магазины</td>\n",
              "      <td>Безналичная</td>\n",
              "      <td>Москва</td>\n",
              "      <td>ИГРУШКИ</td>\n",
              "      <td>ИГРУШКИ ДЛЯ РАЗВИТИЯ МАЛЫШЕЙ</td>\n",
              "      <td>прочие игрушки для развития</td>\n",
              "      <td>ИГРУШКИ</td>\n",
              "      <td>BRIGHT STARTS, ИГРУШКА-погремушка Друг-слоненок</td>\n",
              "      <td>МГТ</td>\n",
              "      <td>Нет</td>\n",
              "      <td>NaN</td>\n",
              "      <td>1</td>\n",
              "      <td>318</td>\n",
              "      <td>318</td>\n",
              "      <td>243,95</td>\n",
              "      <td>4</td>\n",
              "      <td>2 017</td>\n",
              "      <td>901000646</td>\n",
              "      <td>Доставлен</td>\n",
              "      <td>Москва</td>\n",
              "      <td>74,05</td>\n",
              "      <td>0</td>\n",
              "      <td>0</td>\n",
              "      <td>2</td>\n",
              "      <td>1</td>\n",
              "      <td>17.04.2017 0:00</td>\n",
              "      <td>55575455-49525649535277</td>\n",
              "      <td>100117_du13@mail.ru</td>\n",
              "      <td>Евгения</td>\n",
              "      <td>IDL00028050856</td>\n",
              "      <td>0</td>\n",
              "      <td>NaN</td>\n",
              "    </tr>\n",
              "  </tbody>\n",
              "</table>\n",
              "<p>686881 rows × 38 columns</p>\n",
              "</div>"
            ],
            "text/plain": [
              "                    Дата     ДатаДоставки  ... ГородМагазина МагазинЗаказа\n",
              "0       01.03.2017 11:41  07.03.2017 0:00  ...             0           NaN\n",
              "1       01.03.2017 12:22  15.03.2017 0:00  ...             0           NaN\n",
              "2       01.03.2017 12:31  17.03.2017 0:00  ...             0           NaN\n",
              "3        01.03.2017 3:06  02.03.2017 0:00  ...             0           NaN\n",
              "4       01.03.2017 11:38  14.03.2017 0:00  ...             0           NaN\n",
              "...                  ...              ...  ...           ...           ...\n",
              "691534   17.04.2017 9:54  24.05.2017 0:00  ...             0           NaN\n",
              "691535  17.04.2017 10:10  19.04.2017 0:00  ...             0           NaN\n",
              "691536  17.04.2017 11:03  27.04.2017 0:00  ...             0           NaN\n",
              "691537  17.04.2017 11:03  27.04.2017 0:00  ...             0           NaN\n",
              "691538  17.04.2017 10:41  24.04.2017 0:00  ...             0           NaN\n",
              "\n",
              "[686881 rows x 38 columns]"
            ]
          },
          "metadata": {
            "tags": []
          },
          "execution_count": 28
        }
      ]
    },
    {
      "cell_type": "code",
      "metadata": {
        "id": "8J-YGsXwfpm9",
        "colab_type": "code",
        "colab": {
          "base_uri": "https://localhost:8080/",
          "height": 34
        },
        "outputId": "7253d4b0-629d-4f5a-8cda-3e16f802500c"
      },
      "source": [
        "df.shape"
      ],
      "execution_count": null,
      "outputs": [
        {
          "output_type": "execute_result",
          "data": {
            "text/plain": [
              "(691539, 38)"
            ]
          },
          "metadata": {
            "tags": []
          },
          "execution_count": 8
        }
      ]
    },
    {
      "cell_type": "markdown",
      "metadata": {
        "id": "9pUxh6jwfpm_",
        "colab_type": "text"
      },
      "source": [
        "The number of rows hasn't changed, so there were no dublicates. Now lets have a look on empty values. We will visualise it. On the picture below we can see 38 strips for each column. The purpule color shows non-empty cells and yellow - empty. Columns \"ПричинаОтмены\", \"ПВЗ_код\" and \"МагазинЗаказа\" are almost fully empty. So, we will drop this columns"
      ]
    },
    {
      "cell_type": "code",
      "metadata": {
        "id": "9HnGSRdWfpnA",
        "colab_type": "code",
        "colab": {
          "base_uri": "https://localhost:8080/",
          "height": 841
        },
        "outputId": "fa47e05a-7ba1-4d75-eba6-ee4ae1f92b7a"
      },
      "source": [
        "fig, ax = plt.subplots(figsize=(20,12))\n",
        "sns_heatmap = sns.heatmap(df.isnull(), yticklabels=False, cbar=False, cmap='viridis')"
      ],
      "execution_count": 7,
      "outputs": [
        {
          "output_type": "display_data",
          "data": {
            "image/png": "[encoded data removed]",
            "text/plain": [
              "<Figure size 1440x864 with 1 Axes>"
            ]
          },
          "metadata": {
            "tags": [],
            "needs_background": "light"
          }
        }
      ]
    },
    {
      "cell_type": "code",
      "metadata": {
        "id": "9_O_fIOsfpnC",
        "colab_type": "code",
        "colab": {}
      },
      "source": [
        "df.drop(['ПричинаОтмены', 'МагазинЗаказа', 'ПВЗ_код'], axis='columns', inplace=True)"
      ],
      "execution_count": 29,
      "outputs": []
    },
    {
      "cell_type": "code",
      "metadata": {
        "id": "cmsFu1VjfpnE",
        "colab_type": "code",
        "colab": {
          "base_uri": "https://localhost:8080/",
          "height": 450
        },
        "outputId": "80e2c1a5-1c17-4f58-abd7-08a1f1a795f5"
      },
      "source": [
        "df.head"
      ],
      "execution_count": 9,
      "outputs": [
        {
          "output_type": "execute_result",
          "data": {
            "text/html": [
              "<div>\n",
              "<style scoped>\n",
              "    .dataframe tbody tr th:only-of-type {\n",
              "        vertical-align: middle;\n",
              "    }\n",
              "\n",
              "    .dataframe tbody tr th {\n",
              "        vertical-align: top;\n",
              "    }\n",
              "\n",
              "    .dataframe thead th {\n",
              "        text-align: right;\n",
              "    }\n",
              "</style>\n",
              "<table border=\"1\" class=\"dataframe\">\n",
              "  <thead>\n",
              "    <tr style=\"text-align: right;\">\n",
              "      <th></th>\n",
              "      <th>Дата</th>\n",
              "      <th>ДатаДоставки</th>\n",
              "      <th>НомерЗаказаНаСайте</th>\n",
              "      <th>НовыйСтатус</th>\n",
              "      <th>СуммаЗаказаНаСайте</th>\n",
              "      <th>СуммаДокумента</th>\n",
              "      <th>МетодДоставки</th>\n",
              "      <th>ФормаОплаты</th>\n",
              "      <th>Регион</th>\n",
              "      <th>Группа2</th>\n",
              "      <th>Группа3</th>\n",
              "      <th>Группа4</th>\n",
              "      <th>Тип</th>\n",
              "      <th>Номенклатура</th>\n",
              "      <th>ТипТовара</th>\n",
              "      <th>Отменено</th>\n",
              "      <th>Количество</th>\n",
              "      <th>Цена</th>\n",
              "      <th>СуммаСтроки</th>\n",
              "      <th>ЦенаЗакупки</th>\n",
              "      <th>МесяцДатыЗаказа</th>\n",
              "      <th>ГодДатыЗаказа</th>\n",
              "      <th>Статус</th>\n",
              "      <th>Гео</th>\n",
              "      <th>Маржа</th>\n",
              "      <th>СуммаУслуг</th>\n",
              "      <th>СуммаДоставки</th>\n",
              "      <th>НомерСтроки</th>\n",
              "      <th>КоличествоПроданоКлиенту</th>\n",
              "      <th>ДатаЗаказаНаСайте</th>\n",
              "      <th>Телефон_new</th>\n",
              "      <th>ЭлектроннаяПочта_new</th>\n",
              "      <th>Клиент</th>\n",
              "      <th>ID_SKU</th>\n",
              "      <th>ГородМагазина</th>\n",
              "    </tr>\n",
              "  </thead>\n",
              "  <tbody>\n",
              "    <tr>\n",
              "      <th>0</th>\n",
              "      <td>01.03.2017 11:41</td>\n",
              "      <td>07.03.2017 0:00</td>\n",
              "      <td>3998972_TR</td>\n",
              "      <td>Частичный возврат</td>\n",
              "      <td>12 098</td>\n",
              "      <td>12 247</td>\n",
              "      <td>Курьерская</td>\n",
              "      <td>Наличная</td>\n",
              "      <td>Москва</td>\n",
              "      <td>КРУПНОГАБАРИТНЫЙ ТОВАР</td>\n",
              "      <td>КОЛЯСКИ</td>\n",
              "      <td>АКСЕССУАРЫ ДЛЯ КОЛЯСОК</td>\n",
              "      <td>КГТ</td>\n",
              "      <td>LEADER KIDS, МУФТА на ручку коляски, (беж),</td>\n",
              "      <td>КГТ</td>\n",
              "      <td>Нет</td>\n",
              "      <td>1</td>\n",
              "      <td>680</td>\n",
              "      <td>680</td>\n",
              "      <td>172</td>\n",
              "      <td>3</td>\n",
              "      <td>2 017</td>\n",
              "      <td>Возврат</td>\n",
              "      <td>Москва</td>\n",
              "      <td>508</td>\n",
              "      <td>0</td>\n",
              "      <td>0</td>\n",
              "      <td>8</td>\n",
              "      <td>1</td>\n",
              "      <td>28.02.2017 0:00</td>\n",
              "      <td>55574854-48574951555577</td>\n",
              "      <td>106117_ju18@yandex.ru</td>\n",
              "      <td>Юлия</td>\n",
              "      <td>ID9010020114553</td>\n",
              "      <td>0</td>\n",
              "    </tr>\n",
              "    <tr>\n",
              "      <th>1</th>\n",
              "      <td>01.03.2017 12:22</td>\n",
              "      <td>15.03.2017 0:00</td>\n",
              "      <td>3999117_TR</td>\n",
              "      <td>Доставлен</td>\n",
              "      <td>4 819</td>\n",
              "      <td>3 759</td>\n",
              "      <td>Магазины</td>\n",
              "      <td>Безналичная</td>\n",
              "      <td>Челябинск</td>\n",
              "      <td>ТЕКСТИЛЬ, ТРИКОТАЖ</td>\n",
              "      <td>ОДЕЖДА ДЛЯ НОВОРОЖДЕННЫХ (0-2 лет)</td>\n",
              "      <td>боди</td>\n",
              "      <td>ОДЕЖДА</td>\n",
              "      <td>GAMEX, БОДИ кор. рук. Roza, (бел/сер), р. 86, ...</td>\n",
              "      <td>МГТ</td>\n",
              "      <td>Нет</td>\n",
              "      <td>1</td>\n",
              "      <td>379</td>\n",
              "      <td>379</td>\n",
              "      <td>209,8</td>\n",
              "      <td>3</td>\n",
              "      <td>2 017</td>\n",
              "      <td>Доставлен</td>\n",
              "      <td>Регионы</td>\n",
              "      <td>169,2</td>\n",
              "      <td>0</td>\n",
              "      <td>0</td>\n",
              "      <td>3</td>\n",
              "      <td>1</td>\n",
              "      <td>01.03.2017 0:00</td>\n",
              "      <td>55575453-56535648535679</td>\n",
              "      <td>107117_ku16@list.ru</td>\n",
              "      <td>Гость</td>\n",
              "      <td>IDL00028974351</td>\n",
              "      <td>0</td>\n",
              "    </tr>\n",
              "    <tr>\n",
              "      <th>2</th>\n",
              "      <td>01.03.2017 12:31</td>\n",
              "      <td>17.03.2017 0:00</td>\n",
              "      <td>3999122_TR</td>\n",
              "      <td>Доставлен</td>\n",
              "      <td>3 325</td>\n",
              "      <td>3 325</td>\n",
              "      <td>Магазины</td>\n",
              "      <td>Безналичная</td>\n",
              "      <td>Нижневартовск</td>\n",
              "      <td>ИГРУШКИ</td>\n",
              "      <td>ИГРУШКИ ДЛЯ ДЕВОЧЕК</td>\n",
              "      <td>имитационные игрушки для девочек</td>\n",
              "      <td>ИГРУШКИ</td>\n",
              "      <td>ИГРУША, ХОЛОДИЛЬНИК (на бат), (29,5*19*45,5 см)</td>\n",
              "      <td>МГТ</td>\n",
              "      <td>Нет</td>\n",
              "      <td>1</td>\n",
              "      <td>3 325</td>\n",
              "      <td>3 325</td>\n",
              "      <td>1 149</td>\n",
              "      <td>3</td>\n",
              "      <td>2 017</td>\n",
              "      <td>Доставлен</td>\n",
              "      <td>Регионы</td>\n",
              "      <td>2 176</td>\n",
              "      <td>0</td>\n",
              "      <td>0</td>\n",
              "      <td>1</td>\n",
              "      <td>1</td>\n",
              "      <td>01.03.2017 0:00</td>\n",
              "      <td>55574950-57515657535772</td>\n",
              "      <td>109117_mu17@mail.ru</td>\n",
              "      <td>Гость</td>\n",
              "      <td>IDL00038573351</td>\n",
              "      <td>0</td>\n",
              "    </tr>\n",
              "    <tr>\n",
              "      <th>3</th>\n",
              "      <td>01.03.2017 3:06</td>\n",
              "      <td>02.03.2017 0:00</td>\n",
              "      <td>3999363_TR</td>\n",
              "      <td>К отгрузке</td>\n",
              "      <td>4 998</td>\n",
              "      <td>4 998</td>\n",
              "      <td>Курьерская</td>\n",
              "      <td>Наличная</td>\n",
              "      <td>Москва</td>\n",
              "      <td>ТЕКСТИЛЬ, ТРИКОТАЖ</td>\n",
              "      <td>ОДЕЖДА ДЛЯ НОВОРОЖДЕННЫХ (0-2 лет)</td>\n",
              "      <td>ползунки</td>\n",
              "      <td>ОДЕЖДА</td>\n",
              "      <td>MAMATTI, ПОЛЗУНКИ Elephant, р. 68, Польша</td>\n",
              "      <td>МГТ</td>\n",
              "      <td>Нет</td>\n",
              "      <td>1</td>\n",
              "      <td>330</td>\n",
              "      <td>330</td>\n",
              "      <td>166,96</td>\n",
              "      <td>3</td>\n",
              "      <td>2 017</td>\n",
              "      <td>Доставлен</td>\n",
              "      <td>Москва</td>\n",
              "      <td>163,04</td>\n",
              "      <td>0</td>\n",
              "      <td>0</td>\n",
              "      <td>4</td>\n",
              "      <td>0</td>\n",
              "      <td>01.03.2017 0:00</td>\n",
              "      <td>55574851-55545249535475</td>\n",
              "      <td>115117_su13@mail.ru</td>\n",
              "      <td>Гость</td>\n",
              "      <td>IDL00034303856</td>\n",
              "      <td>0</td>\n",
              "    </tr>\n",
              "    <tr>\n",
              "      <th>4</th>\n",
              "      <td>01.03.2017 11:38</td>\n",
              "      <td>14.03.2017 0:00</td>\n",
              "      <td>3999411_TR</td>\n",
              "      <td>Доставлен</td>\n",
              "      <td>528</td>\n",
              "      <td>528</td>\n",
              "      <td>Магазины</td>\n",
              "      <td>Безналичная</td>\n",
              "      <td>Ижевск</td>\n",
              "      <td>ИГРУШКИ</td>\n",
              "      <td>ИГРУШКИ ДЛЯ РАЗВИТИЯ МАЛЫШЕЙ</td>\n",
              "      <td>игрушки для ванной</td>\n",
              "      <td>ИГРУШКИ</td>\n",
              "      <td>S+S TOYS, ИГРУШКА ПВХ в наборе, (2 шт)</td>\n",
              "      <td>МГТ</td>\n",
              "      <td>Нет</td>\n",
              "      <td>1</td>\n",
              "      <td>199</td>\n",
              "      <td>199</td>\n",
              "      <td>79</td>\n",
              "      <td>3</td>\n",
              "      <td>2 017</td>\n",
              "      <td>Доставлен</td>\n",
              "      <td>Регионы</td>\n",
              "      <td>120</td>\n",
              "      <td>0</td>\n",
              "      <td>0</td>\n",
              "      <td>3</td>\n",
              "      <td>1</td>\n",
              "      <td>01.03.2017 0:00</td>\n",
              "      <td>55574854-56495552515179</td>\n",
              "      <td>guest_103117_gu28@workmail.ru</td>\n",
              "      <td>Гость</td>\n",
              "      <td>IDL00035791553</td>\n",
              "      <td>0</td>\n",
              "    </tr>\n",
              "  </tbody>\n",
              "</table>\n",
              "</div>"
            ],
            "text/plain": [
              "               Дата     ДатаДоставки  ...           ID_SKU ГородМагазина\n",
              "0  01.03.2017 11:41  07.03.2017 0:00  ...  ID9010020114553             0\n",
              "1  01.03.2017 12:22  15.03.2017 0:00  ...   IDL00028974351             0\n",
              "2  01.03.2017 12:31  17.03.2017 0:00  ...   IDL00038573351             0\n",
              "3   01.03.2017 3:06  02.03.2017 0:00  ...   IDL00034303856             0\n",
              "4  01.03.2017 11:38  14.03.2017 0:00  ...   IDL00035791553             0\n",
              "\n",
              "[5 rows x 35 columns]"
            ]
          },
          "metadata": {
            "tags": []
          },
          "execution_count": 9
        }
      ]
    },
    {
      "cell_type": "code",
      "metadata": {
        "id": "3rcM79Sg2AMZ",
        "colab_type": "code",
        "colab": {
          "base_uri": "https://localhost:8080/",
          "height": 35
        },
        "outputId": "065bd35e-3153-4505-f09d-b9642a8a4e3c"
      },
      "source": [
        "df.shape"
      ],
      "execution_count": 12,
      "outputs": [
        {
          "output_type": "execute_result",
          "data": {
            "text/plain": [
              "(691539, 35)"
            ]
          },
          "metadata": {
            "tags": []
          },
          "execution_count": 12
        }
      ]
    },
    {
      "cell_type": "markdown",
      "metadata": {
        "id": "rRNDTPSpfpnH",
        "colab_type": "text"
      },
      "source": [
        "As we can see there are also many rows that are missing many important values. So, we will also drop rows with more than 6 empty parameters."
      ]
    },
    {
      "cell_type": "code",
      "metadata": {
        "id": "TjDZ8EYvfpnH",
        "colab_type": "code",
        "colab": {}
      },
      "source": [
        "df = df.dropna(axis = 0, thresh = 30)"
      ],
      "execution_count": 30,
      "outputs": []
    },
    {
      "cell_type": "code",
      "metadata": {
        "id": "oC7SPYj3fpnL",
        "colab_type": "code",
        "colab": {
          "base_uri": "https://localhost:8080/",
          "height": 841
        },
        "outputId": "03c4b5cb-b4ab-4383-a942-2f97bfa99aaa"
      },
      "source": [
        "fig, ax = plt.subplots(figsize=(20,12))\n",
        "sns_heatmap = sns.heatmap(df.isnull(), yticklabels=False, cbar=False, cmap='viridis')"
      ],
      "execution_count": 16,
      "outputs": [
        {
          "output_type": "display_data",
          "data": {
            "image/png": "[encoded data removed]",
            "text/plain": [
              "<Figure size 1440x864 with 1 Axes>"
            ]
          },
          "metadata": {
            "tags": [],
            "needs_background": "light"
          }
        }
      ]
    },
    {
      "cell_type": "markdown",
      "metadata": {
        "id": "F_o7np9CfpnO",
        "colab_type": "text"
      },
      "source": [
        "Now there are not so many empty cells in our DataFrame."
      ]
    },
    {
      "cell_type": "code",
      "metadata": {
        "id": "c1vztXMTfpnP",
        "colab_type": "code",
        "colab": {
          "base_uri": "https://localhost:8080/",
          "height": 35
        },
        "outputId": "542f5f8c-fbf1-4651-b814-6d845e46f8c5"
      },
      "source": [
        "df.shape"
      ],
      "execution_count": 17,
      "outputs": [
        {
          "output_type": "execute_result",
          "data": {
            "text/plain": [
              "(616849, 35)"
            ]
          },
          "metadata": {
            "tags": []
          },
          "execution_count": 17
        }
      ]
    },
    {
      "cell_type": "markdown",
      "metadata": {
        "id": "z42d-VUSfpnS",
        "colab_type": "text"
      },
      "source": [
        "Next step is to check whether the type of data in each column corresponds its type logicaly"
      ]
    },
    {
      "cell_type": "code",
      "metadata": {
        "id": "uz0tJQsWfpnT",
        "colab_type": "code",
        "colab": {
          "base_uri": "https://localhost:8080/",
          "height": 764
        },
        "outputId": "5f8d9fe5-a75e-4267-dedb-4950a99a84ad"
      },
      "source": [
        "df.info()"
      ],
      "execution_count": 18,
      "outputs": [
        {
          "output_type": "stream",
          "text": [
            "<class 'pandas.core.frame.DataFrame'>\n",
            "Int64Index: 616849 entries, 0 to 691538\n",
            "Data columns (total 35 columns):\n",
            " #   Column                    Non-Null Count   Dtype \n",
            "---  ------                    --------------   ----- \n",
            " 0   Дата                      616849 non-null  object\n",
            " 1   ДатаДоставки              616230 non-null  object\n",
            " 2   НомерЗаказаНаСайте        616849 non-null  object\n",
            " 3   НовыйСтатус               616849 non-null  object\n",
            " 4   СуммаЗаказаНаСайте        616849 non-null  object\n",
            " 5   СуммаДокумента            616849 non-null  object\n",
            " 6   МетодДоставки             616849 non-null  object\n",
            " 7   ФормаОплаты               616849 non-null  object\n",
            " 8   Регион                    611798 non-null  object\n",
            " 9   Группа2                   616849 non-null  object\n",
            " 10  Группа3                   616849 non-null  object\n",
            " 11  Группа4                   585910 non-null  object\n",
            " 12  Тип                       616849 non-null  object\n",
            " 13  Номенклатура              616849 non-null  object\n",
            " 14  ТипТовара                 616849 non-null  object\n",
            " 15  Отменено                  616849 non-null  object\n",
            " 16  Количество                616849 non-null  int64 \n",
            " 17  Цена                      616849 non-null  object\n",
            " 18  СуммаСтроки               616849 non-null  object\n",
            " 19  ЦенаЗакупки               614622 non-null  object\n",
            " 20  МесяцДатыЗаказа           616849 non-null  int64 \n",
            " 21  ГодДатыЗаказа             616849 non-null  object\n",
            " 22  Статус                    616849 non-null  object\n",
            " 23  Гео                       616849 non-null  object\n",
            " 24  Маржа                     614622 non-null  object\n",
            " 25  СуммаУслуг                616849 non-null  object\n",
            " 26  СуммаДоставки             616849 non-null  object\n",
            " 27  НомерСтроки               616849 non-null  int64 \n",
            " 28  КоличествоПроданоКлиенту  616849 non-null  int64 \n",
            " 29  ДатаЗаказаНаСайте         616849 non-null  object\n",
            " 30  Телефон_new               616849 non-null  object\n",
            " 31  ЭлектроннаяПочта_new      605550 non-null  object\n",
            " 32  Клиент                    616574 non-null  object\n",
            " 33  ID_SKU                    616849 non-null  object\n",
            " 34  ГородМагазина             616849 non-null  object\n",
            "dtypes: int64(4), object(31)\n",
            "memory usage: 169.4+ MB\n"
          ],
          "name": "stdout"
        }
      ]
    },
    {
      "cell_type": "markdown",
      "metadata": {
        "id": "FfCbqdIcfpnV",
        "colab_type": "text"
      },
      "source": [
        "As we can see most of columns have type 'object'. This type does not suits columns with numeric values. The reason for it is that in intiatial file thousandths are separated with other digits of numbers by spaces. In addition to this, decimal part of numbers is separates with commas. We need to delite spases and replace commas with points. After this actions we can change the type of the columns and get float64 type."
      ]
    },
    {
      "cell_type": "code",
      "metadata": {
        "id": "Gim8Xj_HfpnV",
        "colab_type": "code",
        "colab": {}
      },
      "source": [
        "numeric_columns = ['СуммаЗаказаНаСайте', 'Цена', 'Маржа', 'СуммаУслуг', 'СуммаСтроки']"
      ],
      "execution_count": 31,
      "outputs": []
    },
    {
      "cell_type": "code",
      "metadata": {
        "id": "pz3qRn8mfpnY",
        "colab_type": "code",
        "colab": {}
      },
      "source": [
        "for column in numeric_columns:\n",
        "    df[column] = df[column].replace(r'\\s+','',regex=True)\n",
        "    df[column] = df[column].replace(',','.',regex=True)\n",
        "    df[column] = df[column].apply(pd.to_numeric)"
      ],
      "execution_count": 32,
      "outputs": []
    },
    {
      "cell_type": "code",
      "metadata": {
        "id": "10X6ipUifpna",
        "colab_type": "code",
        "colab": {
          "base_uri": "https://localhost:8080/",
          "height": 764
        },
        "outputId": "be6f3faa-0111-40ae-e2a0-8866f2bb6e84"
      },
      "source": [
        "df.info()"
      ],
      "execution_count": 21,
      "outputs": [
        {
          "output_type": "stream",
          "text": [
            "<class 'pandas.core.frame.DataFrame'>\n",
            "Int64Index: 616849 entries, 0 to 691538\n",
            "Data columns (total 35 columns):\n",
            " #   Column                    Non-Null Count   Dtype  \n",
            "---  ------                    --------------   -----  \n",
            " 0   Дата                      616849 non-null  object \n",
            " 1   ДатаДоставки              616230 non-null  object \n",
            " 2   НомерЗаказаНаСайте        616849 non-null  object \n",
            " 3   НовыйСтатус               616849 non-null  object \n",
            " 4   СуммаЗаказаНаСайте        616849 non-null  int64  \n",
            " 5   СуммаДокумента            616849 non-null  object \n",
            " 6   МетодДоставки             616849 non-null  object \n",
            " 7   ФормаОплаты               616849 non-null  object \n",
            " 8   Регион                    611798 non-null  object \n",
            " 9   Группа2                   616849 non-null  object \n",
            " 10  Группа3                   616849 non-null  object \n",
            " 11  Группа4                   585910 non-null  object \n",
            " 12  Тип                       616849 non-null  object \n",
            " 13  Номенклатура              616849 non-null  object \n",
            " 14  ТипТовара                 616849 non-null  object \n",
            " 15  Отменено                  616849 non-null  object \n",
            " 16  Количество                616849 non-null  int64  \n",
            " 17  Цена                      616849 non-null  float64\n",
            " 18  СуммаСтроки               616849 non-null  float64\n",
            " 19  ЦенаЗакупки               614622 non-null  object \n",
            " 20  МесяцДатыЗаказа           616849 non-null  int64  \n",
            " 21  ГодДатыЗаказа             616849 non-null  object \n",
            " 22  Статус                    616849 non-null  object \n",
            " 23  Гео                       616849 non-null  object \n",
            " 24  Маржа                     614622 non-null  float64\n",
            " 25  СуммаУслуг                616849 non-null  int64  \n",
            " 26  СуммаДоставки             616849 non-null  object \n",
            " 27  НомерСтроки               616849 non-null  int64  \n",
            " 28  КоличествоПроданоКлиенту  616849 non-null  int64  \n",
            " 29  ДатаЗаказаНаСайте         616849 non-null  object \n",
            " 30  Телефон_new               616849 non-null  object \n",
            " 31  ЭлектроннаяПочта_new      605550 non-null  object \n",
            " 32  Клиент                    616574 non-null  object \n",
            " 33  ID_SKU                    616849 non-null  object \n",
            " 34  ГородМагазина             616849 non-null  object \n",
            "dtypes: float64(3), int64(6), object(26)\n",
            "memory usage: 169.4+ MB\n"
          ],
          "name": "stdout"
        }
      ]
    },
    {
      "cell_type": "code",
      "metadata": {
        "id": "BBLWOWl6fpnd",
        "colab_type": "code",
        "colab": {}
      },
      "source": [
        "df = df[(df['НовыйСтатус'] == 'Доставлен') & (df['Отменено'] == 'Нет') & (df['КоличествоПроданоКлиенту'] > 0) & (df['Телефон_new'] != '0')]\n",
        "df.rename(columns={'СуммаСтроки': 'Revenue', 'Маржа': 'Marge'}, inplace=True)"
      ],
      "execution_count": 22,
      "outputs": []
    },
    {
      "cell_type": "code",
      "metadata": {
        "id": "E8cAhrqT3KZ2",
        "colab_type": "code",
        "colab": {
          "base_uri": "https://localhost:8080/",
          "height": 841
        },
        "outputId": "37633fe5-b1b4-42e9-d0ea-845a63ba7e3e"
      },
      "source": [
        "fig, ax = plt.subplots(figsize=(20,12))\n",
        "sns_heatmap = sns.heatmap(df.isnull(), yticklabels=False, cbar=False, cmap='viridis')"
      ],
      "execution_count": 23,
      "outputs": [
        {
          "output_type": "display_data",
          "data": {
            "image/png": "[encoded data removed]",
            "text/plain": [
              "<Figure size 1440x864 with 1 Axes>"
            ]
          },
          "metadata": {
            "tags": [],
            "needs_background": "light"
          }
        }
      ]
    },
    {
      "cell_type": "code",
      "metadata": {
        "id": "0chogbDLfpnf",
        "colab_type": "code",
        "colab": {
          "base_uri": "https://localhost:8080/",
          "height": 35
        },
        "outputId": "baefe8ee-44c6-42d2-dc71-6b4ca1f381cd"
      },
      "source": [
        "df.shape"
      ],
      "execution_count": 24,
      "outputs": [
        {
          "output_type": "execute_result",
          "data": {
            "text/plain": [
              "(214455, 35)"
            ]
          },
          "metadata": {
            "tags": []
          },
          "execution_count": 24
        }
      ]
    },
    {
      "cell_type": "code",
      "metadata": {
        "id": "MtdEGyBGfpnh",
        "colab_type": "code",
        "colab": {
          "base_uri": "https://localhost:8080/",
          "height": 35
        },
        "outputId": "9b28c5e9-2085-45f9-bce7-14b8382ac8b7"
      },
      "source": [
        "df['Revenue'].sum()"
      ],
      "execution_count": 25,
      "outputs": [
        {
          "output_type": "execute_result",
          "data": {
            "text/plain": [
              "231431823.20000002"
            ]
          },
          "metadata": {
            "tags": []
          },
          "execution_count": 25
        }
      ]
    },
    {
      "cell_type": "code",
      "metadata": {
        "id": "6w0vJ732QBOy",
        "colab_type": "code",
        "colab": {
          "base_uri": "https://localhost:8080/",
          "height": 35
        },
        "outputId": "dc8894c5-1aa7-4e3a-c6ad-fc2435a7e8a8"
      },
      "source": [
        "df['Marge'].sum()"
      ],
      "execution_count": 26,
      "outputs": [
        {
          "output_type": "execute_result",
          "data": {
            "text/plain": [
              "52277156.050000004"
            ]
          },
          "metadata": {
            "tags": []
          },
          "execution_count": 26
        }
      ]
    },
    {
      "cell_type": "markdown",
      "metadata": {
        "id": "yj_yDO4Dfpnc",
        "colab_type": "text"
      },
      "source": [
        "Now, we will save this DataFrame in a new csv file and will work with this new file"
      ]
    },
    {
      "cell_type": "code",
      "metadata": {
        "id": "1edUAJsVfpnk",
        "colab_type": "code",
        "colab": {}
      },
      "source": [
        "#df.to_csv('clean_data_final01.csv')\n",
        "df.to_csv(path+'clean_data_final01.csv')"
      ],
      "execution_count": null,
      "outputs": []
    },
    {
      "cell_type": "code",
      "metadata": {
        "id": "8gC6e5rYfpnm",
        "colab_type": "code",
        "colab": {}
      },
      "source": [
        "df.rename(columns={'СуммаСтроки': 'Revenue', 'Маржа': 'Marge', }, inplace=True)\n",
        "df_by_bills = df[['НомерЗаказаНаСайте', 'Revenue', 'Marge', 'Количество']].groupby('НомерЗаказаНаСайте').aggregate(sum)\n",
        "df_by_bills = df_by_bills.fillna(0)"
      ],
      "execution_count": null,
      "outputs": []
    },
    {
      "cell_type": "code",
      "metadata": {
        "id": "4rw7PJaJfpno",
        "colab_type": "code",
        "colab": {}
      },
      "source": [
        "df_data = df[['Дата','НомерЗаказаНаСайте']].drop_duplicates()"
      ],
      "execution_count": null,
      "outputs": []
    },
    {
      "cell_type": "code",
      "metadata": {
        "id": "Ux6B_zyXfpns",
        "colab_type": "code",
        "colab": {
          "base_uri": "https://localhost:8080/",
          "height": 419
        },
        "outputId": "3929e49e-92a6-4c46-bbd7-a0354949eb83"
      },
      "source": [
        "df_by_bills = df_by_bills.merge(df_data, how='right', on='НомерЗаказаНаСайте')\n",
        "df_by_bills"
      ],
      "execution_count": null,
      "outputs": [
        {
          "output_type": "execute_result",
          "data": {
            "text/html": [
              "<div>\n",
              "<style scoped>\n",
              "    .dataframe tbody tr th:only-of-type {\n",
              "        vertical-align: middle;\n",
              "    }\n",
              "\n",
              "    .dataframe tbody tr th {\n",
              "        vertical-align: top;\n",
              "    }\n",
              "\n",
              "    .dataframe thead th {\n",
              "        text-align: right;\n",
              "    }\n",
              "</style>\n",
              "<table border=\"1\" class=\"dataframe\">\n",
              "  <thead>\n",
              "    <tr style=\"text-align: right;\">\n",
              "      <th></th>\n",
              "      <th>НомерЗаказаНаСайте</th>\n",
              "      <th>Revenue</th>\n",
              "      <th>Marge</th>\n",
              "      <th>Количество</th>\n",
              "      <th>Дата</th>\n",
              "    </tr>\n",
              "  </thead>\n",
              "  <tbody>\n",
              "    <tr>\n",
              "      <th>0</th>\n",
              "      <td>1303000313_TR</td>\n",
              "      <td>247.0</td>\n",
              "      <td>63.08</td>\n",
              "      <td>1</td>\n",
              "      <td>04.03.2017 9:53</td>\n",
              "    </tr>\n",
              "    <tr>\n",
              "      <th>1</th>\n",
              "      <td>1303000319_TR</td>\n",
              "      <td>13300.0</td>\n",
              "      <td>3246.00</td>\n",
              "      <td>1</td>\n",
              "      <td>16.03.2017 12:58</td>\n",
              "    </tr>\n",
              "    <tr>\n",
              "      <th>2</th>\n",
              "      <td>1303000321_TR</td>\n",
              "      <td>16150.0</td>\n",
              "      <td>4436.07</td>\n",
              "      <td>1</td>\n",
              "      <td>18.03.2017 18:22</td>\n",
              "    </tr>\n",
              "    <tr>\n",
              "      <th>3</th>\n",
              "      <td>1303000323_TR</td>\n",
              "      <td>4180.0</td>\n",
              "      <td>1345.00</td>\n",
              "      <td>1</td>\n",
              "      <td>23.03.2017 20:01</td>\n",
              "    </tr>\n",
              "    <tr>\n",
              "      <th>4</th>\n",
              "      <td>1303000324_TR</td>\n",
              "      <td>18500.0</td>\n",
              "      <td>3400.00</td>\n",
              "      <td>1</td>\n",
              "      <td>24.03.2017 10:06</td>\n",
              "    </tr>\n",
              "    <tr>\n",
              "      <th>...</th>\n",
              "      <td>...</td>\n",
              "      <td>...</td>\n",
              "      <td>...</td>\n",
              "      <td>...</td>\n",
              "      <td>...</td>\n",
              "    </tr>\n",
              "    <tr>\n",
              "      <th>75074</th>\n",
              "      <td>4513463_TR</td>\n",
              "      <td>1932.0</td>\n",
              "      <td>429.28</td>\n",
              "      <td>4</td>\n",
              "      <td>30.04.2017 23:48</td>\n",
              "    </tr>\n",
              "    <tr>\n",
              "      <th>75075</th>\n",
              "      <td>4513474_TR</td>\n",
              "      <td>2002.0</td>\n",
              "      <td>558.57</td>\n",
              "      <td>10</td>\n",
              "      <td>30.04.2017 23:53</td>\n",
              "    </tr>\n",
              "    <tr>\n",
              "      <th>75076</th>\n",
              "      <td>4513480_TR</td>\n",
              "      <td>4864.0</td>\n",
              "      <td>910.86</td>\n",
              "      <td>2</td>\n",
              "      <td>30.04.2017 23:58</td>\n",
              "    </tr>\n",
              "    <tr>\n",
              "      <th>75077</th>\n",
              "      <td>4513486_TR</td>\n",
              "      <td>1436.0</td>\n",
              "      <td>-118.60</td>\n",
              "      <td>3</td>\n",
              "      <td>30.04.2017 23:58</td>\n",
              "    </tr>\n",
              "    <tr>\n",
              "      <th>75078</th>\n",
              "      <td>4513487_TR</td>\n",
              "      <td>2319.0</td>\n",
              "      <td>107.62</td>\n",
              "      <td>44</td>\n",
              "      <td>30.04.2017 23:58</td>\n",
              "    </tr>\n",
              "  </tbody>\n",
              "</table>\n",
              "<p>75079 rows × 5 columns</p>\n",
              "</div>"
            ],
            "text/plain": [
              "      НомерЗаказаНаСайте  Revenue    Marge  Количество              Дата\n",
              "0          1303000313_TR    247.0    63.08           1   04.03.2017 9:53\n",
              "1          1303000319_TR  13300.0  3246.00           1  16.03.2017 12:58\n",
              "2          1303000321_TR  16150.0  4436.07           1  18.03.2017 18:22\n",
              "3          1303000323_TR   4180.0  1345.00           1  23.03.2017 20:01\n",
              "4          1303000324_TR  18500.0  3400.00           1  24.03.2017 10:06\n",
              "...                  ...      ...      ...         ...               ...\n",
              "75074         4513463_TR   1932.0   429.28           4  30.04.2017 23:48\n",
              "75075         4513474_TR   2002.0   558.57          10  30.04.2017 23:53\n",
              "75076         4513480_TR   4864.0   910.86           2  30.04.2017 23:58\n",
              "75077         4513486_TR   1436.0  -118.60           3  30.04.2017 23:58\n",
              "75078         4513487_TR   2319.0   107.62          44  30.04.2017 23:58\n",
              "\n",
              "[75079 rows x 5 columns]"
            ]
          },
          "metadata": {
            "tags": []
          },
          "execution_count": 21
        }
      ]
    },
    {
      "cell_type": "code",
      "metadata": {
        "id": "Yy7U5g5Ofpnv",
        "colab_type": "code",
        "colab": {}
      },
      "source": [
        "date = [] \n",
        "hours = []\n",
        "weekdays = []\n",
        "for item in df_by_bills['Дата']:\n",
        "    \n",
        "    x =  pd.to_datetime(item, format=\"%d.%m.%Y %H:%M\")\n",
        "    a = x.timetuple()\n",
        "    hours.append(a[3])\n",
        "    weekdays.append(a[6])\n",
        "    date.append(x.replace(minute=0, hour =0))\n",
        "    \n",
        "\n",
        "df_by_bills['Date'] = date\n",
        "df_by_bills['Hours'] = hours\n",
        "df_by_bills['Weekday'] = weekdays"
      ],
      "execution_count": null,
      "outputs": []
    },
    {
      "cell_type": "code",
      "metadata": {
        "id": "Tw2luYS9fpnx",
        "colab_type": "code",
        "colab": {
          "base_uri": "https://localhost:8080/",
          "height": 419
        },
        "outputId": "77d114c8-32ce-4ef4-b6ac-e1f3531474ba"
      },
      "source": [
        "df_by_bills"
      ],
      "execution_count": null,
      "outputs": [
        {
          "output_type": "execute_result",
          "data": {
            "text/html": [
              "<div>\n",
              "<style scoped>\n",
              "    .dataframe tbody tr th:only-of-type {\n",
              "        vertical-align: middle;\n",
              "    }\n",
              "\n",
              "    .dataframe tbody tr th {\n",
              "        vertical-align: top;\n",
              "    }\n",
              "\n",
              "    .dataframe thead th {\n",
              "        text-align: right;\n",
              "    }\n",
              "</style>\n",
              "<table border=\"1\" class=\"dataframe\">\n",
              "  <thead>\n",
              "    <tr style=\"text-align: right;\">\n",
              "      <th></th>\n",
              "      <th>НомерЗаказаНаСайте</th>\n",
              "      <th>Revenue</th>\n",
              "      <th>Marge</th>\n",
              "      <th>Количество</th>\n",
              "      <th>Дата</th>\n",
              "      <th>Date</th>\n",
              "      <th>Hours</th>\n",
              "      <th>Weekday</th>\n",
              "    </tr>\n",
              "  </thead>\n",
              "  <tbody>\n",
              "    <tr>\n",
              "      <th>0</th>\n",
              "      <td>1303000313_TR</td>\n",
              "      <td>247.0</td>\n",
              "      <td>63.08</td>\n",
              "      <td>1</td>\n",
              "      <td>04.03.2017 9:53</td>\n",
              "      <td>2017-03-04</td>\n",
              "      <td>9</td>\n",
              "      <td>5</td>\n",
              "    </tr>\n",
              "    <tr>\n",
              "      <th>1</th>\n",
              "      <td>1303000319_TR</td>\n",
              "      <td>13300.0</td>\n",
              "      <td>3246.00</td>\n",
              "      <td>1</td>\n",
              "      <td>16.03.2017 12:58</td>\n",
              "      <td>2017-03-16</td>\n",
              "      <td>12</td>\n",
              "      <td>3</td>\n",
              "    </tr>\n",
              "    <tr>\n",
              "      <th>2</th>\n",
              "      <td>1303000321_TR</td>\n",
              "      <td>16150.0</td>\n",
              "      <td>4436.07</td>\n",
              "      <td>1</td>\n",
              "      <td>18.03.2017 18:22</td>\n",
              "      <td>2017-03-18</td>\n",
              "      <td>18</td>\n",
              "      <td>5</td>\n",
              "    </tr>\n",
              "    <tr>\n",
              "      <th>3</th>\n",
              "      <td>1303000323_TR</td>\n",
              "      <td>4180.0</td>\n",
              "      <td>1345.00</td>\n",
              "      <td>1</td>\n",
              "      <td>23.03.2017 20:01</td>\n",
              "      <td>2017-03-23</td>\n",
              "      <td>20</td>\n",
              "      <td>3</td>\n",
              "    </tr>\n",
              "    <tr>\n",
              "      <th>4</th>\n",
              "      <td>1303000324_TR</td>\n",
              "      <td>18500.0</td>\n",
              "      <td>3400.00</td>\n",
              "      <td>1</td>\n",
              "      <td>24.03.2017 10:06</td>\n",
              "      <td>2017-03-24</td>\n",
              "      <td>10</td>\n",
              "      <td>4</td>\n",
              "    </tr>\n",
              "    <tr>\n",
              "      <th>...</th>\n",
              "      <td>...</td>\n",
              "      <td>...</td>\n",
              "      <td>...</td>\n",
              "      <td>...</td>\n",
              "      <td>...</td>\n",
              "      <td>...</td>\n",
              "      <td>...</td>\n",
              "      <td>...</td>\n",
              "    </tr>\n",
              "    <tr>\n",
              "      <th>75074</th>\n",
              "      <td>4513463_TR</td>\n",
              "      <td>1932.0</td>\n",
              "      <td>429.28</td>\n",
              "      <td>4</td>\n",
              "      <td>30.04.2017 23:48</td>\n",
              "      <td>2017-04-30</td>\n",
              "      <td>23</td>\n",
              "      <td>6</td>\n",
              "    </tr>\n",
              "    <tr>\n",
              "      <th>75075</th>\n",
              "      <td>4513474_TR</td>\n",
              "      <td>2002.0</td>\n",
              "      <td>558.57</td>\n",
              "      <td>10</td>\n",
              "      <td>30.04.2017 23:53</td>\n",
              "      <td>2017-04-30</td>\n",
              "      <td>23</td>\n",
              "      <td>6</td>\n",
              "    </tr>\n",
              "    <tr>\n",
              "      <th>75076</th>\n",
              "      <td>4513480_TR</td>\n",
              "      <td>4864.0</td>\n",
              "      <td>910.86</td>\n",
              "      <td>2</td>\n",
              "      <td>30.04.2017 23:58</td>\n",
              "      <td>2017-04-30</td>\n",
              "      <td>23</td>\n",
              "      <td>6</td>\n",
              "    </tr>\n",
              "    <tr>\n",
              "      <th>75077</th>\n",
              "      <td>4513486_TR</td>\n",
              "      <td>1436.0</td>\n",
              "      <td>-118.60</td>\n",
              "      <td>3</td>\n",
              "      <td>30.04.2017 23:58</td>\n",
              "      <td>2017-04-30</td>\n",
              "      <td>23</td>\n",
              "      <td>6</td>\n",
              "    </tr>\n",
              "    <tr>\n",
              "      <th>75078</th>\n",
              "      <td>4513487_TR</td>\n",
              "      <td>2319.0</td>\n",
              "      <td>107.62</td>\n",
              "      <td>44</td>\n",
              "      <td>30.04.2017 23:58</td>\n",
              "      <td>2017-04-30</td>\n",
              "      <td>23</td>\n",
              "      <td>6</td>\n",
              "    </tr>\n",
              "  </tbody>\n",
              "</table>\n",
              "<p>75079 rows × 8 columns</p>\n",
              "</div>"
            ],
            "text/plain": [
              "      НомерЗаказаНаСайте  Revenue    Marge  ...       Date Hours Weekday\n",
              "0          1303000313_TR    247.0    63.08  ... 2017-03-04     9       5\n",
              "1          1303000319_TR  13300.0  3246.00  ... 2017-03-16    12       3\n",
              "2          1303000321_TR  16150.0  4436.07  ... 2017-03-18    18       5\n",
              "3          1303000323_TR   4180.0  1345.00  ... 2017-03-23    20       3\n",
              "4          1303000324_TR  18500.0  3400.00  ... 2017-03-24    10       4\n",
              "...                  ...      ...      ...  ...        ...   ...     ...\n",
              "75074         4513463_TR   1932.0   429.28  ... 2017-04-30    23       6\n",
              "75075         4513474_TR   2002.0   558.57  ... 2017-04-30    23       6\n",
              "75076         4513480_TR   4864.0   910.86  ... 2017-04-30    23       6\n",
              "75077         4513486_TR   1436.0  -118.60  ... 2017-04-30    23       6\n",
              "75078         4513487_TR   2319.0   107.62  ... 2017-04-30    23       6\n",
              "\n",
              "[75079 rows x 8 columns]"
            ]
          },
          "metadata": {
            "tags": []
          },
          "execution_count": 23
        }
      ]
    },
    {
      "cell_type": "code",
      "metadata": {
        "id": "dH4CUc5Zfpn1",
        "colab_type": "code",
        "colab": {}
      },
      "source": [
        "df_by_bills.to_csv(path+'clean_data_drouped_by_bills.csv')"
      ],
      "execution_count": null,
      "outputs": []
    }
  ]
}