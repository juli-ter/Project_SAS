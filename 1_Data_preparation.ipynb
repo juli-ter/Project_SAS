{
  "nbformat": 4,
  "nbformat_minor": 0,
  "metadata": {
    "kernelspec": {
      "display_name": "Python 3",
      "language": "python",
      "name": "python3"
    },
    "language_info": {
      "codemirror_mode": {
        "name": "ipython",
        "version": 3
      },
      "file_extension": ".py",
      "mimetype": "text/x-python",
      "name": "python",
      "nbconvert_exporter": "python",
      "pygments_lexer": "ipython3",
      "version": "3.7.4"
    },
    "colab": {
      "name": "1. Data preparation.ipynb",
      "provenance": [],
      "include_colab_link": true
    }
  },
  "cells": [
    {
      "cell_type": "markdown",
      "metadata": {
        "id": "view-in-github",
        "colab_type": "text"
      },
      "source": [
        "<a href=\"https://colab.research.google.com/github/juli-ter/Project_SAS/blob/master/1_Data_preparation.ipynb\" target=\"_parent\"><img src=\"https://colab.research.google.com/assets/colab-badge.svg\" alt=\"Open In Colab\"/></a>"
      ]
    },
    {
      "cell_type": "markdown",
      "metadata": {
        "id": "CZv34scwfpmn",
        "colab_type": "text"
      },
      "source": [
        "# 1. Data preparation"
      ]
    },
    {
      "cell_type": "markdown",
      "metadata": {
        "id": "RwOhLlUzfpmo",
        "colab_type": "text"
      },
      "source": [
        "First of all we need to import several libraries which will help us to work with table of data that we were given and some libraries will make visualisations. "
      ]
    },
    {
      "cell_type": "code",
      "metadata": {
        "id": "XTx3rj_Sfpmo",
        "colab_type": "code",
        "colab": {}
      },
      "source": [
        "import pandas as pd               \n",
        "import numpy as np                \n",
        "import matplotlib.pyplot as plt   \n",
        "import seaborn as sns             \n",
        "plt.style.use('ggplot')     \n",
        "\n",
        "%matplotlib inline"
      ],
      "execution_count": 0,
      "outputs": []
    },
    {
      "cell_type": "markdown",
      "metadata": {
        "id": "Zco3PS9qfpms",
        "colab_type": "text"
      },
      "source": [
        "Read data from the initial .csv file and put it in a DataFrame "
      ]
    },
    {
      "cell_type": "code",
      "metadata": {
        "id": "S-cVXDI2fpms",
        "colab_type": "code",
        "colab": {}
      },
      "source": [
        "df = pd.read_csv('исходник0.csv',delimiter=';', encoding= 'cp1251')"
      ],
      "execution_count": 0,
      "outputs": []
    },
    {
      "cell_type": "markdown",
      "metadata": {
        "id": "FncWBDjifpmv",
        "colab_type": "text"
      },
      "source": [
        "Lets have a look what our table inclues and what columns of which type is inside."
      ]
    },
    {
      "cell_type": "code",
      "metadata": {
        "id": "ICMa3W-Dfpmv",
        "colab_type": "code",
        "colab": {},
        "outputId": "2d39446f-322c-4294-b51d-2593d749a771"
      },
      "source": [
        "df.head()\n"
      ],
      "execution_count": 0,
      "outputs": [
        {
          "output_type": "execute_result",
          "data": {
            "text/html": [
              "<div>\n",
              "<style scoped>\n",
              "    .dataframe tbody tr th:only-of-type {\n",
              "        vertical-align: middle;\n",
              "    }\n",
              "\n",
              "    .dataframe tbody tr th {\n",
              "        vertical-align: top;\n",
              "    }\n",
              "\n",
              "    .dataframe thead th {\n",
              "        text-align: right;\n",
              "    }\n",
              "</style>\n",
              "<table border=\"1\" class=\"dataframe\">\n",
              "  <thead>\n",
              "    <tr style=\"text-align: right;\">\n",
              "      <th></th>\n",
              "      <th>Дата</th>\n",
              "      <th>ДатаДоставки</th>\n",
              "      <th>НомерЗаказаНаСайте</th>\n",
              "      <th>НовыйСтатус</th>\n",
              "      <th>СуммаЗаказаНаСайте</th>\n",
              "      <th>СуммаДокумента</th>\n",
              "      <th>МетодДоставки</th>\n",
              "      <th>ФормаОплаты</th>\n",
              "      <th>Регион</th>\n",
              "      <th>Группа2</th>\n",
              "      <th>...</th>\n",
              "      <th>СуммаДоставки</th>\n",
              "      <th>НомерСтроки</th>\n",
              "      <th>КоличествоПроданоКлиенту</th>\n",
              "      <th>ДатаЗаказаНаСайте</th>\n",
              "      <th>Телефон_new</th>\n",
              "      <th>ЭлектроннаяПочта_new</th>\n",
              "      <th>Клиент</th>\n",
              "      <th>ID_SKU</th>\n",
              "      <th>ГородМагазина</th>\n",
              "      <th>МагазинЗаказа</th>\n",
              "    </tr>\n",
              "  </thead>\n",
              "  <tbody>\n",
              "    <tr>\n",
              "      <td>0</td>\n",
              "      <td>01.03.2017 11:41</td>\n",
              "      <td>07.03.2017 0:00</td>\n",
              "      <td>3998972_TR</td>\n",
              "      <td>Частичный возврат</td>\n",
              "      <td>12 098</td>\n",
              "      <td>12 247</td>\n",
              "      <td>Курьерская</td>\n",
              "      <td>Наличная</td>\n",
              "      <td>Москва</td>\n",
              "      <td>КРУПНОГАБАРИТНЫЙ ТОВАР</td>\n",
              "      <td>...</td>\n",
              "      <td>0</td>\n",
              "      <td>8</td>\n",
              "      <td>1</td>\n",
              "      <td>28.02.2017 0:00</td>\n",
              "      <td>55574854-48574951555577</td>\n",
              "      <td>106117_ju18@yandex.ru</td>\n",
              "      <td>Юлия</td>\n",
              "      <td>ID9010020114553</td>\n",
              "      <td>0</td>\n",
              "      <td>NaN</td>\n",
              "    </tr>\n",
              "    <tr>\n",
              "      <td>1</td>\n",
              "      <td>01.03.2017 12:22</td>\n",
              "      <td>15.03.2017 0:00</td>\n",
              "      <td>3999117_TR</td>\n",
              "      <td>Доставлен</td>\n",
              "      <td>4 819</td>\n",
              "      <td>3 759</td>\n",
              "      <td>Магазины</td>\n",
              "      <td>Безналичная</td>\n",
              "      <td>Челябинск</td>\n",
              "      <td>ТЕКСТИЛЬ, ТРИКОТАЖ</td>\n",
              "      <td>...</td>\n",
              "      <td>0</td>\n",
              "      <td>3</td>\n",
              "      <td>1</td>\n",
              "      <td>01.03.2017 0:00</td>\n",
              "      <td>55575453-56535648535679</td>\n",
              "      <td>107117_ku16@list.ru</td>\n",
              "      <td>Гость</td>\n",
              "      <td>IDL00028974351</td>\n",
              "      <td>0</td>\n",
              "      <td>NaN</td>\n",
              "    </tr>\n",
              "    <tr>\n",
              "      <td>2</td>\n",
              "      <td>01.03.2017 12:31</td>\n",
              "      <td>17.03.2017 0:00</td>\n",
              "      <td>3999122_TR</td>\n",
              "      <td>Доставлен</td>\n",
              "      <td>3 325</td>\n",
              "      <td>3 325</td>\n",
              "      <td>Магазины</td>\n",
              "      <td>Безналичная</td>\n",
              "      <td>Нижневартовск</td>\n",
              "      <td>ИГРУШКИ</td>\n",
              "      <td>...</td>\n",
              "      <td>0</td>\n",
              "      <td>1</td>\n",
              "      <td>1</td>\n",
              "      <td>01.03.2017 0:00</td>\n",
              "      <td>55574950-57515657535772</td>\n",
              "      <td>109117_mu17@mail.ru</td>\n",
              "      <td>Гость</td>\n",
              "      <td>IDL00038573351</td>\n",
              "      <td>0</td>\n",
              "      <td>NaN</td>\n",
              "    </tr>\n",
              "    <tr>\n",
              "      <td>3</td>\n",
              "      <td>01.03.2017 3:06</td>\n",
              "      <td>02.03.2017 0:00</td>\n",
              "      <td>3999363_TR</td>\n",
              "      <td>К отгрузке</td>\n",
              "      <td>4 998</td>\n",
              "      <td>4 998</td>\n",
              "      <td>Курьерская</td>\n",
              "      <td>Наличная</td>\n",
              "      <td>Москва</td>\n",
              "      <td>ТЕКСТИЛЬ, ТРИКОТАЖ</td>\n",
              "      <td>...</td>\n",
              "      <td>0</td>\n",
              "      <td>4</td>\n",
              "      <td>0</td>\n",
              "      <td>01.03.2017 0:00</td>\n",
              "      <td>55574851-55545249535475</td>\n",
              "      <td>115117_su13@mail.ru</td>\n",
              "      <td>Гость</td>\n",
              "      <td>IDL00034303856</td>\n",
              "      <td>0</td>\n",
              "      <td>NaN</td>\n",
              "    </tr>\n",
              "    <tr>\n",
              "      <td>4</td>\n",
              "      <td>01.03.2017 11:38</td>\n",
              "      <td>14.03.2017 0:00</td>\n",
              "      <td>3999411_TR</td>\n",
              "      <td>Доставлен</td>\n",
              "      <td>528</td>\n",
              "      <td>528</td>\n",
              "      <td>Магазины</td>\n",
              "      <td>Безналичная</td>\n",
              "      <td>Ижевск</td>\n",
              "      <td>ИГРУШКИ</td>\n",
              "      <td>...</td>\n",
              "      <td>0</td>\n",
              "      <td>3</td>\n",
              "      <td>1</td>\n",
              "      <td>01.03.2017 0:00</td>\n",
              "      <td>55574854-56495552515179</td>\n",
              "      <td>guest_103117_gu28@workmail.ru</td>\n",
              "      <td>Гость</td>\n",
              "      <td>IDL00035791553</td>\n",
              "      <td>0</td>\n",
              "      <td>NaN</td>\n",
              "    </tr>\n",
              "  </tbody>\n",
              "</table>\n",
              "<p>5 rows × 38 columns</p>\n",
              "</div>"
            ],
            "text/plain": [
              "               Дата     ДатаДоставки НомерЗаказаНаСайте        НовыйСтатус  \\\n",
              "0  01.03.2017 11:41  07.03.2017 0:00         3998972_TR  Частичный возврат   \n",
              "1  01.03.2017 12:22  15.03.2017 0:00         3999117_TR          Доставлен   \n",
              "2  01.03.2017 12:31  17.03.2017 0:00         3999122_TR          Доставлен   \n",
              "3   01.03.2017 3:06  02.03.2017 0:00         3999363_TR         К отгрузке   \n",
              "4  01.03.2017 11:38  14.03.2017 0:00         3999411_TR          Доставлен   \n",
              "\n",
              "  СуммаЗаказаНаСайте СуммаДокумента МетодДоставки  ФормаОплаты         Регион  \\\n",
              "0             12 098         12 247    Курьерская     Наличная         Москва   \n",
              "1              4 819          3 759      Магазины  Безналичная      Челябинск   \n",
              "2              3 325          3 325      Магазины  Безналичная  Нижневартовск   \n",
              "3              4 998          4 998    Курьерская     Наличная         Москва   \n",
              "4                528            528      Магазины  Безналичная         Ижевск   \n",
              "\n",
              "                  Группа2  ... СуммаДоставки НомерСтроки  \\\n",
              "0  КРУПНОГАБАРИТНЫЙ ТОВАР  ...             0           8   \n",
              "1      ТЕКСТИЛЬ, ТРИКОТАЖ  ...             0           3   \n",
              "2                 ИГРУШКИ  ...             0           1   \n",
              "3      ТЕКСТИЛЬ, ТРИКОТАЖ  ...             0           4   \n",
              "4                 ИГРУШКИ  ...             0           3   \n",
              "\n",
              "  КоличествоПроданоКлиенту ДатаЗаказаНаСайте              Телефон_new  \\\n",
              "0                        1   28.02.2017 0:00  55574854-48574951555577   \n",
              "1                        1   01.03.2017 0:00  55575453-56535648535679   \n",
              "2                        1   01.03.2017 0:00  55574950-57515657535772   \n",
              "3                        0   01.03.2017 0:00  55574851-55545249535475   \n",
              "4                        1   01.03.2017 0:00  55574854-56495552515179   \n",
              "\n",
              "            ЭлектроннаяПочта_new Клиент           ID_SKU ГородМагазина  \\\n",
              "0          106117_ju18@yandex.ru   Юлия  ID9010020114553             0   \n",
              "1            107117_ku16@list.ru  Гость   IDL00028974351             0   \n",
              "2            109117_mu17@mail.ru  Гость   IDL00038573351             0   \n",
              "3            115117_su13@mail.ru  Гость   IDL00034303856             0   \n",
              "4  guest_103117_gu28@workmail.ru  Гость   IDL00035791553             0   \n",
              "\n",
              "  МагазинЗаказа  \n",
              "0           NaN  \n",
              "1           NaN  \n",
              "2           NaN  \n",
              "3           NaN  \n",
              "4           NaN  \n",
              "\n",
              "[5 rows x 38 columns]"
            ]
          },
          "metadata": {
            "tags": []
          },
          "execution_count": 3
        }
      ]
    },
    {
      "cell_type": "code",
      "metadata": {
        "id": "ut5huZIIfpm0",
        "colab_type": "code",
        "colab": {},
        "outputId": "0ebd4a95-441c-4def-8dd5-5e8228348a9d"
      },
      "source": [
        "df.info()"
      ],
      "execution_count": 0,
      "outputs": [
        {
          "output_type": "stream",
          "text": [
            "<class 'pandas.core.frame.DataFrame'>\n",
            "RangeIndex: 691539 entries, 0 to 691538\n",
            "Data columns (total 38 columns):\n",
            "Дата                        691539 non-null object\n",
            "ДатаДоставки                690913 non-null object\n",
            "НомерЗаказаНаСайте          691535 non-null object\n",
            "НовыйСтатус                 691539 non-null object\n",
            "СуммаЗаказаНаСайте          691539 non-null object\n",
            "СуммаДокумента              691539 non-null object\n",
            "МетодДоставки               691539 non-null object\n",
            "ФормаОплаты                 691539 non-null object\n",
            "Регион                      686397 non-null object\n",
            "Группа2                     616853 non-null object\n",
            "Группа3                     616853 non-null object\n",
            "Группа4                     585914 non-null object\n",
            "Тип                         691539 non-null object\n",
            "Номенклатура                691539 non-null object\n",
            "ТипТовара                   616849 non-null object\n",
            "Отменено                    691539 non-null object\n",
            "ПричинаОтмены               66703 non-null object\n",
            "Количество                  691539 non-null int64\n",
            "Цена                        691539 non-null object\n",
            "СуммаСтроки                 691539 non-null object\n",
            "ЦенаЗакупки                 614626 non-null object\n",
            "МесяцДатыЗаказа             691539 non-null int64\n",
            "ГодДатыЗаказа               691539 non-null object\n",
            "ПВЗ_код                     462653 non-null object\n",
            "Статус                      691539 non-null object\n",
            "Гео                         691539 non-null object\n",
            "Маржа                       614626 non-null object\n",
            "СуммаУслуг                  691539 non-null object\n",
            "СуммаДоставки               691539 non-null object\n",
            "НомерСтроки                 691539 non-null int64\n",
            "КоличествоПроданоКлиенту    691539 non-null int64\n",
            "ДатаЗаказаНаСайте           691535 non-null object\n",
            "Телефон_new                 691539 non-null object\n",
            "ЭлектроннаяПочта_new        678422 non-null object\n",
            "Клиент                      691165 non-null object\n",
            "ID_SKU                      691539 non-null object\n",
            "ГородМагазина               691539 non-null object\n",
            "МагазинЗаказа               4983 non-null object\n",
            "dtypes: int64(4), object(34)\n",
            "memory usage: 200.5+ MB\n"
          ],
          "name": "stdout"
        }
      ]
    },
    {
      "cell_type": "code",
      "metadata": {
        "id": "eOtBWHPifpm3",
        "colab_type": "code",
        "colab": {},
        "outputId": "792afa2a-b43f-4c7b-fc67-a10409480b3e"
      },
      "source": [
        "df.shape"
      ],
      "execution_count": 0,
      "outputs": [
        {
          "output_type": "execute_result",
          "data": {
            "text/plain": [
              "(691539, 38)"
            ]
          },
          "metadata": {
            "tags": []
          },
          "execution_count": 5
        }
      ]
    },
    {
      "cell_type": "markdown",
      "metadata": {
        "id": "nI3o1S0ufpm5",
        "colab_type": "text"
      },
      "source": [
        "Now lets drop duplicates if there are any"
      ]
    },
    {
      "cell_type": "code",
      "metadata": {
        "id": "D1uVWFPafpm6",
        "colab_type": "code",
        "colab": {},
        "outputId": "57aaa5af-42a4-4f57-9fa3-e86169740554"
      },
      "source": [
        "df.drop_duplicates()"
      ],
      "execution_count": 0,
      "outputs": [
        {
          "output_type": "execute_result",
          "data": {
            "text/html": [
              "<div>\n",
              "<style scoped>\n",
              "    .dataframe tbody tr th:only-of-type {\n",
              "        vertical-align: middle;\n",
              "    }\n",
              "\n",
              "    .dataframe tbody tr th {\n",
              "        vertical-align: top;\n",
              "    }\n",
              "\n",
              "    .dataframe thead th {\n",
              "        text-align: right;\n",
              "    }\n",
              "</style>\n",
              "<table border=\"1\" class=\"dataframe\">\n",
              "  <thead>\n",
              "    <tr style=\"text-align: right;\">\n",
              "      <th></th>\n",
              "      <th>Дата</th>\n",
              "      <th>ДатаДоставки</th>\n",
              "      <th>НомерЗаказаНаСайте</th>\n",
              "      <th>НовыйСтатус</th>\n",
              "      <th>СуммаЗаказаНаСайте</th>\n",
              "      <th>СуммаДокумента</th>\n",
              "      <th>МетодДоставки</th>\n",
              "      <th>ФормаОплаты</th>\n",
              "      <th>Регион</th>\n",
              "      <th>Группа2</th>\n",
              "      <th>...</th>\n",
              "      <th>СуммаДоставки</th>\n",
              "      <th>НомерСтроки</th>\n",
              "      <th>КоличествоПроданоКлиенту</th>\n",
              "      <th>ДатаЗаказаНаСайте</th>\n",
              "      <th>Телефон_new</th>\n",
              "      <th>ЭлектроннаяПочта_new</th>\n",
              "      <th>Клиент</th>\n",
              "      <th>ID_SKU</th>\n",
              "      <th>ГородМагазина</th>\n",
              "      <th>МагазинЗаказа</th>\n",
              "    </tr>\n",
              "  </thead>\n",
              "  <tbody>\n",
              "    <tr>\n",
              "      <td>0</td>\n",
              "      <td>01.03.2017 11:41</td>\n",
              "      <td>07.03.2017 0:00</td>\n",
              "      <td>3998972_TR</td>\n",
              "      <td>Частичный возврат</td>\n",
              "      <td>12 098</td>\n",
              "      <td>12 247</td>\n",
              "      <td>Курьерская</td>\n",
              "      <td>Наличная</td>\n",
              "      <td>Москва</td>\n",
              "      <td>КРУПНОГАБАРИТНЫЙ ТОВАР</td>\n",
              "      <td>...</td>\n",
              "      <td>0</td>\n",
              "      <td>8</td>\n",
              "      <td>1</td>\n",
              "      <td>28.02.2017 0:00</td>\n",
              "      <td>55574854-48574951555577</td>\n",
              "      <td>106117_ju18@yandex.ru</td>\n",
              "      <td>Юлия</td>\n",
              "      <td>ID9010020114553</td>\n",
              "      <td>0</td>\n",
              "      <td>NaN</td>\n",
              "    </tr>\n",
              "    <tr>\n",
              "      <td>1</td>\n",
              "      <td>01.03.2017 12:22</td>\n",
              "      <td>15.03.2017 0:00</td>\n",
              "      <td>3999117_TR</td>\n",
              "      <td>Доставлен</td>\n",
              "      <td>4 819</td>\n",
              "      <td>3 759</td>\n",
              "      <td>Магазины</td>\n",
              "      <td>Безналичная</td>\n",
              "      <td>Челябинск</td>\n",
              "      <td>ТЕКСТИЛЬ, ТРИКОТАЖ</td>\n",
              "      <td>...</td>\n",
              "      <td>0</td>\n",
              "      <td>3</td>\n",
              "      <td>1</td>\n",
              "      <td>01.03.2017 0:00</td>\n",
              "      <td>55575453-56535648535679</td>\n",
              "      <td>107117_ku16@list.ru</td>\n",
              "      <td>Гость</td>\n",
              "      <td>IDL00028974351</td>\n",
              "      <td>0</td>\n",
              "      <td>NaN</td>\n",
              "    </tr>\n",
              "    <tr>\n",
              "      <td>2</td>\n",
              "      <td>01.03.2017 12:31</td>\n",
              "      <td>17.03.2017 0:00</td>\n",
              "      <td>3999122_TR</td>\n",
              "      <td>Доставлен</td>\n",
              "      <td>3 325</td>\n",
              "      <td>3 325</td>\n",
              "      <td>Магазины</td>\n",
              "      <td>Безналичная</td>\n",
              "      <td>Нижневартовск</td>\n",
              "      <td>ИГРУШКИ</td>\n",
              "      <td>...</td>\n",
              "      <td>0</td>\n",
              "      <td>1</td>\n",
              "      <td>1</td>\n",
              "      <td>01.03.2017 0:00</td>\n",
              "      <td>55574950-57515657535772</td>\n",
              "      <td>109117_mu17@mail.ru</td>\n",
              "      <td>Гость</td>\n",
              "      <td>IDL00038573351</td>\n",
              "      <td>0</td>\n",
              "      <td>NaN</td>\n",
              "    </tr>\n",
              "    <tr>\n",
              "      <td>3</td>\n",
              "      <td>01.03.2017 3:06</td>\n",
              "      <td>02.03.2017 0:00</td>\n",
              "      <td>3999363_TR</td>\n",
              "      <td>К отгрузке</td>\n",
              "      <td>4 998</td>\n",
              "      <td>4 998</td>\n",
              "      <td>Курьерская</td>\n",
              "      <td>Наличная</td>\n",
              "      <td>Москва</td>\n",
              "      <td>ТЕКСТИЛЬ, ТРИКОТАЖ</td>\n",
              "      <td>...</td>\n",
              "      <td>0</td>\n",
              "      <td>4</td>\n",
              "      <td>0</td>\n",
              "      <td>01.03.2017 0:00</td>\n",
              "      <td>55574851-55545249535475</td>\n",
              "      <td>115117_su13@mail.ru</td>\n",
              "      <td>Гость</td>\n",
              "      <td>IDL00034303856</td>\n",
              "      <td>0</td>\n",
              "      <td>NaN</td>\n",
              "    </tr>\n",
              "    <tr>\n",
              "      <td>4</td>\n",
              "      <td>01.03.2017 11:38</td>\n",
              "      <td>14.03.2017 0:00</td>\n",
              "      <td>3999411_TR</td>\n",
              "      <td>Доставлен</td>\n",
              "      <td>528</td>\n",
              "      <td>528</td>\n",
              "      <td>Магазины</td>\n",
              "      <td>Безналичная</td>\n",
              "      <td>Ижевск</td>\n",
              "      <td>ИГРУШКИ</td>\n",
              "      <td>...</td>\n",
              "      <td>0</td>\n",
              "      <td>3</td>\n",
              "      <td>1</td>\n",
              "      <td>01.03.2017 0:00</td>\n",
              "      <td>55574854-56495552515179</td>\n",
              "      <td>guest_103117_gu28@workmail.ru</td>\n",
              "      <td>Гость</td>\n",
              "      <td>IDL00035791553</td>\n",
              "      <td>0</td>\n",
              "      <td>NaN</td>\n",
              "    </tr>\n",
              "    <tr>\n",
              "      <td>...</td>\n",
              "      <td>...</td>\n",
              "      <td>...</td>\n",
              "      <td>...</td>\n",
              "      <td>...</td>\n",
              "      <td>...</td>\n",
              "      <td>...</td>\n",
              "      <td>...</td>\n",
              "      <td>...</td>\n",
              "      <td>...</td>\n",
              "      <td>...</td>\n",
              "      <td>...</td>\n",
              "      <td>...</td>\n",
              "      <td>...</td>\n",
              "      <td>...</td>\n",
              "      <td>...</td>\n",
              "      <td>...</td>\n",
              "      <td>...</td>\n",
              "      <td>...</td>\n",
              "      <td>...</td>\n",
              "      <td>...</td>\n",
              "      <td>...</td>\n",
              "    </tr>\n",
              "    <tr>\n",
              "      <td>691534</td>\n",
              "      <td>17.04.2017 9:54</td>\n",
              "      <td>24.05.2017 0:00</td>\n",
              "      <td>4411156_TR</td>\n",
              "      <td>Принят в ПВЗ</td>\n",
              "      <td>3 240</td>\n",
              "      <td>3 240</td>\n",
              "      <td>Магазины</td>\n",
              "      <td>Безналичная</td>\n",
              "      <td>Чита</td>\n",
              "      <td>КРУПНОГАБАРИТНЫЙ ТОВАР</td>\n",
              "      <td>...</td>\n",
              "      <td>0</td>\n",
              "      <td>1</td>\n",
              "      <td>1</td>\n",
              "      <td>17.04.2017 0:00</td>\n",
              "      <td>55574952-51535652495475</td>\n",
              "      <td>guest_103117_gu28@workmail.ru</td>\n",
              "      <td>Гость</td>\n",
              "      <td>IDL00040855553</td>\n",
              "      <td>0</td>\n",
              "      <td>NaN</td>\n",
              "    </tr>\n",
              "    <tr>\n",
              "      <td>691535</td>\n",
              "      <td>17.04.2017 10:10</td>\n",
              "      <td>19.04.2017 0:00</td>\n",
              "      <td>4411268_TR</td>\n",
              "      <td>Доставлен</td>\n",
              "      <td>1 377</td>\n",
              "      <td>1 377</td>\n",
              "      <td>Магазины</td>\n",
              "      <td>Безналичная</td>\n",
              "      <td>Москва</td>\n",
              "      <td>ИГРУШКИ</td>\n",
              "      <td>...</td>\n",
              "      <td>49</td>\n",
              "      <td>2</td>\n",
              "      <td>1</td>\n",
              "      <td>17.04.2017 0:00</td>\n",
              "      <td>55575054-53545152544971</td>\n",
              "      <td>guest_103117_gu28@workmail.ru</td>\n",
              "      <td>Гость</td>\n",
              "      <td>IDL00013484149</td>\n",
              "      <td>0</td>\n",
              "      <td>NaN</td>\n",
              "    </tr>\n",
              "    <tr>\n",
              "      <td>691536</td>\n",
              "      <td>17.04.2017 11:03</td>\n",
              "      <td>27.04.2017 0:00</td>\n",
              "      <td>4411571_TR</td>\n",
              "      <td>Доставлен</td>\n",
              "      <td>1 098</td>\n",
              "      <td>2 086</td>\n",
              "      <td>Магазины</td>\n",
              "      <td>Безналичная</td>\n",
              "      <td>Нижний Новгород</td>\n",
              "      <td>КОСМЕТИКА/ГИГИЕНА</td>\n",
              "      <td>...</td>\n",
              "      <td>0</td>\n",
              "      <td>1</td>\n",
              "      <td>1</td>\n",
              "      <td>17.04.2017 0:00</td>\n",
              "      <td>55575448-49564957485078</td>\n",
              "      <td>97117_au19@mail.ru</td>\n",
              "      <td>Анна</td>\n",
              "      <td>IDL00026050250</td>\n",
              "      <td>0</td>\n",
              "      <td>NaN</td>\n",
              "    </tr>\n",
              "    <tr>\n",
              "      <td>691537</td>\n",
              "      <td>17.04.2017 11:03</td>\n",
              "      <td>27.04.2017 0:00</td>\n",
              "      <td>4411571_TR</td>\n",
              "      <td>Доставлен</td>\n",
              "      <td>1 098</td>\n",
              "      <td>2 086</td>\n",
              "      <td>Магазины</td>\n",
              "      <td>Безналичная</td>\n",
              "      <td>Нижний Новгород</td>\n",
              "      <td>КОСМЕТИКА/ГИГИЕНА</td>\n",
              "      <td>...</td>\n",
              "      <td>0</td>\n",
              "      <td>2</td>\n",
              "      <td>1</td>\n",
              "      <td>17.04.2017 0:00</td>\n",
              "      <td>55575448-49564957485078</td>\n",
              "      <td>97117_au19@mail.ru</td>\n",
              "      <td>Анна</td>\n",
              "      <td>IDL00026050654</td>\n",
              "      <td>0</td>\n",
              "      <td>NaN</td>\n",
              "    </tr>\n",
              "    <tr>\n",
              "      <td>691538</td>\n",
              "      <td>17.04.2017 10:41</td>\n",
              "      <td>24.04.2017 0:00</td>\n",
              "      <td>4411576_TR</td>\n",
              "      <td>Доставлен</td>\n",
              "      <td>13 349</td>\n",
              "      <td>13 349</td>\n",
              "      <td>Магазины</td>\n",
              "      <td>Безналичная</td>\n",
              "      <td>Москва</td>\n",
              "      <td>ИГРУШКИ</td>\n",
              "      <td>...</td>\n",
              "      <td>0</td>\n",
              "      <td>2</td>\n",
              "      <td>1</td>\n",
              "      <td>17.04.2017 0:00</td>\n",
              "      <td>55575455-49525649535277</td>\n",
              "      <td>100117_du13@mail.ru</td>\n",
              "      <td>Евгения</td>\n",
              "      <td>IDL00028050856</td>\n",
              "      <td>0</td>\n",
              "      <td>NaN</td>\n",
              "    </tr>\n",
              "  </tbody>\n",
              "</table>\n",
              "<p>686881 rows × 38 columns</p>\n",
              "</div>"
            ],
            "text/plain": [
              "                    Дата     ДатаДоставки НомерЗаказаНаСайте  \\\n",
              "0       01.03.2017 11:41  07.03.2017 0:00         3998972_TR   \n",
              "1       01.03.2017 12:22  15.03.2017 0:00         3999117_TR   \n",
              "2       01.03.2017 12:31  17.03.2017 0:00         3999122_TR   \n",
              "3        01.03.2017 3:06  02.03.2017 0:00         3999363_TR   \n",
              "4       01.03.2017 11:38  14.03.2017 0:00         3999411_TR   \n",
              "...                  ...              ...                ...   \n",
              "691534   17.04.2017 9:54  24.05.2017 0:00         4411156_TR   \n",
              "691535  17.04.2017 10:10  19.04.2017 0:00         4411268_TR   \n",
              "691536  17.04.2017 11:03  27.04.2017 0:00         4411571_TR   \n",
              "691537  17.04.2017 11:03  27.04.2017 0:00         4411571_TR   \n",
              "691538  17.04.2017 10:41  24.04.2017 0:00         4411576_TR   \n",
              "\n",
              "              НовыйСтатус СуммаЗаказаНаСайте СуммаДокумента МетодДоставки  \\\n",
              "0       Частичный возврат             12 098         12 247    Курьерская   \n",
              "1               Доставлен              4 819          3 759      Магазины   \n",
              "2               Доставлен              3 325          3 325      Магазины   \n",
              "3              К отгрузке              4 998          4 998    Курьерская   \n",
              "4               Доставлен                528            528      Магазины   \n",
              "...                   ...                ...            ...           ...   \n",
              "691534       Принят в ПВЗ              3 240          3 240      Магазины   \n",
              "691535          Доставлен              1 377          1 377      Магазины   \n",
              "691536          Доставлен              1 098          2 086      Магазины   \n",
              "691537          Доставлен              1 098          2 086      Магазины   \n",
              "691538          Доставлен             13 349         13 349      Магазины   \n",
              "\n",
              "        ФормаОплаты           Регион                 Группа2  ...  \\\n",
              "0          Наличная           Москва  КРУПНОГАБАРИТНЫЙ ТОВАР  ...   \n",
              "1       Безналичная        Челябинск      ТЕКСТИЛЬ, ТРИКОТАЖ  ...   \n",
              "2       Безналичная    Нижневартовск                 ИГРУШКИ  ...   \n",
              "3          Наличная           Москва      ТЕКСТИЛЬ, ТРИКОТАЖ  ...   \n",
              "4       Безналичная           Ижевск                 ИГРУШКИ  ...   \n",
              "...             ...              ...                     ...  ...   \n",
              "691534  Безналичная             Чита  КРУПНОГАБАРИТНЫЙ ТОВАР  ...   \n",
              "691535  Безналичная           Москва                 ИГРУШКИ  ...   \n",
              "691536  Безналичная  Нижний Новгород       КОСМЕТИКА/ГИГИЕНА  ...   \n",
              "691537  Безналичная  Нижний Новгород       КОСМЕТИКА/ГИГИЕНА  ...   \n",
              "691538  Безналичная           Москва                 ИГРУШКИ  ...   \n",
              "\n",
              "       СуммаДоставки НомерСтроки КоличествоПроданоКлиенту ДатаЗаказаНаСайте  \\\n",
              "0                  0           8                        1   28.02.2017 0:00   \n",
              "1                  0           3                        1   01.03.2017 0:00   \n",
              "2                  0           1                        1   01.03.2017 0:00   \n",
              "3                  0           4                        0   01.03.2017 0:00   \n",
              "4                  0           3                        1   01.03.2017 0:00   \n",
              "...              ...         ...                      ...               ...   \n",
              "691534             0           1                        1   17.04.2017 0:00   \n",
              "691535            49           2                        1   17.04.2017 0:00   \n",
              "691536             0           1                        1   17.04.2017 0:00   \n",
              "691537             0           2                        1   17.04.2017 0:00   \n",
              "691538             0           2                        1   17.04.2017 0:00   \n",
              "\n",
              "                    Телефон_new           ЭлектроннаяПочта_new   Клиент  \\\n",
              "0       55574854-48574951555577          106117_ju18@yandex.ru     Юлия   \n",
              "1       55575453-56535648535679            107117_ku16@list.ru    Гость   \n",
              "2       55574950-57515657535772            109117_mu17@mail.ru    Гость   \n",
              "3       55574851-55545249535475            115117_su13@mail.ru    Гость   \n",
              "4       55574854-56495552515179  guest_103117_gu28@workmail.ru    Гость   \n",
              "...                         ...                            ...      ...   \n",
              "691534  55574952-51535652495475  guest_103117_gu28@workmail.ru    Гость   \n",
              "691535  55575054-53545152544971  guest_103117_gu28@workmail.ru    Гость   \n",
              "691536  55575448-49564957485078             97117_au19@mail.ru     Анна   \n",
              "691537  55575448-49564957485078             97117_au19@mail.ru     Анна   \n",
              "691538  55575455-49525649535277            100117_du13@mail.ru  Евгения   \n",
              "\n",
              "                 ID_SKU ГородМагазина МагазинЗаказа  \n",
              "0       ID9010020114553             0           NaN  \n",
              "1        IDL00028974351             0           NaN  \n",
              "2        IDL00038573351             0           NaN  \n",
              "3        IDL00034303856             0           NaN  \n",
              "4        IDL00035791553             0           NaN  \n",
              "...                 ...           ...           ...  \n",
              "691534   IDL00040855553             0           NaN  \n",
              "691535   IDL00013484149             0           NaN  \n",
              "691536   IDL00026050250             0           NaN  \n",
              "691537   IDL00026050654             0           NaN  \n",
              "691538   IDL00028050856             0           NaN  \n",
              "\n",
              "[686881 rows x 38 columns]"
            ]
          },
          "metadata": {
            "tags": []
          },
          "execution_count": 3
        }
      ]
    },
    {
      "cell_type": "code",
      "metadata": {
        "id": "8J-YGsXwfpm9",
        "colab_type": "code",
        "colab": {},
        "outputId": "877027c8-f257-4c5c-c04e-a0adc72e9230"
      },
      "source": [
        "df.shape"
      ],
      "execution_count": 0,
      "outputs": [
        {
          "output_type": "execute_result",
          "data": {
            "text/plain": [
              "(691539, 38)"
            ]
          },
          "metadata": {
            "tags": []
          },
          "execution_count": 7
        }
      ]
    },
    {
      "cell_type": "markdown",
      "metadata": {
        "id": "9pUxh6jwfpm_",
        "colab_type": "text"
      },
      "source": [
        "The number of rows hasn't changed, so there were no dublicates. Now lets have a look on empty values. We will visualise it. On the picture below we can see 38 strips for each column. The purpule color shows non-empty cells and yellow - empty. Columns \"ПричинаОтмены\", \"ПВЗ_код\" and \"МагазинЗаказа\" are almost fully empty. So, we will drop this columns"
      ]
    },
    {
      "cell_type": "code",
      "metadata": {
        "id": "9HnGSRdWfpnA",
        "colab_type": "code",
        "colab": {},
        "outputId": "f0c6e6a8-33ef-49d1-9d3c-a6f60e184c59"
      },
      "source": [
        "fig, ax = plt.subplots(figsize=(20,12))\n",
        "sns_heatmap = sns.heatmap(df.isnull(), yticklabels=False, cbar=False, cmap='viridis')"
      ],
      "execution_count": 0,
      "outputs": [
        {
          "output_type": "display_data",
          "data": {
            "image/png": "[encoded data removed]",
            "text/plain": [
              "<Figure size 1440x864 with 1 Axes>"
            ]
          },
          "metadata": {
            "tags": [],
            "needs_background": "light"
          }
        }
      ]
    },
    {
      "cell_type": "code",
      "metadata": {
        "id": "9_O_fIOsfpnC",
        "colab_type": "code",
        "colab": {}
      },
      "source": [
        "df.drop(['ПричинаОтмены', 'МагазинЗаказа', 'ПВЗ_код'], axis='columns', inplace=True)"
      ],
      "execution_count": 0,
      "outputs": []
    },
    {
      "cell_type": "code",
      "metadata": {
        "id": "cmsFu1VjfpnE",
        "colab_type": "code",
        "colab": {},
        "outputId": "fc85b972-9343-48d5-bdb8-84289061d1f4"
      },
      "source": [
        "df.head()"
      ],
      "execution_count": 0,
      "outputs": [
        {
          "output_type": "execute_result",
          "data": {
            "text/html": [
              "<div>\n",
              "<style scoped>\n",
              "    .dataframe tbody tr th:only-of-type {\n",
              "        vertical-align: middle;\n",
              "    }\n",
              "\n",
              "    .dataframe tbody tr th {\n",
              "        vertical-align: top;\n",
              "    }\n",
              "\n",
              "    .dataframe thead th {\n",
              "        text-align: right;\n",
              "    }\n",
              "</style>\n",
              "<table border=\"1\" class=\"dataframe\">\n",
              "  <thead>\n",
              "    <tr style=\"text-align: right;\">\n",
              "      <th></th>\n",
              "      <th>Дата</th>\n",
              "      <th>ДатаДоставки</th>\n",
              "      <th>НомерЗаказаНаСайте</th>\n",
              "      <th>НовыйСтатус</th>\n",
              "      <th>СуммаЗаказаНаСайте</th>\n",
              "      <th>СуммаДокумента</th>\n",
              "      <th>МетодДоставки</th>\n",
              "      <th>ФормаОплаты</th>\n",
              "      <th>Регион</th>\n",
              "      <th>Группа2</th>\n",
              "      <th>...</th>\n",
              "      <th>СуммаУслуг</th>\n",
              "      <th>СуммаДоставки</th>\n",
              "      <th>НомерСтроки</th>\n",
              "      <th>КоличествоПроданоКлиенту</th>\n",
              "      <th>ДатаЗаказаНаСайте</th>\n",
              "      <th>Телефон_new</th>\n",
              "      <th>ЭлектроннаяПочта_new</th>\n",
              "      <th>Клиент</th>\n",
              "      <th>ID_SKU</th>\n",
              "      <th>ГородМагазина</th>\n",
              "    </tr>\n",
              "  </thead>\n",
              "  <tbody>\n",
              "    <tr>\n",
              "      <td>0</td>\n",
              "      <td>01.03.2017 11:41</td>\n",
              "      <td>07.03.2017 0:00</td>\n",
              "      <td>3998972_TR</td>\n",
              "      <td>Частичный возврат</td>\n",
              "      <td>12 098</td>\n",
              "      <td>12 247</td>\n",
              "      <td>Курьерская</td>\n",
              "      <td>Наличная</td>\n",
              "      <td>Москва</td>\n",
              "      <td>КРУПНОГАБАРИТНЫЙ ТОВАР</td>\n",
              "      <td>...</td>\n",
              "      <td>0</td>\n",
              "      <td>0</td>\n",
              "      <td>8</td>\n",
              "      <td>1</td>\n",
              "      <td>28.02.2017 0:00</td>\n",
              "      <td>55574854-48574951555577</td>\n",
              "      <td>106117_ju18@yandex.ru</td>\n",
              "      <td>Юлия</td>\n",
              "      <td>ID9010020114553</td>\n",
              "      <td>0</td>\n",
              "    </tr>\n",
              "    <tr>\n",
              "      <td>1</td>\n",
              "      <td>01.03.2017 12:22</td>\n",
              "      <td>15.03.2017 0:00</td>\n",
              "      <td>3999117_TR</td>\n",
              "      <td>Доставлен</td>\n",
              "      <td>4 819</td>\n",
              "      <td>3 759</td>\n",
              "      <td>Магазины</td>\n",
              "      <td>Безналичная</td>\n",
              "      <td>Челябинск</td>\n",
              "      <td>ТЕКСТИЛЬ, ТРИКОТАЖ</td>\n",
              "      <td>...</td>\n",
              "      <td>0</td>\n",
              "      <td>0</td>\n",
              "      <td>3</td>\n",
              "      <td>1</td>\n",
              "      <td>01.03.2017 0:00</td>\n",
              "      <td>55575453-56535648535679</td>\n",
              "      <td>107117_ku16@list.ru</td>\n",
              "      <td>Гость</td>\n",
              "      <td>IDL00028974351</td>\n",
              "      <td>0</td>\n",
              "    </tr>\n",
              "    <tr>\n",
              "      <td>2</td>\n",
              "      <td>01.03.2017 12:31</td>\n",
              "      <td>17.03.2017 0:00</td>\n",
              "      <td>3999122_TR</td>\n",
              "      <td>Доставлен</td>\n",
              "      <td>3 325</td>\n",
              "      <td>3 325</td>\n",
              "      <td>Магазины</td>\n",
              "      <td>Безналичная</td>\n",
              "      <td>Нижневартовск</td>\n",
              "      <td>ИГРУШКИ</td>\n",
              "      <td>...</td>\n",
              "      <td>0</td>\n",
              "      <td>0</td>\n",
              "      <td>1</td>\n",
              "      <td>1</td>\n",
              "      <td>01.03.2017 0:00</td>\n",
              "      <td>55574950-57515657535772</td>\n",
              "      <td>109117_mu17@mail.ru</td>\n",
              "      <td>Гость</td>\n",
              "      <td>IDL00038573351</td>\n",
              "      <td>0</td>\n",
              "    </tr>\n",
              "    <tr>\n",
              "      <td>3</td>\n",
              "      <td>01.03.2017 3:06</td>\n",
              "      <td>02.03.2017 0:00</td>\n",
              "      <td>3999363_TR</td>\n",
              "      <td>К отгрузке</td>\n",
              "      <td>4 998</td>\n",
              "      <td>4 998</td>\n",
              "      <td>Курьерская</td>\n",
              "      <td>Наличная</td>\n",
              "      <td>Москва</td>\n",
              "      <td>ТЕКСТИЛЬ, ТРИКОТАЖ</td>\n",
              "      <td>...</td>\n",
              "      <td>0</td>\n",
              "      <td>0</td>\n",
              "      <td>4</td>\n",
              "      <td>0</td>\n",
              "      <td>01.03.2017 0:00</td>\n",
              "      <td>55574851-55545249535475</td>\n",
              "      <td>115117_su13@mail.ru</td>\n",
              "      <td>Гость</td>\n",
              "      <td>IDL00034303856</td>\n",
              "      <td>0</td>\n",
              "    </tr>\n",
              "    <tr>\n",
              "      <td>4</td>\n",
              "      <td>01.03.2017 11:38</td>\n",
              "      <td>14.03.2017 0:00</td>\n",
              "      <td>3999411_TR</td>\n",
              "      <td>Доставлен</td>\n",
              "      <td>528</td>\n",
              "      <td>528</td>\n",
              "      <td>Магазины</td>\n",
              "      <td>Безналичная</td>\n",
              "      <td>Ижевск</td>\n",
              "      <td>ИГРУШКИ</td>\n",
              "      <td>...</td>\n",
              "      <td>0</td>\n",
              "      <td>0</td>\n",
              "      <td>3</td>\n",
              "      <td>1</td>\n",
              "      <td>01.03.2017 0:00</td>\n",
              "      <td>55574854-56495552515179</td>\n",
              "      <td>guest_103117_gu28@workmail.ru</td>\n",
              "      <td>Гость</td>\n",
              "      <td>IDL00035791553</td>\n",
              "      <td>0</td>\n",
              "    </tr>\n",
              "  </tbody>\n",
              "</table>\n",
              "<p>5 rows × 35 columns</p>\n",
              "</div>"
            ],
            "text/plain": [
              "               Дата     ДатаДоставки НомерЗаказаНаСайте        НовыйСтатус  \\\n",
              "0  01.03.2017 11:41  07.03.2017 0:00         3998972_TR  Частичный возврат   \n",
              "1  01.03.2017 12:22  15.03.2017 0:00         3999117_TR          Доставлен   \n",
              "2  01.03.2017 12:31  17.03.2017 0:00         3999122_TR          Доставлен   \n",
              "3   01.03.2017 3:06  02.03.2017 0:00         3999363_TR         К отгрузке   \n",
              "4  01.03.2017 11:38  14.03.2017 0:00         3999411_TR          Доставлен   \n",
              "\n",
              "  СуммаЗаказаНаСайте СуммаДокумента МетодДоставки  ФормаОплаты         Регион  \\\n",
              "0             12 098         12 247    Курьерская     Наличная         Москва   \n",
              "1              4 819          3 759      Магазины  Безналичная      Челябинск   \n",
              "2              3 325          3 325      Магазины  Безналичная  Нижневартовск   \n",
              "3              4 998          4 998    Курьерская     Наличная         Москва   \n",
              "4                528            528      Магазины  Безналичная         Ижевск   \n",
              "\n",
              "                  Группа2  ... СуммаУслуг СуммаДоставки НомерСтроки  \\\n",
              "0  КРУПНОГАБАРИТНЫЙ ТОВАР  ...          0             0           8   \n",
              "1      ТЕКСТИЛЬ, ТРИКОТАЖ  ...          0             0           3   \n",
              "2                 ИГРУШКИ  ...          0             0           1   \n",
              "3      ТЕКСТИЛЬ, ТРИКОТАЖ  ...          0             0           4   \n",
              "4                 ИГРУШКИ  ...          0             0           3   \n",
              "\n",
              "  КоличествоПроданоКлиенту ДатаЗаказаНаСайте              Телефон_new  \\\n",
              "0                        1   28.02.2017 0:00  55574854-48574951555577   \n",
              "1                        1   01.03.2017 0:00  55575453-56535648535679   \n",
              "2                        1   01.03.2017 0:00  55574950-57515657535772   \n",
              "3                        0   01.03.2017 0:00  55574851-55545249535475   \n",
              "4                        1   01.03.2017 0:00  55574854-56495552515179   \n",
              "\n",
              "            ЭлектроннаяПочта_new Клиент           ID_SKU ГородМагазина  \n",
              "0          106117_ju18@yandex.ru   Юлия  ID9010020114553             0  \n",
              "1            107117_ku16@list.ru  Гость   IDL00028974351             0  \n",
              "2            109117_mu17@mail.ru  Гость   IDL00038573351             0  \n",
              "3            115117_su13@mail.ru  Гость   IDL00034303856             0  \n",
              "4  guest_103117_gu28@workmail.ru  Гость   IDL00035791553             0  \n",
              "\n",
              "[5 rows x 35 columns]"
            ]
          },
          "metadata": {
            "tags": []
          },
          "execution_count": 9
        }
      ]
    },
    {
      "cell_type": "markdown",
      "metadata": {
        "id": "rRNDTPSpfpnH",
        "colab_type": "text"
      },
      "source": [
        "As we can see there are also many rows that are missing many important values. So, we will also drop rows with more than 6 empty parameters."
      ]
    },
    {
      "cell_type": "code",
      "metadata": {
        "id": "TjDZ8EYvfpnH",
        "colab_type": "code",
        "colab": {}
      },
      "source": [
        "df = df.dropna(axis = 0, thresh = 30)"
      ],
      "execution_count": 0,
      "outputs": []
    },
    {
      "cell_type": "code",
      "metadata": {
        "id": "oC7SPYj3fpnL",
        "colab_type": "code",
        "colab": {},
        "outputId": "24e60d65-063e-49ec-bb25-8fb2796f95f2"
      },
      "source": [
        "fig, ax = plt.subplots(figsize=(20,12))\n",
        "sns_heatmap = sns.heatmap(df.isnull(), yticklabels=False, cbar=False, cmap='viridis')"
      ],
      "execution_count": 0,
      "outputs": [
        {
          "output_type": "display_data",
          "data": {
            "image/png": "[encoded data removed]",
            "text/plain": [
              "<Figure size 1440x864 with 1 Axes>"
            ]
          },
          "metadata": {
            "tags": [],
            "needs_background": "light"
          }
        }
      ]
    },
    {
      "cell_type": "markdown",
      "metadata": {
        "id": "F_o7np9CfpnO",
        "colab_type": "text"
      },
      "source": [
        "Now there are not so many empty cells in our DataFrame."
      ]
    },
    {
      "cell_type": "code",
      "metadata": {
        "id": "c1vztXMTfpnP",
        "colab_type": "code",
        "colab": {}
      },
      "source": [
        ""
      ],
      "execution_count": 0,
      "outputs": []
    },
    {
      "cell_type": "markdown",
      "metadata": {
        "id": "z42d-VUSfpnS",
        "colab_type": "text"
      },
      "source": [
        "Next step is to check whether the type of data in each column corresponds its type logicaly"
      ]
    },
    {
      "cell_type": "code",
      "metadata": {
        "id": "uz0tJQsWfpnT",
        "colab_type": "code",
        "colab": {},
        "outputId": "bcff0025-1874-4f40-e6c7-03afcd8c35a9"
      },
      "source": [
        "df.info()"
      ],
      "execution_count": 0,
      "outputs": [
        {
          "output_type": "stream",
          "text": [
            "<class 'pandas.core.frame.DataFrame'>\n",
            "Int64Index: 616849 entries, 0 to 691538\n",
            "Data columns (total 35 columns):\n",
            "Дата                        616849 non-null object\n",
            "ДатаДоставки                616230 non-null object\n",
            "НомерЗаказаНаСайте          616849 non-null object\n",
            "НовыйСтатус                 616849 non-null object\n",
            "СуммаЗаказаНаСайте          616849 non-null object\n",
            "СуммаДокумента              616849 non-null object\n",
            "МетодДоставки               616849 non-null object\n",
            "ФормаОплаты                 616849 non-null object\n",
            "Регион                      611798 non-null object\n",
            "Группа2                     616849 non-null object\n",
            "Группа3                     616849 non-null object\n",
            "Группа4                     585910 non-null object\n",
            "Тип                         616849 non-null object\n",
            "Номенклатура                616849 non-null object\n",
            "ТипТовара                   616849 non-null object\n",
            "Отменено                    616849 non-null object\n",
            "Количество                  616849 non-null int64\n",
            "Цена                        616849 non-null object\n",
            "СуммаСтроки                 616849 non-null object\n",
            "ЦенаЗакупки                 614622 non-null object\n",
            "МесяцДатыЗаказа             616849 non-null int64\n",
            "ГодДатыЗаказа               616849 non-null object\n",
            "Статус                      616849 non-null object\n",
            "Гео                         616849 non-null object\n",
            "Маржа                       614622 non-null object\n",
            "СуммаУслуг                  616849 non-null object\n",
            "СуммаДоставки               616849 non-null object\n",
            "НомерСтроки                 616849 non-null int64\n",
            "КоличествоПроданоКлиенту    616849 non-null int64\n",
            "ДатаЗаказаНаСайте           616849 non-null object\n",
            "Телефон_new                 616849 non-null object\n",
            "ЭлектроннаяПочта_new        605550 non-null object\n",
            "Клиент                      616574 non-null object\n",
            "ID_SKU                      616849 non-null object\n",
            "ГородМагазина               616849 non-null object\n",
            "dtypes: int64(4), object(31)\n",
            "memory usage: 169.4+ MB\n"
          ],
          "name": "stdout"
        }
      ]
    },
    {
      "cell_type": "markdown",
      "metadata": {
        "id": "FfCbqdIcfpnV",
        "colab_type": "text"
      },
      "source": [
        "As we can see most of columns have type 'object'. This type does not suits columns with numeric values. The reason for it is that in intiatial file thousandths are separated with other digits of numbers by spaces. In addition to this, decimal part of numbers is separates with commas. We need to delite spases and replace commas with points. After this actions we can change the type of the columns and get float64 type."
      ]
    },
    {
      "cell_type": "code",
      "metadata": {
        "id": "Gim8Xj_HfpnV",
        "colab_type": "code",
        "colab": {}
      },
      "source": [
        "numeric_columns = ['СуммаЗаказаНаСайте', 'Цена', 'Маржа', 'СуммаУслуг', 'СуммаСтроки']"
      ],
      "execution_count": 0,
      "outputs": []
    },
    {
      "cell_type": "code",
      "metadata": {
        "id": "pz3qRn8mfpnY",
        "colab_type": "code",
        "colab": {}
      },
      "source": [
        "for column in numeric_columns:\n",
        "    df[column] = df[column].replace(r'\\s+','',regex=True)\n",
        "    df[column] = df[column].replace(',','.',regex=True)\n",
        "    df[column] = df[column].apply(pd.to_numeric)"
      ],
      "execution_count": 0,
      "outputs": []
    },
    {
      "cell_type": "code",
      "metadata": {
        "id": "10X6ipUifpna",
        "colab_type": "code",
        "colab": {},
        "outputId": "46768024-dcb6-401a-cf52-30e05c0e24f2"
      },
      "source": [
        "df.info()"
      ],
      "execution_count": 0,
      "outputs": [
        {
          "output_type": "stream",
          "text": [
            "<class 'pandas.core.frame.DataFrame'>\n",
            "Int64Index: 616849 entries, 0 to 691538\n",
            "Data columns (total 35 columns):\n",
            "Дата                        616849 non-null object\n",
            "ДатаДоставки                616230 non-null object\n",
            "НомерЗаказаНаСайте          616849 non-null object\n",
            "НовыйСтатус                 616849 non-null object\n",
            "СуммаЗаказаНаСайте          616849 non-null int64\n",
            "СуммаДокумента              616849 non-null object\n",
            "МетодДоставки               616849 non-null object\n",
            "ФормаОплаты                 616849 non-null object\n",
            "Регион                      611798 non-null object\n",
            "Группа2                     616849 non-null object\n",
            "Группа3                     616849 non-null object\n",
            "Группа4                     585910 non-null object\n",
            "Тип                         616849 non-null object\n",
            "Номенклатура                616849 non-null object\n",
            "ТипТовара                   616849 non-null object\n",
            "Отменено                    616849 non-null object\n",
            "Количество                  616849 non-null int64\n",
            "Цена                        616849 non-null float64\n",
            "СуммаСтроки                 616849 non-null float64\n",
            "ЦенаЗакупки                 614622 non-null object\n",
            "МесяцДатыЗаказа             616849 non-null int64\n",
            "ГодДатыЗаказа               616849 non-null object\n",
            "Статус                      616849 non-null object\n",
            "Гео                         616849 non-null object\n",
            "Маржа                       614622 non-null float64\n",
            "СуммаУслуг                  616849 non-null int64\n",
            "СуммаДоставки               616849 non-null object\n",
            "НомерСтроки                 616849 non-null int64\n",
            "КоличествоПроданоКлиенту    616849 non-null int64\n",
            "ДатаЗаказаНаСайте           616849 non-null object\n",
            "Телефон_new                 616849 non-null object\n",
            "ЭлектроннаяПочта_new        605550 non-null object\n",
            "Клиент                      616574 non-null object\n",
            "ID_SKU                      616849 non-null object\n",
            "ГородМагазина               616849 non-null object\n",
            "dtypes: float64(3), int64(6), object(26)\n",
            "memory usage: 169.4+ MB\n"
          ],
          "name": "stdout"
        }
      ]
    },
    {
      "cell_type": "markdown",
      "metadata": {
        "id": "yj_yDO4Dfpnc",
        "colab_type": "text"
      },
      "source": [
        "Now, we will save this DataFrame in a new csv file and will work with this new file"
      ]
    },
    {
      "cell_type": "code",
      "metadata": {
        "id": "BBLWOWl6fpnd",
        "colab_type": "code",
        "colab": {}
      },
      "source": [
        "df = df[(df['НовыйСтатус'] == 'Доставлен') & (df['Отменено'] == 'Нет') & (df['Количество'] > 0) & (df['Телефон_new'] != '0')]\n",
        "df.rename(columns={'СуммаСтроки': 'Revenue', 'Маржа': 'Marge'}, inplace=True)"
      ],
      "execution_count": 0,
      "outputs": []
    },
    {
      "cell_type": "code",
      "metadata": {
        "id": "0chogbDLfpnf",
        "colab_type": "code",
        "colab": {},
        "outputId": "e7e73b4c-de51-4a35-b7a3-24c8e22d7c9d"
      },
      "source": [
        "df.shape"
      ],
      "execution_count": 0,
      "outputs": [
        {
          "output_type": "execute_result",
          "data": {
            "text/plain": [
              "(217581, 35)"
            ]
          },
          "metadata": {
            "tags": []
          },
          "execution_count": 13
        }
      ]
    },
    {
      "cell_type": "code",
      "metadata": {
        "id": "MtdEGyBGfpnh",
        "colab_type": "code",
        "colab": {},
        "outputId": "bf690404-3882-4632-d78c-0bb1142fa612"
      },
      "source": [
        "df['Revenue'].sum()"
      ],
      "execution_count": 0,
      "outputs": [
        {
          "output_type": "execute_result",
          "data": {
            "text/plain": [
              "236885210.42000002"
            ]
          },
          "metadata": {
            "tags": []
          },
          "execution_count": 19
        }
      ]
    },
    {
      "cell_type": "code",
      "metadata": {
        "id": "1edUAJsVfpnk",
        "colab_type": "code",
        "colab": {}
      },
      "source": [
        "df.to_csv('clean_data_final01.csv')"
      ],
      "execution_count": 0,
      "outputs": []
    },
    {
      "cell_type": "code",
      "metadata": {
        "id": "8gC6e5rYfpnm",
        "colab_type": "code",
        "colab": {}
      },
      "source": [
        "df.rename(columns={'СуммаСтроки': 'Revenue', 'Маржа': 'Marge', }, inplace=True)\n",
        "df_by_bills = df[['НомерЗаказаНаСайте', 'Revenue', 'Marge', 'Количество']].groupby('НомерЗаказаНаСайте').aggregate(sum)\n",
        "df_by_bills = df_by_bills.fillna(0)"
      ],
      "execution_count": 0,
      "outputs": []
    },
    {
      "cell_type": "code",
      "metadata": {
        "id": "4rw7PJaJfpno",
        "colab_type": "code",
        "colab": {}
      },
      "source": [
        "df_data = df[['Дата','НомерЗаказаНаСайте']].drop_duplicates()"
      ],
      "execution_count": 0,
      "outputs": []
    },
    {
      "cell_type": "code",
      "metadata": {
        "id": "Ux6B_zyXfpns",
        "colab_type": "code",
        "colab": {},
        "outputId": "5301409c-52de-4a97-e48c-4adedb147146"
      },
      "source": [
        "df_by_bills = df_by_bills.merge(df_data, how='right', on='НомерЗаказаНаСайте')\n",
        "df_by_bills"
      ],
      "execution_count": 0,
      "outputs": [
        {
          "output_type": "execute_result",
          "data": {
            "text/html": [
              "<div>\n",
              "<style scoped>\n",
              "    .dataframe tbody tr th:only-of-type {\n",
              "        vertical-align: middle;\n",
              "    }\n",
              "\n",
              "    .dataframe tbody tr th {\n",
              "        vertical-align: top;\n",
              "    }\n",
              "\n",
              "    .dataframe thead th {\n",
              "        text-align: right;\n",
              "    }\n",
              "</style>\n",
              "<table border=\"1\" class=\"dataframe\">\n",
              "  <thead>\n",
              "    <tr style=\"text-align: right;\">\n",
              "      <th></th>\n",
              "      <th>НомерЗаказаНаСайте</th>\n",
              "      <th>Revenue</th>\n",
              "      <th>Marge</th>\n",
              "      <th>Количество</th>\n",
              "      <th>Дата</th>\n",
              "    </tr>\n",
              "  </thead>\n",
              "  <tbody>\n",
              "    <tr>\n",
              "      <td>0</td>\n",
              "      <td>1303000313_TR</td>\n",
              "      <td>247.0</td>\n",
              "      <td>63.08</td>\n",
              "      <td>1</td>\n",
              "      <td>04.03.2017 9:53</td>\n",
              "    </tr>\n",
              "    <tr>\n",
              "      <td>1</td>\n",
              "      <td>1303000319_TR</td>\n",
              "      <td>13300.0</td>\n",
              "      <td>3246.00</td>\n",
              "      <td>1</td>\n",
              "      <td>16.03.2017 12:58</td>\n",
              "    </tr>\n",
              "    <tr>\n",
              "      <td>2</td>\n",
              "      <td>1303000321_TR</td>\n",
              "      <td>16150.0</td>\n",
              "      <td>4436.07</td>\n",
              "      <td>1</td>\n",
              "      <td>18.03.2017 18:22</td>\n",
              "    </tr>\n",
              "    <tr>\n",
              "      <td>3</td>\n",
              "      <td>1303000323_TR</td>\n",
              "      <td>4180.0</td>\n",
              "      <td>1345.00</td>\n",
              "      <td>1</td>\n",
              "      <td>23.03.2017 20:01</td>\n",
              "    </tr>\n",
              "    <tr>\n",
              "      <td>4</td>\n",
              "      <td>1303000324_TR</td>\n",
              "      <td>18500.0</td>\n",
              "      <td>3400.00</td>\n",
              "      <td>1</td>\n",
              "      <td>24.03.2017 10:06</td>\n",
              "    </tr>\n",
              "    <tr>\n",
              "      <td>...</td>\n",
              "      <td>...</td>\n",
              "      <td>...</td>\n",
              "      <td>...</td>\n",
              "      <td>...</td>\n",
              "      <td>...</td>\n",
              "    </tr>\n",
              "    <tr>\n",
              "      <td>75627</td>\n",
              "      <td>4513463_TR</td>\n",
              "      <td>1932.0</td>\n",
              "      <td>429.28</td>\n",
              "      <td>4</td>\n",
              "      <td>30.04.2017 23:48</td>\n",
              "    </tr>\n",
              "    <tr>\n",
              "      <td>75628</td>\n",
              "      <td>4513474_TR</td>\n",
              "      <td>2002.0</td>\n",
              "      <td>558.57</td>\n",
              "      <td>10</td>\n",
              "      <td>30.04.2017 23:53</td>\n",
              "    </tr>\n",
              "    <tr>\n",
              "      <td>75629</td>\n",
              "      <td>4513480_TR</td>\n",
              "      <td>4864.0</td>\n",
              "      <td>910.86</td>\n",
              "      <td>2</td>\n",
              "      <td>30.04.2017 23:58</td>\n",
              "    </tr>\n",
              "    <tr>\n",
              "      <td>75630</td>\n",
              "      <td>4513486_TR</td>\n",
              "      <td>1436.0</td>\n",
              "      <td>-118.60</td>\n",
              "      <td>3</td>\n",
              "      <td>30.04.2017 23:58</td>\n",
              "    </tr>\n",
              "    <tr>\n",
              "      <td>75631</td>\n",
              "      <td>4513487_TR</td>\n",
              "      <td>2319.0</td>\n",
              "      <td>107.62</td>\n",
              "      <td>44</td>\n",
              "      <td>30.04.2017 23:58</td>\n",
              "    </tr>\n",
              "  </tbody>\n",
              "</table>\n",
              "<p>75632 rows × 5 columns</p>\n",
              "</div>"
            ],
            "text/plain": [
              "      НомерЗаказаНаСайте  Revenue    Marge  Количество              Дата\n",
              "0          1303000313_TR    247.0    63.08           1   04.03.2017 9:53\n",
              "1          1303000319_TR  13300.0  3246.00           1  16.03.2017 12:58\n",
              "2          1303000321_TR  16150.0  4436.07           1  18.03.2017 18:22\n",
              "3          1303000323_TR   4180.0  1345.00           1  23.03.2017 20:01\n",
              "4          1303000324_TR  18500.0  3400.00           1  24.03.2017 10:06\n",
              "...                  ...      ...      ...         ...               ...\n",
              "75627         4513463_TR   1932.0   429.28           4  30.04.2017 23:48\n",
              "75628         4513474_TR   2002.0   558.57          10  30.04.2017 23:53\n",
              "75629         4513480_TR   4864.0   910.86           2  30.04.2017 23:58\n",
              "75630         4513486_TR   1436.0  -118.60           3  30.04.2017 23:58\n",
              "75631         4513487_TR   2319.0   107.62          44  30.04.2017 23:58\n",
              "\n",
              "[75632 rows x 5 columns]"
            ]
          },
          "metadata": {
            "tags": []
          },
          "execution_count": 13
        }
      ]
    },
    {
      "cell_type": "code",
      "metadata": {
        "id": "Yy7U5g5Ofpnv",
        "colab_type": "code",
        "colab": {}
      },
      "source": [
        "date = [] \n",
        "hours = []\n",
        "weekdays = []\n",
        "for item in df_by_bills['Дата']:\n",
        "    \n",
        "    x =  pd.to_datetime(item, format=\"%d.%m.%Y %H:%M\")\n",
        "    a = x.timetuple()\n",
        "    hours.append(a[3])\n",
        "    weekdays.append(a[6])\n",
        "    date.append(x.replace(minute=0, hour =0))\n",
        "    \n",
        "\n",
        "df_by_bills['Date'] = date\n",
        "df_by_bills['Hours'] = hours\n",
        "df_by_bills['Weekday'] = weekdays"
      ],
      "execution_count": 0,
      "outputs": []
    },
    {
      "cell_type": "code",
      "metadata": {
        "id": "Tw2luYS9fpnx",
        "colab_type": "code",
        "colab": {},
        "outputId": "8c4bbf76-805f-4d22-d1dd-7c95b95229fe"
      },
      "source": [
        "df_by_bills"
      ],
      "execution_count": 0,
      "outputs": [
        {
          "output_type": "execute_result",
          "data": {
            "text/html": [
              "<div>\n",
              "<style scoped>\n",
              "    .dataframe tbody tr th:only-of-type {\n",
              "        vertical-align: middle;\n",
              "    }\n",
              "\n",
              "    .dataframe tbody tr th {\n",
              "        vertical-align: top;\n",
              "    }\n",
              "\n",
              "    .dataframe thead th {\n",
              "        text-align: right;\n",
              "    }\n",
              "</style>\n",
              "<table border=\"1\" class=\"dataframe\">\n",
              "  <thead>\n",
              "    <tr style=\"text-align: right;\">\n",
              "      <th></th>\n",
              "      <th>НомерЗаказаНаСайте</th>\n",
              "      <th>Revenue</th>\n",
              "      <th>Marge</th>\n",
              "      <th>Количество</th>\n",
              "      <th>Дата</th>\n",
              "      <th>Date</th>\n",
              "      <th>Hours</th>\n",
              "      <th>Weekday</th>\n",
              "    </tr>\n",
              "  </thead>\n",
              "  <tbody>\n",
              "    <tr>\n",
              "      <td>0</td>\n",
              "      <td>1303000313_TR</td>\n",
              "      <td>247.0</td>\n",
              "      <td>63.08</td>\n",
              "      <td>1</td>\n",
              "      <td>04.03.2017 9:53</td>\n",
              "      <td>2017-03-04</td>\n",
              "      <td>9</td>\n",
              "      <td>5</td>\n",
              "    </tr>\n",
              "    <tr>\n",
              "      <td>1</td>\n",
              "      <td>1303000319_TR</td>\n",
              "      <td>13300.0</td>\n",
              "      <td>3246.00</td>\n",
              "      <td>1</td>\n",
              "      <td>16.03.2017 12:58</td>\n",
              "      <td>2017-03-16</td>\n",
              "      <td>12</td>\n",
              "      <td>3</td>\n",
              "    </tr>\n",
              "    <tr>\n",
              "      <td>2</td>\n",
              "      <td>1303000321_TR</td>\n",
              "      <td>16150.0</td>\n",
              "      <td>4436.07</td>\n",
              "      <td>1</td>\n",
              "      <td>18.03.2017 18:22</td>\n",
              "      <td>2017-03-18</td>\n",
              "      <td>18</td>\n",
              "      <td>5</td>\n",
              "    </tr>\n",
              "    <tr>\n",
              "      <td>3</td>\n",
              "      <td>1303000323_TR</td>\n",
              "      <td>4180.0</td>\n",
              "      <td>1345.00</td>\n",
              "      <td>1</td>\n",
              "      <td>23.03.2017 20:01</td>\n",
              "      <td>2017-03-23</td>\n",
              "      <td>20</td>\n",
              "      <td>3</td>\n",
              "    </tr>\n",
              "    <tr>\n",
              "      <td>4</td>\n",
              "      <td>1303000324_TR</td>\n",
              "      <td>18500.0</td>\n",
              "      <td>3400.00</td>\n",
              "      <td>1</td>\n",
              "      <td>24.03.2017 10:06</td>\n",
              "      <td>2017-03-24</td>\n",
              "      <td>10</td>\n",
              "      <td>4</td>\n",
              "    </tr>\n",
              "    <tr>\n",
              "      <td>...</td>\n",
              "      <td>...</td>\n",
              "      <td>...</td>\n",
              "      <td>...</td>\n",
              "      <td>...</td>\n",
              "      <td>...</td>\n",
              "      <td>...</td>\n",
              "      <td>...</td>\n",
              "      <td>...</td>\n",
              "    </tr>\n",
              "    <tr>\n",
              "      <td>75627</td>\n",
              "      <td>4513463_TR</td>\n",
              "      <td>1932.0</td>\n",
              "      <td>429.28</td>\n",
              "      <td>4</td>\n",
              "      <td>30.04.2017 23:48</td>\n",
              "      <td>2017-04-30</td>\n",
              "      <td>23</td>\n",
              "      <td>6</td>\n",
              "    </tr>\n",
              "    <tr>\n",
              "      <td>75628</td>\n",
              "      <td>4513474_TR</td>\n",
              "      <td>2002.0</td>\n",
              "      <td>558.57</td>\n",
              "      <td>10</td>\n",
              "      <td>30.04.2017 23:53</td>\n",
              "      <td>2017-04-30</td>\n",
              "      <td>23</td>\n",
              "      <td>6</td>\n",
              "    </tr>\n",
              "    <tr>\n",
              "      <td>75629</td>\n",
              "      <td>4513480_TR</td>\n",
              "      <td>4864.0</td>\n",
              "      <td>910.86</td>\n",
              "      <td>2</td>\n",
              "      <td>30.04.2017 23:58</td>\n",
              "      <td>2017-04-30</td>\n",
              "      <td>23</td>\n",
              "      <td>6</td>\n",
              "    </tr>\n",
              "    <tr>\n",
              "      <td>75630</td>\n",
              "      <td>4513486_TR</td>\n",
              "      <td>1436.0</td>\n",
              "      <td>-118.60</td>\n",
              "      <td>3</td>\n",
              "      <td>30.04.2017 23:58</td>\n",
              "      <td>2017-04-30</td>\n",
              "      <td>23</td>\n",
              "      <td>6</td>\n",
              "    </tr>\n",
              "    <tr>\n",
              "      <td>75631</td>\n",
              "      <td>4513487_TR</td>\n",
              "      <td>2319.0</td>\n",
              "      <td>107.62</td>\n",
              "      <td>44</td>\n",
              "      <td>30.04.2017 23:58</td>\n",
              "      <td>2017-04-30</td>\n",
              "      <td>23</td>\n",
              "      <td>6</td>\n",
              "    </tr>\n",
              "  </tbody>\n",
              "</table>\n",
              "<p>75632 rows × 8 columns</p>\n",
              "</div>"
            ],
            "text/plain": [
              "      НомерЗаказаНаСайте  Revenue    Marge  Количество              Дата  \\\n",
              "0          1303000313_TR    247.0    63.08           1   04.03.2017 9:53   \n",
              "1          1303000319_TR  13300.0  3246.00           1  16.03.2017 12:58   \n",
              "2          1303000321_TR  16150.0  4436.07           1  18.03.2017 18:22   \n",
              "3          1303000323_TR   4180.0  1345.00           1  23.03.2017 20:01   \n",
              "4          1303000324_TR  18500.0  3400.00           1  24.03.2017 10:06   \n",
              "...                  ...      ...      ...         ...               ...   \n",
              "75627         4513463_TR   1932.0   429.28           4  30.04.2017 23:48   \n",
              "75628         4513474_TR   2002.0   558.57          10  30.04.2017 23:53   \n",
              "75629         4513480_TR   4864.0   910.86           2  30.04.2017 23:58   \n",
              "75630         4513486_TR   1436.0  -118.60           3  30.04.2017 23:58   \n",
              "75631         4513487_TR   2319.0   107.62          44  30.04.2017 23:58   \n",
              "\n",
              "            Date  Hours  Weekday  \n",
              "0     2017-03-04      9        5  \n",
              "1     2017-03-16     12        3  \n",
              "2     2017-03-18     18        5  \n",
              "3     2017-03-23     20        3  \n",
              "4     2017-03-24     10        4  \n",
              "...          ...    ...      ...  \n",
              "75627 2017-04-30     23        6  \n",
              "75628 2017-04-30     23        6  \n",
              "75629 2017-04-30     23        6  \n",
              "75630 2017-04-30     23        6  \n",
              "75631 2017-04-30     23        6  \n",
              "\n",
              "[75632 rows x 8 columns]"
            ]
          },
          "metadata": {
            "tags": []
          },
          "execution_count": 15
        }
      ]
    },
    {
      "cell_type": "code",
      "metadata": {
        "id": "t7r0igPNfpnz",
        "colab_type": "code",
        "colab": {}
      },
      "source": [
        "df_by_bills.to_csv('clean_data_drouped_by_bills.csv')"
      ],
      "execution_count": 0,
      "outputs": []
    },
    {
      "cell_type": "code",
      "metadata": {
        "id": "dH4CUc5Zfpn1",
        "colab_type": "code",
        "colab": {}
      },
      "source": [
        ""
      ],
      "execution_count": 0,
      "outputs": []
    }
  ]
}