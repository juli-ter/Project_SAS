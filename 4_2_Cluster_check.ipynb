{
  "nbformat": 4,
  "nbformat_minor": 0,
  "metadata": {
    "kernelspec": {
      "display_name": "Python 3",
      "language": "python",
      "name": "python3"
    },
    "language_info": {
      "codemirror_mode": {
        "name": "ipython",
        "version": 3
      },
      "file_extension": ".py",
      "mimetype": "text/x-python",
      "name": "python",
      "nbconvert_exporter": "python",
      "pygments_lexer": "ipython3",
      "version": "3.7.4"
    },
    "colab": {
      "name": "4.2_Cluster_check.ipynb",
      "provenance": [],
      "include_colab_link": true
    }
  },
  "cells": [
    {
      "cell_type": "markdown",
      "metadata": {
        "id": "view-in-github",
        "colab_type": "text"
      },
      "source": [
        "<a href=\"https://colab.research.google.com/github/juli-ter/Project_SAS/blob/master/4_2_Cluster_check.ipynb\" target=\"_parent\"><img src=\"https://colab.research.google.com/assets/colab-badge.svg\" alt=\"Open In Colab\"/></a>"
      ]
    },
    {
      "cell_type": "code",
      "metadata": {
        "id": "tuuS39jdXHeV",
        "colab_type": "code",
        "colab": {}
      },
      "source": [
        "import pandas as pd\n",
        "import numpy as np"
      ],
      "execution_count": null,
      "outputs": []
    },
    {
      "cell_type": "code",
      "metadata": {
        "id": "Vy6lJQ3OXHec",
        "colab_type": "code",
        "colab": {}
      },
      "source": [
        "df_1 = pd.read_csv('labeled_showcase.csv')\n",
        "df_2 = pd.read_csv('clean_data_final01.csv')"
      ],
      "execution_count": null,
      "outputs": []
    },
    {
      "cell_type": "code",
      "metadata": {
        "id": "37qz2EY4XHeg",
        "colab_type": "code",
        "colab": {},
        "outputId": "95e1653e-126c-4636-b7a9-464dcc719faa"
      },
      "source": [
        "df_1 = df_1[['Телефон_new','labels']]\n",
        "df_1"
      ],
      "execution_count": null,
      "outputs": [
        {
          "output_type": "execute_result",
          "data": {
            "text/html": [
              "<div>\n",
              "<style scoped>\n",
              "    .dataframe tbody tr th:only-of-type {\n",
              "        vertical-align: middle;\n",
              "    }\n",
              "\n",
              "    .dataframe tbody tr th {\n",
              "        vertical-align: top;\n",
              "    }\n",
              "\n",
              "    .dataframe thead th {\n",
              "        text-align: right;\n",
              "    }\n",
              "</style>\n",
              "<table border=\"1\" class=\"dataframe\">\n",
              "  <thead>\n",
              "    <tr style=\"text-align: right;\">\n",
              "      <th></th>\n",
              "      <th>Телефон_new</th>\n",
              "      <th>labels</th>\n",
              "    </tr>\n",
              "  </thead>\n",
              "  <tbody>\n",
              "    <tr>\n",
              "      <td>0</td>\n",
              "      <td>32555749-545749525150 .</td>\n",
              "      <td>1</td>\n",
              "    </tr>\n",
              "    <tr>\n",
              "      <td>1</td>\n",
              "      <td>55494851-56495152535476</td>\n",
              "      <td>1</td>\n",
              "    </tr>\n",
              "    <tr>\n",
              "      <td>2</td>\n",
              "      <td>55574848-48485149515175</td>\n",
              "      <td>0</td>\n",
              "    </tr>\n",
              "    <tr>\n",
              "      <td>3</td>\n",
              "      <td>55574848-48485149515377</td>\n",
              "      <td>0</td>\n",
              "    </tr>\n",
              "    <tr>\n",
              "      <td>4</td>\n",
              "      <td>55574848-48494948544878</td>\n",
              "      <td>1</td>\n",
              "    </tr>\n",
              "    <tr>\n",
              "      <td>...</td>\n",
              "      <td>...</td>\n",
              "      <td>...</td>\n",
              "    </tr>\n",
              "    <tr>\n",
              "      <td>58025</td>\n",
              "      <td>56575053-49545153535383</td>\n",
              "      <td>1</td>\n",
              "    </tr>\n",
              "    <tr>\n",
              "      <td>58026</td>\n",
              "      <td>56575454-48485156545486</td>\n",
              "      <td>3</td>\n",
              "    </tr>\n",
              "    <tr>\n",
              "      <td>58027</td>\n",
              "      <td>56575655-52525750505484</td>\n",
              "      <td>1</td>\n",
              "    </tr>\n",
              "    <tr>\n",
              "      <td>58028</td>\n",
              "      <td>57484948-48505057565793</td>\n",
              "      <td>1</td>\n",
              "    </tr>\n",
              "    <tr>\n",
              "      <td>58029</td>\n",
              "      <td>57495452-49485054525597</td>\n",
              "      <td>1</td>\n",
              "    </tr>\n",
              "  </tbody>\n",
              "</table>\n",
              "<p>58030 rows × 2 columns</p>\n",
              "</div>"
            ],
            "text/plain": [
              "                   Телефон_new  labels\n",
              "0      32555749-545749525150 .       1\n",
              "1      55494851-56495152535476       1\n",
              "2      55574848-48485149515175       0\n",
              "3      55574848-48485149515377       0\n",
              "4      55574848-48494948544878       1\n",
              "...                        ...     ...\n",
              "58025  56575053-49545153535383       1\n",
              "58026  56575454-48485156545486       3\n",
              "58027  56575655-52525750505484       1\n",
              "58028  57484948-48505057565793       1\n",
              "58029  57495452-49485054525597       1\n",
              "\n",
              "[58030 rows x 2 columns]"
            ]
          },
          "metadata": {
            "tags": []
          },
          "execution_count": 31
        }
      ]
    },
    {
      "cell_type": "code",
      "metadata": {
        "id": "L2wub_r7XHel",
        "colab_type": "code",
        "colab": {},
        "outputId": "6adbe45d-f9a8-4135-c316-da2a005e7f32"
      },
      "source": [
        "df_2"
      ],
      "execution_count": null,
      "outputs": [
        {
          "output_type": "execute_result",
          "data": {
            "text/html": [
              "<div>\n",
              "<style scoped>\n",
              "    .dataframe tbody tr th:only-of-type {\n",
              "        vertical-align: middle;\n",
              "    }\n",
              "\n",
              "    .dataframe tbody tr th {\n",
              "        vertical-align: top;\n",
              "    }\n",
              "\n",
              "    .dataframe thead th {\n",
              "        text-align: right;\n",
              "    }\n",
              "</style>\n",
              "<table border=\"1\" class=\"dataframe\">\n",
              "  <thead>\n",
              "    <tr style=\"text-align: right;\">\n",
              "      <th></th>\n",
              "      <th>Unnamed: 0</th>\n",
              "      <th>Дата</th>\n",
              "      <th>ДатаДоставки</th>\n",
              "      <th>НомерЗаказаНаСайте</th>\n",
              "      <th>НовыйСтатус</th>\n",
              "      <th>СуммаЗаказаНаСайте</th>\n",
              "      <th>СуммаДокумента</th>\n",
              "      <th>МетодДоставки</th>\n",
              "      <th>ФормаОплаты</th>\n",
              "      <th>Регион</th>\n",
              "      <th>...</th>\n",
              "      <th>СуммаУслуг</th>\n",
              "      <th>СуммаДоставки</th>\n",
              "      <th>НомерСтроки</th>\n",
              "      <th>КоличествоПроданоКлиенту</th>\n",
              "      <th>ДатаЗаказаНаСайте</th>\n",
              "      <th>Телефон_new</th>\n",
              "      <th>ЭлектроннаяПочта_new</th>\n",
              "      <th>Клиент</th>\n",
              "      <th>ID_SKU</th>\n",
              "      <th>ГородМагазина</th>\n",
              "    </tr>\n",
              "  </thead>\n",
              "  <tbody>\n",
              "    <tr>\n",
              "      <td>0</td>\n",
              "      <td>1</td>\n",
              "      <td>01.03.2017 12:22</td>\n",
              "      <td>15.03.2017 0:00</td>\n",
              "      <td>3999117_TR</td>\n",
              "      <td>Доставлен</td>\n",
              "      <td>4819</td>\n",
              "      <td>3 759</td>\n",
              "      <td>Магазины</td>\n",
              "      <td>Безналичная</td>\n",
              "      <td>Челябинск</td>\n",
              "      <td>...</td>\n",
              "      <td>0</td>\n",
              "      <td>0</td>\n",
              "      <td>3</td>\n",
              "      <td>1</td>\n",
              "      <td>01.03.2017 0:00</td>\n",
              "      <td>55575453-56535648535679</td>\n",
              "      <td>107117_ku16@list.ru</td>\n",
              "      <td>Гость</td>\n",
              "      <td>IDL00028974351</td>\n",
              "      <td>0</td>\n",
              "    </tr>\n",
              "    <tr>\n",
              "      <td>1</td>\n",
              "      <td>2</td>\n",
              "      <td>01.03.2017 12:31</td>\n",
              "      <td>17.03.2017 0:00</td>\n",
              "      <td>3999122_TR</td>\n",
              "      <td>Доставлен</td>\n",
              "      <td>3325</td>\n",
              "      <td>3 325</td>\n",
              "      <td>Магазины</td>\n",
              "      <td>Безналичная</td>\n",
              "      <td>Нижневартовск</td>\n",
              "      <td>...</td>\n",
              "      <td>0</td>\n",
              "      <td>0</td>\n",
              "      <td>1</td>\n",
              "      <td>1</td>\n",
              "      <td>01.03.2017 0:00</td>\n",
              "      <td>55574950-57515657535772</td>\n",
              "      <td>109117_mu17@mail.ru</td>\n",
              "      <td>Гость</td>\n",
              "      <td>IDL00038573351</td>\n",
              "      <td>0</td>\n",
              "    </tr>\n",
              "    <tr>\n",
              "      <td>2</td>\n",
              "      <td>4</td>\n",
              "      <td>01.03.2017 11:38</td>\n",
              "      <td>14.03.2017 0:00</td>\n",
              "      <td>3999411_TR</td>\n",
              "      <td>Доставлен</td>\n",
              "      <td>528</td>\n",
              "      <td>528</td>\n",
              "      <td>Магазины</td>\n",
              "      <td>Безналичная</td>\n",
              "      <td>Ижевск</td>\n",
              "      <td>...</td>\n",
              "      <td>0</td>\n",
              "      <td>0</td>\n",
              "      <td>3</td>\n",
              "      <td>1</td>\n",
              "      <td>01.03.2017 0:00</td>\n",
              "      <td>55574854-56495552515179</td>\n",
              "      <td>guest_103117_gu28@workmail.ru</td>\n",
              "      <td>Гость</td>\n",
              "      <td>IDL00035791553</td>\n",
              "      <td>0</td>\n",
              "    </tr>\n",
              "    <tr>\n",
              "      <td>3</td>\n",
              "      <td>8</td>\n",
              "      <td>01.03.2017 9:02</td>\n",
              "      <td>03.03.2017 0:00</td>\n",
              "      <td>3999713_TR</td>\n",
              "      <td>Доставлен</td>\n",
              "      <td>1196</td>\n",
              "      <td>1 196</td>\n",
              "      <td>Магазины</td>\n",
              "      <td>Безналичная</td>\n",
              "      <td>Подольск (Московская область район)</td>\n",
              "      <td>...</td>\n",
              "      <td>49</td>\n",
              "      <td>49</td>\n",
              "      <td>3</td>\n",
              "      <td>1</td>\n",
              "      <td>01.03.2017 0:00</td>\n",
              "      <td>55574948-52515357485779</td>\n",
              "      <td>111117_ou25@yandex.ru</td>\n",
              "      <td>Ольга</td>\n",
              "      <td>IDL00025316250</td>\n",
              "      <td>0</td>\n",
              "    </tr>\n",
              "    <tr>\n",
              "      <td>4</td>\n",
              "      <td>9</td>\n",
              "      <td>01.03.2017 9:02</td>\n",
              "      <td>03.03.2017 0:00</td>\n",
              "      <td>3999713_TR</td>\n",
              "      <td>Доставлен</td>\n",
              "      <td>1196</td>\n",
              "      <td>1 196</td>\n",
              "      <td>Магазины</td>\n",
              "      <td>Безналичная</td>\n",
              "      <td>Подольск (Московская область район)</td>\n",
              "      <td>...</td>\n",
              "      <td>49</td>\n",
              "      <td>49</td>\n",
              "      <td>2</td>\n",
              "      <td>1</td>\n",
              "      <td>01.03.2017 0:00</td>\n",
              "      <td>55574948-52515357485779</td>\n",
              "      <td>111117_ou25@yandex.ru</td>\n",
              "      <td>Ольга</td>\n",
              "      <td>IDL00025320553</td>\n",
              "      <td>0</td>\n",
              "    </tr>\n",
              "    <tr>\n",
              "      <td>...</td>\n",
              "      <td>...</td>\n",
              "      <td>...</td>\n",
              "      <td>...</td>\n",
              "      <td>...</td>\n",
              "      <td>...</td>\n",
              "      <td>...</td>\n",
              "      <td>...</td>\n",
              "      <td>...</td>\n",
              "      <td>...</td>\n",
              "      <td>...</td>\n",
              "      <td>...</td>\n",
              "      <td>...</td>\n",
              "      <td>...</td>\n",
              "      <td>...</td>\n",
              "      <td>...</td>\n",
              "      <td>...</td>\n",
              "      <td>...</td>\n",
              "      <td>...</td>\n",
              "      <td>...</td>\n",
              "      <td>...</td>\n",
              "      <td>...</td>\n",
              "    </tr>\n",
              "    <tr>\n",
              "      <td>217576</td>\n",
              "      <td>691531</td>\n",
              "      <td>17.04.2017 3:18</td>\n",
              "      <td>28.04.2017 0:00</td>\n",
              "      <td>4410609_TR</td>\n",
              "      <td>Доставлен</td>\n",
              "      <td>2607</td>\n",
              "      <td>2 607</td>\n",
              "      <td>Магазины</td>\n",
              "      <td>Безналичная</td>\n",
              "      <td>Краснодар</td>\n",
              "      <td>...</td>\n",
              "      <td>0</td>\n",
              "      <td>0</td>\n",
              "      <td>1</td>\n",
              "      <td>1</td>\n",
              "      <td>17.04.2017 0:00</td>\n",
              "      <td>55575449-53485056485678</td>\n",
              "      <td>95117__u17@mail.ru</td>\n",
              "      <td>Наталья</td>\n",
              "      <td>IDL00043781351</td>\n",
              "      <td>0</td>\n",
              "    </tr>\n",
              "    <tr>\n",
              "      <td>217577</td>\n",
              "      <td>691535</td>\n",
              "      <td>17.04.2017 10:10</td>\n",
              "      <td>19.04.2017 0:00</td>\n",
              "      <td>4411268_TR</td>\n",
              "      <td>Доставлен</td>\n",
              "      <td>1377</td>\n",
              "      <td>1 377</td>\n",
              "      <td>Магазины</td>\n",
              "      <td>Безналичная</td>\n",
              "      <td>Москва</td>\n",
              "      <td>...</td>\n",
              "      <td>49</td>\n",
              "      <td>49</td>\n",
              "      <td>2</td>\n",
              "      <td>1</td>\n",
              "      <td>17.04.2017 0:00</td>\n",
              "      <td>55575054-53545152544971</td>\n",
              "      <td>guest_103117_gu28@workmail.ru</td>\n",
              "      <td>Гость</td>\n",
              "      <td>IDL00013484149</td>\n",
              "      <td>0</td>\n",
              "    </tr>\n",
              "    <tr>\n",
              "      <td>217578</td>\n",
              "      <td>691536</td>\n",
              "      <td>17.04.2017 11:03</td>\n",
              "      <td>27.04.2017 0:00</td>\n",
              "      <td>4411571_TR</td>\n",
              "      <td>Доставлен</td>\n",
              "      <td>1098</td>\n",
              "      <td>2 086</td>\n",
              "      <td>Магазины</td>\n",
              "      <td>Безналичная</td>\n",
              "      <td>Нижний Новгород</td>\n",
              "      <td>...</td>\n",
              "      <td>0</td>\n",
              "      <td>0</td>\n",
              "      <td>1</td>\n",
              "      <td>1</td>\n",
              "      <td>17.04.2017 0:00</td>\n",
              "      <td>55575448-49564957485078</td>\n",
              "      <td>97117_au19@mail.ru</td>\n",
              "      <td>Анна</td>\n",
              "      <td>IDL00026050250</td>\n",
              "      <td>0</td>\n",
              "    </tr>\n",
              "    <tr>\n",
              "      <td>217579</td>\n",
              "      <td>691537</td>\n",
              "      <td>17.04.2017 11:03</td>\n",
              "      <td>27.04.2017 0:00</td>\n",
              "      <td>4411571_TR</td>\n",
              "      <td>Доставлен</td>\n",
              "      <td>1098</td>\n",
              "      <td>2 086</td>\n",
              "      <td>Магазины</td>\n",
              "      <td>Безналичная</td>\n",
              "      <td>Нижний Новгород</td>\n",
              "      <td>...</td>\n",
              "      <td>0</td>\n",
              "      <td>0</td>\n",
              "      <td>2</td>\n",
              "      <td>1</td>\n",
              "      <td>17.04.2017 0:00</td>\n",
              "      <td>55575448-49564957485078</td>\n",
              "      <td>97117_au19@mail.ru</td>\n",
              "      <td>Анна</td>\n",
              "      <td>IDL00026050654</td>\n",
              "      <td>0</td>\n",
              "    </tr>\n",
              "    <tr>\n",
              "      <td>217580</td>\n",
              "      <td>691538</td>\n",
              "      <td>17.04.2017 10:41</td>\n",
              "      <td>24.04.2017 0:00</td>\n",
              "      <td>4411576_TR</td>\n",
              "      <td>Доставлен</td>\n",
              "      <td>13349</td>\n",
              "      <td>13 349</td>\n",
              "      <td>Магазины</td>\n",
              "      <td>Безналичная</td>\n",
              "      <td>Москва</td>\n",
              "      <td>...</td>\n",
              "      <td>0</td>\n",
              "      <td>0</td>\n",
              "      <td>2</td>\n",
              "      <td>1</td>\n",
              "      <td>17.04.2017 0:00</td>\n",
              "      <td>55575455-49525649535277</td>\n",
              "      <td>100117_du13@mail.ru</td>\n",
              "      <td>Евгения</td>\n",
              "      <td>IDL00028050856</td>\n",
              "      <td>0</td>\n",
              "    </tr>\n",
              "  </tbody>\n",
              "</table>\n",
              "<p>217581 rows × 36 columns</p>\n",
              "</div>"
            ],
            "text/plain": [
              "        Unnamed: 0              Дата     ДатаДоставки НомерЗаказаНаСайте  \\\n",
              "0                1  01.03.2017 12:22  15.03.2017 0:00         3999117_TR   \n",
              "1                2  01.03.2017 12:31  17.03.2017 0:00         3999122_TR   \n",
              "2                4  01.03.2017 11:38  14.03.2017 0:00         3999411_TR   \n",
              "3                8   01.03.2017 9:02  03.03.2017 0:00         3999713_TR   \n",
              "4                9   01.03.2017 9:02  03.03.2017 0:00         3999713_TR   \n",
              "...            ...               ...              ...                ...   \n",
              "217576      691531   17.04.2017 3:18  28.04.2017 0:00         4410609_TR   \n",
              "217577      691535  17.04.2017 10:10  19.04.2017 0:00         4411268_TR   \n",
              "217578      691536  17.04.2017 11:03  27.04.2017 0:00         4411571_TR   \n",
              "217579      691537  17.04.2017 11:03  27.04.2017 0:00         4411571_TR   \n",
              "217580      691538  17.04.2017 10:41  24.04.2017 0:00         4411576_TR   \n",
              "\n",
              "       НовыйСтатус  СуммаЗаказаНаСайте СуммаДокумента МетодДоставки  \\\n",
              "0        Доставлен                4819          3 759      Магазины   \n",
              "1        Доставлен                3325          3 325      Магазины   \n",
              "2        Доставлен                 528            528      Магазины   \n",
              "3        Доставлен                1196          1 196      Магазины   \n",
              "4        Доставлен                1196          1 196      Магазины   \n",
              "...            ...                 ...            ...           ...   \n",
              "217576   Доставлен                2607          2 607      Магазины   \n",
              "217577   Доставлен                1377          1 377      Магазины   \n",
              "217578   Доставлен                1098          2 086      Магазины   \n",
              "217579   Доставлен                1098          2 086      Магазины   \n",
              "217580   Доставлен               13349         13 349      Магазины   \n",
              "\n",
              "        ФормаОплаты                               Регион  ... СуммаУслуг  \\\n",
              "0       Безналичная                            Челябинск  ...          0   \n",
              "1       Безналичная                        Нижневартовск  ...          0   \n",
              "2       Безналичная                               Ижевск  ...          0   \n",
              "3       Безналичная  Подольск (Московская область район)  ...         49   \n",
              "4       Безналичная  Подольск (Московская область район)  ...         49   \n",
              "...             ...                                  ...  ...        ...   \n",
              "217576  Безналичная                            Краснодар  ...          0   \n",
              "217577  Безналичная                               Москва  ...         49   \n",
              "217578  Безналичная                      Нижний Новгород  ...          0   \n",
              "217579  Безналичная                      Нижний Новгород  ...          0   \n",
              "217580  Безналичная                               Москва  ...          0   \n",
              "\n",
              "       СуммаДоставки НомерСтроки КоличествоПроданоКлиенту ДатаЗаказаНаСайте  \\\n",
              "0                  0           3                        1   01.03.2017 0:00   \n",
              "1                  0           1                        1   01.03.2017 0:00   \n",
              "2                  0           3                        1   01.03.2017 0:00   \n",
              "3                 49           3                        1   01.03.2017 0:00   \n",
              "4                 49           2                        1   01.03.2017 0:00   \n",
              "...              ...         ...                      ...               ...   \n",
              "217576             0           1                        1   17.04.2017 0:00   \n",
              "217577            49           2                        1   17.04.2017 0:00   \n",
              "217578             0           1                        1   17.04.2017 0:00   \n",
              "217579             0           2                        1   17.04.2017 0:00   \n",
              "217580             0           2                        1   17.04.2017 0:00   \n",
              "\n",
              "                    Телефон_new           ЭлектроннаяПочта_new   Клиент  \\\n",
              "0       55575453-56535648535679            107117_ku16@list.ru    Гость   \n",
              "1       55574950-57515657535772            109117_mu17@mail.ru    Гость   \n",
              "2       55574854-56495552515179  guest_103117_gu28@workmail.ru    Гость   \n",
              "3       55574948-52515357485779          111117_ou25@yandex.ru    Ольга   \n",
              "4       55574948-52515357485779          111117_ou25@yandex.ru    Ольга   \n",
              "...                         ...                            ...      ...   \n",
              "217576  55575449-53485056485678             95117__u17@mail.ru  Наталья   \n",
              "217577  55575054-53545152544971  guest_103117_gu28@workmail.ru    Гость   \n",
              "217578  55575448-49564957485078             97117_au19@mail.ru     Анна   \n",
              "217579  55575448-49564957485078             97117_au19@mail.ru     Анна   \n",
              "217580  55575455-49525649535277            100117_du13@mail.ru  Евгения   \n",
              "\n",
              "                ID_SKU  ГородМагазина  \n",
              "0       IDL00028974351              0  \n",
              "1       IDL00038573351              0  \n",
              "2       IDL00035791553              0  \n",
              "3       IDL00025316250              0  \n",
              "4       IDL00025320553              0  \n",
              "...                ...            ...  \n",
              "217576  IDL00043781351              0  \n",
              "217577  IDL00013484149              0  \n",
              "217578  IDL00026050250              0  \n",
              "217579  IDL00026050654              0  \n",
              "217580  IDL00028050856              0  \n",
              "\n",
              "[217581 rows x 36 columns]"
            ]
          },
          "metadata": {
            "tags": []
          },
          "execution_count": 32
        }
      ]
    },
    {
      "cell_type": "code",
      "metadata": {
        "id": "mOuOeQX_XHew",
        "colab_type": "code",
        "colab": {},
        "outputId": "02219566-0741-4d67-f345-e4a335ce8530"
      },
      "source": [
        "df_2.columns"
      ],
      "execution_count": null,
      "outputs": [
        {
          "output_type": "execute_result",
          "data": {
            "text/plain": [
              "Index(['Unnamed: 0', 'Дата', 'ДатаДоставки', 'НомерЗаказаНаСайте',\n",
              "       'НовыйСтатус', 'СуммаЗаказаНаСайте', 'СуммаДокумента', 'МетодДоставки',\n",
              "       'ФормаОплаты', 'Регион', 'Группа2', 'Группа3', 'Группа4', 'Тип',\n",
              "       'Номенклатура', 'ТипТовара', 'Отменено', 'Количество', 'Цена',\n",
              "       'Revenue', 'ЦенаЗакупки', 'МесяцДатыЗаказа', 'ГодДатыЗаказа', 'Статус',\n",
              "       'Гео', 'Marge', 'СуммаУслуг', 'СуммаДоставки', 'НомерСтроки',\n",
              "       'КоличествоПроданоКлиенту', 'ДатаЗаказаНаСайте', 'Телефон_new',\n",
              "       'ЭлектроннаяПочта_new', 'Клиент', 'ID_SKU', 'ГородМагазина'],\n",
              "      dtype='object')"
            ]
          },
          "metadata": {
            "tags": []
          },
          "execution_count": 33
        }
      ]
    },
    {
      "cell_type": "code",
      "metadata": {
        "id": "eo5Ux6RtXHe3",
        "colab_type": "code",
        "colab": {}
      },
      "source": [
        "df = df_2.merge(df_1, on=['Телефон_new'], how='left')"
      ],
      "execution_count": null,
      "outputs": []
    },
    {
      "cell_type": "code",
      "metadata": {
        "id": "V55TjJWiXHe-",
        "colab_type": "code",
        "colab": {},
        "outputId": "769e06b7-d179-4d4d-fdcd-529c1e46283f"
      },
      "source": [
        "#clust 0\n",
        "clust0_1 = df[df.labels == 0]\n",
        "clust0 = clust0_1[['НомерЗаказаНаСайте','Revenue','Количество']]\n",
        "clust0 = clust0.groupby('НомерЗаказаНаСайте').agg(sum)\n",
        "clust0.reset_index()"
      ],
      "execution_count": null,
      "outputs": [
        {
          "output_type": "execute_result",
          "data": {
            "text/html": [
              "<div>\n",
              "<style scoped>\n",
              "    .dataframe tbody tr th:only-of-type {\n",
              "        vertical-align: middle;\n",
              "    }\n",
              "\n",
              "    .dataframe tbody tr th {\n",
              "        vertical-align: top;\n",
              "    }\n",
              "\n",
              "    .dataframe thead th {\n",
              "        text-align: right;\n",
              "    }\n",
              "</style>\n",
              "<table border=\"1\" class=\"dataframe\">\n",
              "  <thead>\n",
              "    <tr style=\"text-align: right;\">\n",
              "      <th></th>\n",
              "      <th>НомерЗаказаНаСайте</th>\n",
              "      <th>Revenue</th>\n",
              "      <th>Количество</th>\n",
              "    </tr>\n",
              "  </thead>\n",
              "  <tbody>\n",
              "    <tr>\n",
              "      <td>0</td>\n",
              "      <td>1303000319_TR</td>\n",
              "      <td>13300.0</td>\n",
              "      <td>1</td>\n",
              "    </tr>\n",
              "    <tr>\n",
              "      <td>1</td>\n",
              "      <td>1303000321_TR</td>\n",
              "      <td>16150.0</td>\n",
              "      <td>1</td>\n",
              "    </tr>\n",
              "    <tr>\n",
              "      <td>2</td>\n",
              "      <td>1303000323_TR</td>\n",
              "      <td>4180.0</td>\n",
              "      <td>1</td>\n",
              "    </tr>\n",
              "    <tr>\n",
              "      <td>3</td>\n",
              "      <td>1303000324_TR</td>\n",
              "      <td>18500.0</td>\n",
              "      <td>1</td>\n",
              "    </tr>\n",
              "    <tr>\n",
              "      <td>4</td>\n",
              "      <td>1303000325_TR</td>\n",
              "      <td>18050.0</td>\n",
              "      <td>1</td>\n",
              "    </tr>\n",
              "    <tr>\n",
              "      <td>...</td>\n",
              "      <td>...</td>\n",
              "      <td>...</td>\n",
              "      <td>...</td>\n",
              "    </tr>\n",
              "    <tr>\n",
              "      <td>11954</td>\n",
              "      <td>4513265_TR</td>\n",
              "      <td>4999.0</td>\n",
              "      <td>1</td>\n",
              "    </tr>\n",
              "    <tr>\n",
              "      <td>11955</td>\n",
              "      <td>4513280_TR</td>\n",
              "      <td>17945.0</td>\n",
              "      <td>1</td>\n",
              "    </tr>\n",
              "    <tr>\n",
              "      <td>11956</td>\n",
              "      <td>4513455_TR</td>\n",
              "      <td>1546.0</td>\n",
              "      <td>1</td>\n",
              "    </tr>\n",
              "    <tr>\n",
              "      <td>11957</td>\n",
              "      <td>4513456_TR</td>\n",
              "      <td>8618.0</td>\n",
              "      <td>2</td>\n",
              "    </tr>\n",
              "    <tr>\n",
              "      <td>11958</td>\n",
              "      <td>4513462_TR</td>\n",
              "      <td>19845.0</td>\n",
              "      <td>1</td>\n",
              "    </tr>\n",
              "  </tbody>\n",
              "</table>\n",
              "<p>11959 rows × 3 columns</p>\n",
              "</div>"
            ],
            "text/plain": [
              "      НомерЗаказаНаСайте  Revenue  Количество\n",
              "0          1303000319_TR  13300.0           1\n",
              "1          1303000321_TR  16150.0           1\n",
              "2          1303000323_TR   4180.0           1\n",
              "3          1303000324_TR  18500.0           1\n",
              "4          1303000325_TR  18050.0           1\n",
              "...                  ...      ...         ...\n",
              "11954         4513265_TR   4999.0           1\n",
              "11955         4513280_TR  17945.0           1\n",
              "11956         4513455_TR   1546.0           1\n",
              "11957         4513456_TR   8618.0           2\n",
              "11958         4513462_TR  19845.0           1\n",
              "\n",
              "[11959 rows x 3 columns]"
            ]
          },
          "metadata": {
            "tags": []
          },
          "execution_count": 52
        }
      ]
    },
    {
      "cell_type": "code",
      "metadata": {
        "id": "3Tv6cfXyXHfH",
        "colab_type": "code",
        "colab": {},
        "outputId": "fa0bfd15-657b-4afa-fb6d-8742d3e019bf"
      },
      "source": [
        "clust0.Revenue.mean()"
      ],
      "execution_count": null,
      "outputs": [
        {
          "output_type": "execute_result",
          "data": {
            "text/plain": [
              "7755.087576720464"
            ]
          },
          "metadata": {
            "tags": []
          },
          "execution_count": 37
        }
      ]
    },
    {
      "cell_type": "code",
      "metadata": {
        "id": "BZ0-vOGQXHfN",
        "colab_type": "code",
        "colab": {},
        "outputId": "e373f900-f0d8-4976-96dc-8840f99c0289"
      },
      "source": [
        "clust0.Revenue.sum()"
      ],
      "execution_count": null,
      "outputs": [
        {
          "output_type": "execute_result",
          "data": {
            "text/plain": [
              "92743092.33"
            ]
          },
          "metadata": {
            "tags": []
          },
          "execution_count": 38
        }
      ]
    },
    {
      "cell_type": "code",
      "metadata": {
        "id": "r8pkPK1gXHfS",
        "colab_type": "code",
        "colab": {},
        "outputId": "d785b77f-7272-4cab-9427-6575e492f6eb"
      },
      "source": [
        "clust0['Количество'].mean()"
      ],
      "execution_count": null,
      "outputs": [
        {
          "output_type": "execute_result",
          "data": {
            "text/plain": [
              "1.307718036625136"
            ]
          },
          "metadata": {
            "tags": []
          },
          "execution_count": 53
        }
      ]
    },
    {
      "cell_type": "code",
      "metadata": {
        "id": "rNY-4uqyXHfY",
        "colab_type": "code",
        "colab": {},
        "outputId": "e3c69ac2-aece-414d-bc6a-5dae7cc053ba"
      },
      "source": [
        "clust0_1['Группа3'].unique()"
      ],
      "execution_count": null,
      "outputs": [
        {
          "output_type": "execute_result",
          "data": {
            "text/plain": [
              "array(['КОЛЯСКИ', 'ДЕТСКИЕ СТУЛЬЯ ДЛЯ КОРМЛЕНИЯ', 'КАТАЛКИ/КАЧАЛКИ',\n",
              "       'АВТОКРЕСЛА', 'ИЗДЕЛИЯ ИЗ ПЛАСТМАССЫ', 'ДЕТСКАЯ МЕБЕЛЬ, МАТРАСЫ',\n",
              "       'СПОРТИВНЫЕ КОМПЛЕКСЫ И ПЕСОЧНИЦЫ', 'ВЕЛОСИПЕДЫ/САМОКАТЫ',\n",
              "       'ДЕТСКАЯ ОДЕЖДА (7-16 лет)', 'СОПУТСТВУЮЩИЕ ТОВАРЫ ДЛЯ ОБУВИ',\n",
              "       'ПОСТЕЛЬНОЕ БЕЛЬЕ', 'ЭЛЕКТРОМОБИЛИ/МАШИНЫ ПЕДАЛЬНЫЕ',\n",
              "       'КОРЗИНЫ, ЯЩИКИ ДЛЯ ИГРУШЕК', 'ХОДУНКИ/ПРЫГУНКИ',\n",
              "       'КОЛЯСКИ ДЛЯ КУКОЛ', 'МАНЕЖИ/ШЕЗЛОНГИ', 'ВЕРХНЯЯ ДЕТСКАЯ ОДЕЖДА',\n",
              "       'ОДЕЖДА, ОБУВЬ', 'ОДЕЖДА ДЛЯ НОВОРОЖДЕННЫХ (0-2 лет)',\n",
              "       'ГОЛОВНЫЕ УБОРЫ, ВАРЕЖКИ, ПЕРЧАТКИ', 'САНКИ/СНЕГОКАТЫ',\n",
              "       'ОБУВЬ ДЕТСКАЯ', 'ИГРУШКИ ДЛЯ РАЗВИТИЯ МАЛЫШЕЙ',\n",
              "       'ИГРУШКИ ДЛЯ ДЕВОЧЕК', 'ЭЛЕКТРОПРИБОРЫ', 'НАСТОЛЬНЫЕ ИГРЫ',\n",
              "       'ИГРУШКИ ДЛЯ МАЛЬЧИКОВ', 'МУЗЫКАЛЬНЫЕ ИНСТРУМЕНТЫ', 'КОНСТРУКТОРЫ',\n",
              "       'ДЕТСКИЕ КОЛГОТКИ И НОСКИ', 'ПОДГУЗНИКИ', 'ТОВАРЫ ДЛЯ МАМ',\n",
              "       'ТВОРЧЕСТВО', 'ПРЕДМЕТЫ ПО УХОДУ ЗА НОВОРОЖДЕННЫМИ',\n",
              "       'СРЕДСТВА ГИГИЕНЫ', 'ПЮРЕ', 'ЗАМЕНИТЕЛИ МОЛОКА', 'СУМКИ ДЛЯ МАМ',\n",
              "       'ДЕТСКАЯ КОСМЕТИКА', 'АКСЕССУАРЫ', 'ДЕТСКОЕ БЕЛЬЁ',\n",
              "       'ДЕТСКАЯ ОДЕЖДА (2-6 лет)', 'АКТИВНЫЙ ОТДЫХ', 'ФИГУРЫ, ПЕРСОНАЖИ',\n",
              "       'ПОСУДА', 'ПЕЛЕНКИ ОДНОРАЗОВЫЕ', 'ТОВАРЫ ДЛЯ РЫБ', 'ОБУВЬ ЖЕНСКАЯ',\n",
              "       'МЯГКИЕ ИГРУШКИ', 'ТОВАРЫ ДЛЯ КОШЕК', 'БУТЫЛОЧКИ',\n",
              "       'ЛАМПЫ/СВЕТИЛЬНИКИ', 'СОСКИ/ПУСТЫШКИ', 'КАНЦТОВАРЫ',\n",
              "       'МОЛОКООТСОСЫ', 'КАШИ', 'ТРУСИКИ НЕПРОМОКАЕМЫЕ',\n",
              "       'ТОВАРЫ ДЛЯ СОБАК', 'ПРОДУКТЫ ПИТАНИЯ ДЛЯ МАМ', 'ЭЛЕМЕНТЫ ПИТАНИЯ',\n",
              "       'ВСЁ ДЛЯ ПРАЗДНИКА', 'СРЕДСТВА БЫТОВОЙ ХИМИИ', 'ТОВАРЫ ДЛЯ ПТИЦ',\n",
              "       'БАКАЛЕЯ', 'ПОЛИГРАФИЧЕСКАЯ ПРОДУКЦИЯ', 'АКСЕССУАРЫ ДЛЯ ДЕВОЧЕК'],\n",
              "      dtype=object)"
            ]
          },
          "metadata": {
            "tags": []
          },
          "execution_count": 40
        }
      ]
    },
    {
      "cell_type": "code",
      "metadata": {
        "id": "nyEd_VztXHfd",
        "colab_type": "code",
        "colab": {},
        "outputId": "335aa154-396b-46cf-9646-a74a94dbceaa"
      },
      "source": [
        "clust0_1['Группа2'].unique()"
      ],
      "execution_count": null,
      "outputs": [
        {
          "output_type": "execute_result",
          "data": {
            "text/plain": [
              "array(['КРУПНОГАБАРИТНЫЙ ТОВАР', 'ТЕКСТИЛЬ, ТРИКОТАЖ', 'ОБУВЬ',\n",
              "       'ЖЕНСКИЕ ШТУЧКИ', 'ИГРУШКИ', 'ТОВАРЫ ДЛЯ КОРМЛЕНИЯ', 'ПОДГУЗНИКИ',\n",
              "       'КОСМЕТИКА/ГИГИЕНА', 'ДЕТСКОЕ ПИТАНИЕ', 'ТОВАРЫ ДЛЯ ЖИВОТНЫХ',\n",
              "       'СОПУТСТВУЮЩИЕ ТОВАРЫ', 'КАНЦТОВАРЫ, КНИГИ, ДИСКИ'], dtype=object)"
            ]
          },
          "metadata": {
            "tags": []
          },
          "execution_count": 41
        }
      ]
    },
    {
      "cell_type": "code",
      "metadata": {
        "id": "2Vm4ydEaXHfi",
        "colab_type": "code",
        "colab": {},
        "outputId": "2e8ce8cb-d232-4653-8358-69e899324a68"
      },
      "source": [
        "#clust 1\n",
        "clust1_1 = df[df.labels == 1]\n",
        "clust1 = clust1_1[['НомерЗаказаНаСайте','Revenue','Количество']]\n",
        "clust1 = clust1.groupby('НомерЗаказаНаСайте').agg(sum)\n",
        "clust1.reset_index()"
      ],
      "execution_count": null,
      "outputs": [
        {
          "output_type": "execute_result",
          "data": {
            "text/html": [
              "<div>\n",
              "<style scoped>\n",
              "    .dataframe tbody tr th:only-of-type {\n",
              "        vertical-align: middle;\n",
              "    }\n",
              "\n",
              "    .dataframe tbody tr th {\n",
              "        vertical-align: top;\n",
              "    }\n",
              "\n",
              "    .dataframe thead th {\n",
              "        text-align: right;\n",
              "    }\n",
              "</style>\n",
              "<table border=\"1\" class=\"dataframe\">\n",
              "  <thead>\n",
              "    <tr style=\"text-align: right;\">\n",
              "      <th></th>\n",
              "      <th>НомерЗаказаНаСайте</th>\n",
              "      <th>Revenue</th>\n",
              "      <th>Количество</th>\n",
              "    </tr>\n",
              "  </thead>\n",
              "  <tbody>\n",
              "    <tr>\n",
              "      <td>0</td>\n",
              "      <td>1303000313_TR</td>\n",
              "      <td>247.0</td>\n",
              "      <td>1</td>\n",
              "    </tr>\n",
              "    <tr>\n",
              "      <td>1</td>\n",
              "      <td>1303000336_TR</td>\n",
              "      <td>1906.0</td>\n",
              "      <td>1</td>\n",
              "    </tr>\n",
              "    <tr>\n",
              "      <td>2</td>\n",
              "      <td>1305001079_TR</td>\n",
              "      <td>175.0</td>\n",
              "      <td>1</td>\n",
              "    </tr>\n",
              "    <tr>\n",
              "      <td>3</td>\n",
              "      <td>1305001104_TR</td>\n",
              "      <td>134.0</td>\n",
              "      <td>1</td>\n",
              "    </tr>\n",
              "    <tr>\n",
              "      <td>4</td>\n",
              "      <td>1305001109_TR</td>\n",
              "      <td>763.0</td>\n",
              "      <td>1</td>\n",
              "    </tr>\n",
              "    <tr>\n",
              "      <td>...</td>\n",
              "      <td>...</td>\n",
              "      <td>...</td>\n",
              "      <td>...</td>\n",
              "    </tr>\n",
              "    <tr>\n",
              "      <td>47344</td>\n",
              "      <td>4513463_TR</td>\n",
              "      <td>1932.0</td>\n",
              "      <td>4</td>\n",
              "    </tr>\n",
              "    <tr>\n",
              "      <td>47345</td>\n",
              "      <td>4513474_TR</td>\n",
              "      <td>2002.0</td>\n",
              "      <td>10</td>\n",
              "    </tr>\n",
              "    <tr>\n",
              "      <td>47346</td>\n",
              "      <td>4513480_TR</td>\n",
              "      <td>4864.0</td>\n",
              "      <td>2</td>\n",
              "    </tr>\n",
              "    <tr>\n",
              "      <td>47347</td>\n",
              "      <td>4513486_TR</td>\n",
              "      <td>1436.0</td>\n",
              "      <td>3</td>\n",
              "    </tr>\n",
              "    <tr>\n",
              "      <td>47348</td>\n",
              "      <td>4513487_TR</td>\n",
              "      <td>2319.0</td>\n",
              "      <td>44</td>\n",
              "    </tr>\n",
              "  </tbody>\n",
              "</table>\n",
              "<p>47349 rows × 3 columns</p>\n",
              "</div>"
            ],
            "text/plain": [
              "      НомерЗаказаНаСайте  Revenue  Количество\n",
              "0          1303000313_TR    247.0           1\n",
              "1          1303000336_TR   1906.0           1\n",
              "2          1305001079_TR    175.0           1\n",
              "3          1305001104_TR    134.0           1\n",
              "4          1305001109_TR    763.0           1\n",
              "...                  ...      ...         ...\n",
              "47344         4513463_TR   1932.0           4\n",
              "47345         4513474_TR   2002.0          10\n",
              "47346         4513480_TR   4864.0           2\n",
              "47347         4513486_TR   1436.0           3\n",
              "47348         4513487_TR   2319.0          44\n",
              "\n",
              "[47349 rows x 3 columns]"
            ]
          },
          "metadata": {
            "tags": []
          },
          "execution_count": 54
        }
      ]
    },
    {
      "cell_type": "code",
      "metadata": {
        "id": "BUshXOo5XHfo",
        "colab_type": "code",
        "colab": {},
        "outputId": "a306da7e-c6bb-45b8-a47d-b43cbc5c7a58"
      },
      "source": [
        "clust1.Revenue.mean()"
      ],
      "execution_count": null,
      "outputs": [
        {
          "output_type": "execute_result",
          "data": {
            "text/plain": [
              "2194.2765283321733"
            ]
          },
          "metadata": {
            "tags": []
          },
          "execution_count": 45
        }
      ]
    },
    {
      "cell_type": "code",
      "metadata": {
        "id": "tVIt7g7nXHft",
        "colab_type": "code",
        "colab": {},
        "outputId": "c9a88b24-915b-410d-b86a-143e43946496"
      },
      "source": [
        "clust1.Revenue.sum()"
      ],
      "execution_count": null,
      "outputs": [
        {
          "output_type": "execute_result",
          "data": {
            "text/plain": [
              "103896799.33999999"
            ]
          },
          "metadata": {
            "tags": []
          },
          "execution_count": 46
        }
      ]
    },
    {
      "cell_type": "code",
      "metadata": {
        "id": "vvKCdZq4XHfy",
        "colab_type": "code",
        "colab": {},
        "outputId": "cf4c59bd-3c3f-48f5-b9d6-65359b2daece"
      },
      "source": [
        "clust1['Количество'].mean()"
      ],
      "execution_count": null,
      "outputs": [
        {
          "output_type": "execute_result",
          "data": {
            "text/plain": [
              "5.0069061648609265"
            ]
          },
          "metadata": {
            "tags": []
          },
          "execution_count": 56
        }
      ]
    },
    {
      "cell_type": "code",
      "metadata": {
        "id": "qpy2CLr6XHf4",
        "colab_type": "code",
        "colab": {},
        "outputId": "4cada270-b72f-429a-d7c4-86deaaab37de"
      },
      "source": [
        "#clust 2\n",
        "clust2_1 = df[df.labels == 2]\n",
        "clust2 = clust2_1[['НомерЗаказаНаСайте','Revenue','Количество']]\n",
        "clust2 = clust2.groupby('НомерЗаказаНаСайте').agg(sum)\n",
        "clust2.reset_index()"
      ],
      "execution_count": null,
      "outputs": [
        {
          "output_type": "execute_result",
          "data": {
            "text/html": [
              "<div>\n",
              "<style scoped>\n",
              "    .dataframe tbody tr th:only-of-type {\n",
              "        vertical-align: middle;\n",
              "    }\n",
              "\n",
              "    .dataframe tbody tr th {\n",
              "        vertical-align: top;\n",
              "    }\n",
              "\n",
              "    .dataframe thead th {\n",
              "        text-align: right;\n",
              "    }\n",
              "</style>\n",
              "<table border=\"1\" class=\"dataframe\">\n",
              "  <thead>\n",
              "    <tr style=\"text-align: right;\">\n",
              "      <th></th>\n",
              "      <th>НомерЗаказаНаСайте</th>\n",
              "      <th>Revenue</th>\n",
              "      <th>Количество</th>\n",
              "    </tr>\n",
              "  </thead>\n",
              "  <tbody>\n",
              "    <tr>\n",
              "      <td>0</td>\n",
              "      <td>1867002717_TR</td>\n",
              "      <td>700.0</td>\n",
              "      <td>1</td>\n",
              "    </tr>\n",
              "    <tr>\n",
              "      <td>1</td>\n",
              "      <td>1965000360_TR</td>\n",
              "      <td>4299.0</td>\n",
              "      <td>1</td>\n",
              "    </tr>\n",
              "    <tr>\n",
              "      <td>2</td>\n",
              "      <td>1968000397_TR</td>\n",
              "      <td>1114.0</td>\n",
              "      <td>1</td>\n",
              "    </tr>\n",
              "    <tr>\n",
              "      <td>3</td>\n",
              "      <td>1974000289_TR</td>\n",
              "      <td>1755.0</td>\n",
              "      <td>1</td>\n",
              "    </tr>\n",
              "    <tr>\n",
              "      <td>4</td>\n",
              "      <td>1979000759_TR</td>\n",
              "      <td>709.0</td>\n",
              "      <td>1</td>\n",
              "    </tr>\n",
              "    <tr>\n",
              "      <td>...</td>\n",
              "      <td>...</td>\n",
              "      <td>...</td>\n",
              "      <td>...</td>\n",
              "    </tr>\n",
              "    <tr>\n",
              "      <td>2638</td>\n",
              "      <td>4512394_TR</td>\n",
              "      <td>3199.0</td>\n",
              "      <td>1</td>\n",
              "    </tr>\n",
              "    <tr>\n",
              "      <td>2639</td>\n",
              "      <td>4512731_TR</td>\n",
              "      <td>189.0</td>\n",
              "      <td>1</td>\n",
              "    </tr>\n",
              "    <tr>\n",
              "      <td>2640</td>\n",
              "      <td>4512845_TR</td>\n",
              "      <td>589.0</td>\n",
              "      <td>1</td>\n",
              "    </tr>\n",
              "    <tr>\n",
              "      <td>2641</td>\n",
              "      <td>4513184_TR</td>\n",
              "      <td>2599.0</td>\n",
              "      <td>1</td>\n",
              "    </tr>\n",
              "    <tr>\n",
              "      <td>2642</td>\n",
              "      <td>4513397_TR</td>\n",
              "      <td>2599.0</td>\n",
              "      <td>1</td>\n",
              "    </tr>\n",
              "  </tbody>\n",
              "</table>\n",
              "<p>2643 rows × 3 columns</p>\n",
              "</div>"
            ],
            "text/plain": [
              "     НомерЗаказаНаСайте  Revenue  Количество\n",
              "0         1867002717_TR    700.0           1\n",
              "1         1965000360_TR   4299.0           1\n",
              "2         1968000397_TR   1114.0           1\n",
              "3         1974000289_TR   1755.0           1\n",
              "4         1979000759_TR    709.0           1\n",
              "...                 ...      ...         ...\n",
              "2638         4512394_TR   3199.0           1\n",
              "2639         4512731_TR    189.0           1\n",
              "2640         4512845_TR    589.0           1\n",
              "2641         4513184_TR   2599.0           1\n",
              "2642         4513397_TR   2599.0           1\n",
              "\n",
              "[2643 rows x 3 columns]"
            ]
          },
          "metadata": {
            "tags": []
          },
          "execution_count": 57
        }
      ]
    },
    {
      "cell_type": "code",
      "metadata": {
        "id": "QddCJ4XAXHf9",
        "colab_type": "code",
        "colab": {},
        "outputId": "83c9415c-37ee-4064-9499-1f29256e4fba"
      },
      "source": [
        "clust2.Revenue.mean()"
      ],
      "execution_count": null,
      "outputs": [
        {
          "output_type": "execute_result",
          "data": {
            "text/plain": [
              "2292.1138743851684"
            ]
          },
          "metadata": {
            "tags": []
          },
          "execution_count": 58
        }
      ]
    },
    {
      "cell_type": "code",
      "metadata": {
        "id": "WdBqT4GDXHgF",
        "colab_type": "code",
        "colab": {},
        "outputId": "ed4dfccd-4140-4d61-e6fd-93f5d99361d7"
      },
      "source": [
        "clust2.Revenue.sum()"
      ],
      "execution_count": null,
      "outputs": [
        {
          "output_type": "execute_result",
          "data": {
            "text/plain": [
              "6058056.970000001"
            ]
          },
          "metadata": {
            "tags": []
          },
          "execution_count": 59
        }
      ]
    },
    {
      "cell_type": "code",
      "metadata": {
        "id": "cc3D2YK9XHgL",
        "colab_type": "code",
        "colab": {},
        "outputId": "79852be1-d734-41e8-950c-672ebeea5490"
      },
      "source": [
        "clust2['Количество'].mean()"
      ],
      "execution_count": null,
      "outputs": [
        {
          "output_type": "execute_result",
          "data": {
            "text/plain": [
              "1.7412031782065833"
            ]
          },
          "metadata": {
            "tags": []
          },
          "execution_count": 60
        }
      ]
    },
    {
      "cell_type": "code",
      "metadata": {
        "id": "3cYQMaiAXHgP",
        "colab_type": "code",
        "colab": {},
        "outputId": "37c7c82e-03bc-4f29-a280-afabe11fbdae"
      },
      "source": [
        "#clust 3\n",
        "clust3_1 = df[df.labels == 3]\n",
        "clust3 = clust3_1[['НомерЗаказаНаСайте','Revenue','Количество']]\n",
        "clust3 = clust3.groupby('НомерЗаказаНаСайте').agg(sum)\n",
        "clust3.reset_index()"
      ],
      "execution_count": null,
      "outputs": [
        {
          "output_type": "execute_result",
          "data": {
            "text/html": [
              "<div>\n",
              "<style scoped>\n",
              "    .dataframe tbody tr th:only-of-type {\n",
              "        vertical-align: middle;\n",
              "    }\n",
              "\n",
              "    .dataframe tbody tr th {\n",
              "        vertical-align: top;\n",
              "    }\n",
              "\n",
              "    .dataframe thead th {\n",
              "        text-align: right;\n",
              "    }\n",
              "</style>\n",
              "<table border=\"1\" class=\"dataframe\">\n",
              "  <thead>\n",
              "    <tr style=\"text-align: right;\">\n",
              "      <th></th>\n",
              "      <th>НомерЗаказаНаСайте</th>\n",
              "      <th>Revenue</th>\n",
              "      <th>Количество</th>\n",
              "    </tr>\n",
              "  </thead>\n",
              "  <tbody>\n",
              "    <tr>\n",
              "      <td>0</td>\n",
              "      <td>1867002676_TR</td>\n",
              "      <td>1277.0</td>\n",
              "      <td>1</td>\n",
              "    </tr>\n",
              "    <tr>\n",
              "      <td>1</td>\n",
              "      <td>1870001185_TR</td>\n",
              "      <td>999.0</td>\n",
              "      <td>1</td>\n",
              "    </tr>\n",
              "    <tr>\n",
              "      <td>2</td>\n",
              "      <td>1960000444_TR</td>\n",
              "      <td>999.0</td>\n",
              "      <td>1</td>\n",
              "    </tr>\n",
              "    <tr>\n",
              "      <td>3</td>\n",
              "      <td>1968000381_TR</td>\n",
              "      <td>4699.0</td>\n",
              "      <td>1</td>\n",
              "    </tr>\n",
              "    <tr>\n",
              "      <td>4</td>\n",
              "      <td>1972000303_TR</td>\n",
              "      <td>3299.0</td>\n",
              "      <td>1</td>\n",
              "    </tr>\n",
              "    <tr>\n",
              "      <td>...</td>\n",
              "      <td>...</td>\n",
              "      <td>...</td>\n",
              "      <td>...</td>\n",
              "    </tr>\n",
              "    <tr>\n",
              "      <td>13132</td>\n",
              "      <td>4513367_TR</td>\n",
              "      <td>7354.0</td>\n",
              "      <td>9</td>\n",
              "    </tr>\n",
              "    <tr>\n",
              "      <td>13133</td>\n",
              "      <td>4513403_TR</td>\n",
              "      <td>6260.0</td>\n",
              "      <td>3</td>\n",
              "    </tr>\n",
              "    <tr>\n",
              "      <td>13134</td>\n",
              "      <td>4513415_TR</td>\n",
              "      <td>3685.0</td>\n",
              "      <td>6</td>\n",
              "    </tr>\n",
              "    <tr>\n",
              "      <td>13135</td>\n",
              "      <td>4513432_TR</td>\n",
              "      <td>1560.0</td>\n",
              "      <td>1</td>\n",
              "    </tr>\n",
              "    <tr>\n",
              "      <td>13136</td>\n",
              "      <td>4513454_TR</td>\n",
              "      <td>1049.0</td>\n",
              "      <td>5</td>\n",
              "    </tr>\n",
              "  </tbody>\n",
              "</table>\n",
              "<p>13137 rows × 3 columns</p>\n",
              "</div>"
            ],
            "text/plain": [
              "      НомерЗаказаНаСайте  Revenue  Количество\n",
              "0          1867002676_TR   1277.0           1\n",
              "1          1870001185_TR    999.0           1\n",
              "2          1960000444_TR    999.0           1\n",
              "3          1968000381_TR   4699.0           1\n",
              "4          1972000303_TR   3299.0           1\n",
              "...                  ...      ...         ...\n",
              "13132         4513367_TR   7354.0           9\n",
              "13133         4513403_TR   6260.0           3\n",
              "13134         4513415_TR   3685.0           6\n",
              "13135         4513432_TR   1560.0           1\n",
              "13136         4513454_TR   1049.0           5\n",
              "\n",
              "[13137 rows x 3 columns]"
            ]
          },
          "metadata": {
            "tags": []
          },
          "execution_count": 61
        }
      ]
    },
    {
      "cell_type": "code",
      "metadata": {
        "id": "75tR6V6fXHgV",
        "colab_type": "code",
        "colab": {},
        "outputId": "cda28e83-c2f4-4a78-d978-1d13e09a5e89"
      },
      "source": [
        "clust3.Revenue.mean()"
      ],
      "execution_count": null,
      "outputs": [
        {
          "output_type": "execute_result",
          "data": {
            "text/plain": [
              "2473.3200707924184"
            ]
          },
          "metadata": {
            "tags": []
          },
          "execution_count": 62
        }
      ]
    },
    {
      "cell_type": "code",
      "metadata": {
        "id": "coTBskfSXHgZ",
        "colab_type": "code",
        "colab": {},
        "outputId": "84f3c729-e2a0-461e-f6d1-029286c3cb13"
      },
      "source": [
        "clust3.Revenue.sum()"
      ],
      "execution_count": null,
      "outputs": [
        {
          "output_type": "execute_result",
          "data": {
            "text/plain": [
              "32492005.77"
            ]
          },
          "metadata": {
            "tags": []
          },
          "execution_count": 63
        }
      ]
    },
    {
      "cell_type": "code",
      "metadata": {
        "id": "KbsBZMdiXHgd",
        "colab_type": "code",
        "colab": {},
        "outputId": "6fd98e3c-b665-4498-de1f-497dc15c4fe7"
      },
      "source": [
        "clust3['Количество'].mean()"
      ],
      "execution_count": null,
      "outputs": [
        {
          "output_type": "execute_result",
          "data": {
            "text/plain": [
              "2.991474461444774"
            ]
          },
          "metadata": {
            "tags": []
          },
          "execution_count": 64
        }
      ]
    },
    {
      "cell_type": "code",
      "metadata": {
        "id": "9_ZxTsxBXHgh",
        "colab_type": "code",
        "colab": {},
        "outputId": "82f930f4-11c6-4e79-b905-ee8ff391d54b"
      },
      "source": [
        "clust0_1['Группа2'].unique()"
      ],
      "execution_count": null,
      "outputs": [
        {
          "output_type": "execute_result",
          "data": {
            "text/plain": [
              "array(['КРУПНОГАБАРИТНЫЙ ТОВАР', 'ТЕКСТИЛЬ, ТРИКОТАЖ', 'ОБУВЬ',\n",
              "       'ЖЕНСКИЕ ШТУЧКИ', 'ИГРУШКИ', 'ТОВАРЫ ДЛЯ КОРМЛЕНИЯ', 'ПОДГУЗНИКИ',\n",
              "       'КОСМЕТИКА/ГИГИЕНА', 'ДЕТСКОЕ ПИТАНИЕ', 'ТОВАРЫ ДЛЯ ЖИВОТНЫХ',\n",
              "       'СОПУТСТВУЮЩИЕ ТОВАРЫ', 'КАНЦТОВАРЫ, КНИГИ, ДИСКИ'], dtype=object)"
            ]
          },
          "metadata": {
            "tags": []
          },
          "execution_count": 65
        }
      ]
    },
    {
      "cell_type": "code",
      "metadata": {
        "id": "I9NUw590XHgl",
        "colab_type": "code",
        "colab": {},
        "outputId": "eb07b806-40c9-44e6-b5ad-53fa2afaca43"
      },
      "source": [
        "clust1_1['Группа2'].unique()"
      ],
      "execution_count": null,
      "outputs": [
        {
          "output_type": "execute_result",
          "data": {
            "text/plain": [
              "array(['ТЕКСТИЛЬ, ТРИКОТАЖ', 'ИГРУШКИ', 'КРУПНОГАБАРИТНЫЙ ТОВАР',\n",
              "       'ПОДГУЗНИКИ', 'КОСМЕТИКА/ГИГИЕНА', 'ЖЕНСКИЕ ШТУЧКИ', 'ОБУВЬ',\n",
              "       'КАНЦТОВАРЫ, КНИГИ, ДИСКИ', 'ТОВАРЫ ДЛЯ КОРМЛЕНИЯ',\n",
              "       'СОПУТСТВУЮЩИЕ ТОВАРЫ', 'ДЕТСКОЕ ПИТАНИЕ', 'ТОВАРЫ ДЛЯ ЖИВОТНЫХ',\n",
              "       'ТЕХНИКА И ТОВАРЫ ДЛЯ ДОМА'], dtype=object)"
            ]
          },
          "metadata": {
            "tags": []
          },
          "execution_count": 66
        }
      ]
    },
    {
      "cell_type": "code",
      "metadata": {
        "id": "K_V50RKsXHgo",
        "colab_type": "code",
        "colab": {},
        "outputId": "cd54fb14-9fb9-4b72-94a6-409913477d3f"
      },
      "source": [
        "clust2_1['Группа2'].unique()"
      ],
      "execution_count": null,
      "outputs": [
        {
          "output_type": "execute_result",
          "data": {
            "text/plain": [
              "array(['ИГРУШКИ', 'КРУПНОГАБАРИТНЫЙ ТОВАР', 'ОБУВЬ', 'ТЕКСТИЛЬ, ТРИКОТАЖ',\n",
              "       'КОСМЕТИКА/ГИГИЕНА', 'КАНЦТОВАРЫ, КНИГИ, ДИСКИ', 'ПОДГУЗНИКИ',\n",
              "       'СОПУТСТВУЮЩИЕ ТОВАРЫ', 'ТОВАРЫ ДЛЯ КОРМЛЕНИЯ', 'ДЕТСКОЕ ПИТАНИЕ',\n",
              "       'ТОВАРЫ ДЛЯ ЖИВОТНЫХ', 'ЖЕНСКИЕ ШТУЧКИ'], dtype=object)"
            ]
          },
          "metadata": {
            "tags": []
          },
          "execution_count": 67
        }
      ]
    },
    {
      "cell_type": "code",
      "metadata": {
        "id": "l5mwX2V-XHgr",
        "colab_type": "code",
        "colab": {},
        "outputId": "dde6fa5b-6d0e-4240-a2bd-65c49217fe09"
      },
      "source": [
        "clust3_1['Группа2'].unique()"
      ],
      "execution_count": null,
      "outputs": [
        {
          "output_type": "execute_result",
          "data": {
            "text/plain": [
              "array(['ТЕКСТИЛЬ, ТРИКОТАЖ', 'ОБУВЬ', 'СОПУТСТВУЮЩИЕ ТОВАРЫ',\n",
              "       'КРУПНОГАБАРИТНЫЙ ТОВАР', 'ИГРУШКИ', 'ЖЕНСКИЕ ШТУЧКИ',\n",
              "       'КАНЦТОВАРЫ, КНИГИ, ДИСКИ', 'ТОВАРЫ ДЛЯ КОРМЛЕНИЯ', 'ПОДГУЗНИКИ',\n",
              "       'КОСМЕТИКА/ГИГИЕНА', 'ДЕТСКОЕ ПИТАНИЕ', 'ТОВАРЫ ДЛЯ ЖИВОТНЫХ',\n",
              "       'ТЕХНИКА И ТОВАРЫ ДЛЯ ДОМА'], dtype=object)"
            ]
          },
          "metadata": {
            "tags": []
          },
          "execution_count": 68
        }
      ]
    },
    {
      "cell_type": "code",
      "metadata": {
        "id": "_Oq5hc7PXHgu",
        "colab_type": "code",
        "colab": {}
      },
      "source": [
        "\n"
      ],
      "execution_count": null,
      "outputs": []
    }
  ]
}