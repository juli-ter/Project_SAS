{
  "nbformat": 4,
  "nbformat_minor": 0,
  "metadata": {
    "kernelspec": {
      "display_name": "Python 3",
      "language": "python",
      "name": "python3"
    },
    "language_info": {
      "codemirror_mode": {
        "name": "ipython",
        "version": 3
      },
      "file_extension": ".py",
      "mimetype": "text/x-python",
      "name": "python",
      "nbconvert_exporter": "python",
      "pygments_lexer": "ipython3",
      "version": "3.7.4"
    },
    "colab": {
      "name": "2. Statistics and visualisation.ipynb",
      "provenance": [],
      "include_colab_link": true
    }
  },
  "cells": [
    {
      "cell_type": "markdown",
      "metadata": {
        "id": "view-in-github",
        "colab_type": "text"
      },
      "source": [
        "<a href=\"https://colab.research.google.com/github/juli-ter/Project_SAS/blob/master/2_Statistics_and_visualisation.ipynb\" target=\"_parent\"><img src=\"https://colab.research.google.com/assets/colab-badge.svg\" alt=\"Open In Colab\"/></a>"
      ]
    },
    {
      "cell_type": "markdown",
      "metadata": {
        "id": "roLmG3beFOS_",
        "colab_type": "text"
      },
      "source": [
        "# 2. Statistics and visualisation"
      ]
    },
    {
      "cell_type": "markdown",
      "metadata": {
        "id": "u-PgC3fDFOTA",
        "colab_type": "text"
      },
      "source": [
        "We have already cleaned the initial data set and now it is time to have a look on the values and try to make conclutions"
      ]
    },
    {
      "cell_type": "code",
      "metadata": {
        "id": "jmTAPPY8FOTB",
        "colab_type": "code",
        "colab": {}
      },
      "source": [
        "import pandas as pd               \n",
        "import numpy as np           \n",
        "import matplotlib as mpl\n",
        "import matplotlib.pyplot as plt   \n",
        "import seaborn as sns             \n",
        "plt.style.use('ggplot')     \n",
        "\n",
        "%matplotlib inline"
      ],
      "execution_count": 0,
      "outputs": []
    },
    {
      "cell_type": "code",
      "metadata": {
        "id": "ReqWSIN4FOTE",
        "colab_type": "code",
        "colab": {}
      },
      "source": [
        "df = pd.read_csv('clean_data.csv')"
      ],
      "execution_count": 0,
      "outputs": []
    },
    {
      "cell_type": "code",
      "metadata": {
        "id": "4gHJzPsPFOTH",
        "colab_type": "code",
        "colab": {},
        "outputId": "90485ac8-4a28-48ca-f3d5-9497da26a014"
      },
      "source": [
        "df.drop('Unnamed: 0', axis=1, inplace=True)\n",
        "df.head()"
      ],
      "execution_count": 0,
      "outputs": [
        {
          "output_type": "execute_result",
          "data": {
            "text/html": [
              "<div>\n",
              "<style scoped>\n",
              "    .dataframe tbody tr th:only-of-type {\n",
              "        vertical-align: middle;\n",
              "    }\n",
              "\n",
              "    .dataframe tbody tr th {\n",
              "        vertical-align: top;\n",
              "    }\n",
              "\n",
              "    .dataframe thead th {\n",
              "        text-align: right;\n",
              "    }\n",
              "</style>\n",
              "<table border=\"1\" class=\"dataframe\">\n",
              "  <thead>\n",
              "    <tr style=\"text-align: right;\">\n",
              "      <th></th>\n",
              "      <th>Дата</th>\n",
              "      <th>ДатаДоставки</th>\n",
              "      <th>НомерЗаказаНаСайте</th>\n",
              "      <th>НовыйСтатус</th>\n",
              "      <th>СуммаЗаказаНаСайте</th>\n",
              "      <th>СуммаДокумента</th>\n",
              "      <th>МетодДоставки</th>\n",
              "      <th>ФормаОплаты</th>\n",
              "      <th>Регион</th>\n",
              "      <th>Группа2</th>\n",
              "      <th>...</th>\n",
              "      <th>СуммаУслуг</th>\n",
              "      <th>СуммаДоставки</th>\n",
              "      <th>НомерСтроки</th>\n",
              "      <th>КоличествоПроданоКлиенту</th>\n",
              "      <th>ДатаЗаказаНаСайте</th>\n",
              "      <th>Телефон_new</th>\n",
              "      <th>ЭлектроннаяПочта_new</th>\n",
              "      <th>Клиент</th>\n",
              "      <th>ID_SKU</th>\n",
              "      <th>ГородМагазина</th>\n",
              "    </tr>\n",
              "  </thead>\n",
              "  <tbody>\n",
              "    <tr>\n",
              "      <td>0</td>\n",
              "      <td>01.03.2017 11:41</td>\n",
              "      <td>07.03.2017 0:00</td>\n",
              "      <td>3998972_TR</td>\n",
              "      <td>Частичный возврат</td>\n",
              "      <td>12098</td>\n",
              "      <td>12 247</td>\n",
              "      <td>Курьерская</td>\n",
              "      <td>Наличная</td>\n",
              "      <td>Москва</td>\n",
              "      <td>КРУПНОГАБАРИТНЫЙ ТОВАР</td>\n",
              "      <td>...</td>\n",
              "      <td>0</td>\n",
              "      <td>0</td>\n",
              "      <td>8</td>\n",
              "      <td>1</td>\n",
              "      <td>28.02.2017 0:00</td>\n",
              "      <td>55574854-48574951555577</td>\n",
              "      <td>106117_ju18@yandex.ru</td>\n",
              "      <td>Юлия</td>\n",
              "      <td>ID9010020114553</td>\n",
              "      <td>0</td>\n",
              "    </tr>\n",
              "    <tr>\n",
              "      <td>1</td>\n",
              "      <td>01.03.2017 12:22</td>\n",
              "      <td>15.03.2017 0:00</td>\n",
              "      <td>3999117_TR</td>\n",
              "      <td>Доставлен</td>\n",
              "      <td>4819</td>\n",
              "      <td>3 759</td>\n",
              "      <td>Магазины</td>\n",
              "      <td>Безналичная</td>\n",
              "      <td>Челябинск</td>\n",
              "      <td>ТЕКСТИЛЬ, ТРИКОТАЖ</td>\n",
              "      <td>...</td>\n",
              "      <td>0</td>\n",
              "      <td>0</td>\n",
              "      <td>3</td>\n",
              "      <td>1</td>\n",
              "      <td>01.03.2017 0:00</td>\n",
              "      <td>55575453-56535648535679</td>\n",
              "      <td>107117_ku16@list.ru</td>\n",
              "      <td>Гость</td>\n",
              "      <td>IDL00028974351</td>\n",
              "      <td>0</td>\n",
              "    </tr>\n",
              "    <tr>\n",
              "      <td>2</td>\n",
              "      <td>01.03.2017 12:31</td>\n",
              "      <td>17.03.2017 0:00</td>\n",
              "      <td>3999122_TR</td>\n",
              "      <td>Доставлен</td>\n",
              "      <td>3325</td>\n",
              "      <td>3 325</td>\n",
              "      <td>Магазины</td>\n",
              "      <td>Безналичная</td>\n",
              "      <td>Нижневартовск</td>\n",
              "      <td>ИГРУШКИ</td>\n",
              "      <td>...</td>\n",
              "      <td>0</td>\n",
              "      <td>0</td>\n",
              "      <td>1</td>\n",
              "      <td>1</td>\n",
              "      <td>01.03.2017 0:00</td>\n",
              "      <td>55574950-57515657535772</td>\n",
              "      <td>109117_mu17@mail.ru</td>\n",
              "      <td>Гость</td>\n",
              "      <td>IDL00038573351</td>\n",
              "      <td>0</td>\n",
              "    </tr>\n",
              "    <tr>\n",
              "      <td>3</td>\n",
              "      <td>01.03.2017 3:06</td>\n",
              "      <td>02.03.2017 0:00</td>\n",
              "      <td>3999363_TR</td>\n",
              "      <td>К отгрузке</td>\n",
              "      <td>4998</td>\n",
              "      <td>4 998</td>\n",
              "      <td>Курьерская</td>\n",
              "      <td>Наличная</td>\n",
              "      <td>Москва</td>\n",
              "      <td>ТЕКСТИЛЬ, ТРИКОТАЖ</td>\n",
              "      <td>...</td>\n",
              "      <td>0</td>\n",
              "      <td>0</td>\n",
              "      <td>4</td>\n",
              "      <td>0</td>\n",
              "      <td>01.03.2017 0:00</td>\n",
              "      <td>55574851-55545249535475</td>\n",
              "      <td>115117_su13@mail.ru</td>\n",
              "      <td>Гость</td>\n",
              "      <td>IDL00034303856</td>\n",
              "      <td>0</td>\n",
              "    </tr>\n",
              "    <tr>\n",
              "      <td>4</td>\n",
              "      <td>01.03.2017 11:38</td>\n",
              "      <td>14.03.2017 0:00</td>\n",
              "      <td>3999411_TR</td>\n",
              "      <td>Доставлен</td>\n",
              "      <td>528</td>\n",
              "      <td>528</td>\n",
              "      <td>Магазины</td>\n",
              "      <td>Безналичная</td>\n",
              "      <td>Ижевск</td>\n",
              "      <td>ИГРУШКИ</td>\n",
              "      <td>...</td>\n",
              "      <td>0</td>\n",
              "      <td>0</td>\n",
              "      <td>3</td>\n",
              "      <td>1</td>\n",
              "      <td>01.03.2017 0:00</td>\n",
              "      <td>55574854-56495552515179</td>\n",
              "      <td>guest_103117_gu28@workmail.ru</td>\n",
              "      <td>Гость</td>\n",
              "      <td>IDL00035791553</td>\n",
              "      <td>0</td>\n",
              "    </tr>\n",
              "  </tbody>\n",
              "</table>\n",
              "<p>5 rows × 35 columns</p>\n",
              "</div>"
            ],
            "text/plain": [
              "               Дата     ДатаДоставки НомерЗаказаНаСайте        НовыйСтатус  \\\n",
              "0  01.03.2017 11:41  07.03.2017 0:00         3998972_TR  Частичный возврат   \n",
              "1  01.03.2017 12:22  15.03.2017 0:00         3999117_TR          Доставлен   \n",
              "2  01.03.2017 12:31  17.03.2017 0:00         3999122_TR          Доставлен   \n",
              "3   01.03.2017 3:06  02.03.2017 0:00         3999363_TR         К отгрузке   \n",
              "4  01.03.2017 11:38  14.03.2017 0:00         3999411_TR          Доставлен   \n",
              "\n",
              "   СуммаЗаказаНаСайте СуммаДокумента МетодДоставки  ФормаОплаты  \\\n",
              "0               12098         12 247    Курьерская     Наличная   \n",
              "1                4819          3 759      Магазины  Безналичная   \n",
              "2                3325          3 325      Магазины  Безналичная   \n",
              "3                4998          4 998    Курьерская     Наличная   \n",
              "4                 528            528      Магазины  Безналичная   \n",
              "\n",
              "          Регион                 Группа2  ... СуммаУслуг СуммаДоставки  \\\n",
              "0         Москва  КРУПНОГАБАРИТНЫЙ ТОВАР  ...          0             0   \n",
              "1      Челябинск      ТЕКСТИЛЬ, ТРИКОТАЖ  ...          0             0   \n",
              "2  Нижневартовск                 ИГРУШКИ  ...          0             0   \n",
              "3         Москва      ТЕКСТИЛЬ, ТРИКОТАЖ  ...          0             0   \n",
              "4         Ижевск                 ИГРУШКИ  ...          0             0   \n",
              "\n",
              "  НомерСтроки КоличествоПроданоКлиенту ДатаЗаказаНаСайте  \\\n",
              "0           8                        1   28.02.2017 0:00   \n",
              "1           3                        1   01.03.2017 0:00   \n",
              "2           1                        1   01.03.2017 0:00   \n",
              "3           4                        0   01.03.2017 0:00   \n",
              "4           3                        1   01.03.2017 0:00   \n",
              "\n",
              "               Телефон_new           ЭлектроннаяПочта_new  Клиент  \\\n",
              "0  55574854-48574951555577          106117_ju18@yandex.ru    Юлия   \n",
              "1  55575453-56535648535679            107117_ku16@list.ru   Гость   \n",
              "2  55574950-57515657535772            109117_mu17@mail.ru   Гость   \n",
              "3  55574851-55545249535475            115117_su13@mail.ru   Гость   \n",
              "4  55574854-56495552515179  guest_103117_gu28@workmail.ru   Гость   \n",
              "\n",
              "            ID_SKU ГородМагазина  \n",
              "0  ID9010020114553             0  \n",
              "1   IDL00028974351             0  \n",
              "2   IDL00038573351             0  \n",
              "3   IDL00034303856             0  \n",
              "4   IDL00035791553             0  \n",
              "\n",
              "[5 rows x 35 columns]"
            ]
          },
          "metadata": {
            "tags": []
          },
          "execution_count": 33
        }
      ]
    },
    {
      "cell_type": "code",
      "metadata": {
        "id": "uedtM7dPFOTK",
        "colab_type": "code",
        "colab": {},
        "outputId": "9dc11e6c-835d-47ae-9107-1c023e2b2fc9"
      },
      "source": [
        "df.info()"
      ],
      "execution_count": 0,
      "outputs": [
        {
          "output_type": "stream",
          "text": [
            "<class 'pandas.core.frame.DataFrame'>\n",
            "Int64Index: 616849 entries, 0 to 616848\n",
            "Data columns (total 35 columns):\n",
            "Дата                        616849 non-null object\n",
            "ДатаДоставки                616230 non-null object\n",
            "НомерЗаказаНаСайте          616849 non-null object\n",
            "НовыйСтатус                 616849 non-null object\n",
            "СуммаЗаказаНаСайте          616849 non-null int64\n",
            "СуммаДокумента              616849 non-null object\n",
            "МетодДоставки               616849 non-null object\n",
            "ФормаОплаты                 616849 non-null object\n",
            "Регион                      611798 non-null object\n",
            "Группа2                     616849 non-null object\n",
            "Группа3                     616849 non-null object\n",
            "Группа4                     585910 non-null object\n",
            "Тип                         616849 non-null object\n",
            "Номенклатура                616849 non-null object\n",
            "ТипТовара                   616849 non-null object\n",
            "Отменено                    616849 non-null object\n",
            "Количество                  616849 non-null int64\n",
            "Цена                        616849 non-null float64\n",
            "СуммаСтроки                 616849 non-null float64\n",
            "ЦенаЗакупки                 614622 non-null object\n",
            "МесяцДатыЗаказа             616849 non-null int64\n",
            "ГодДатыЗаказа               616849 non-null object\n",
            "Статус                      616849 non-null object\n",
            "Гео                         616849 non-null object\n",
            "Маржа                       614622 non-null float64\n",
            "СуммаУслуг                  616849 non-null int64\n",
            "СуммаДоставки               616849 non-null object\n",
            "НомерСтроки                 616849 non-null int64\n",
            "КоличествоПроданоКлиенту    616849 non-null int64\n",
            "ДатаЗаказаНаСайте           616849 non-null object\n",
            "Телефон_new                 616849 non-null object\n",
            "ЭлектроннаяПочта_new        605550 non-null object\n",
            "Клиент                      616574 non-null object\n",
            "ID_SKU                      616849 non-null object\n",
            "ГородМагазина               616849 non-null object\n",
            "dtypes: float64(3), int64(6), object(26)\n",
            "memory usage: 169.4+ MB\n"
          ],
          "name": "stdout"
        }
      ]
    },
    {
      "cell_type": "markdown",
      "metadata": {
        "id": "lipjR7tiFOTN",
        "colab_type": "text"
      },
      "source": [
        "Firstly, we will calculate avarage value of a bill and avarage value of the marge of a bill. In order to do that we need to group rows of the dataframe by the number of the bill. "
      ]
    },
    {
      "cell_type": "code",
      "metadata": {
        "id": "OCe7qPhVFOTN",
        "colab_type": "code",
        "colab": {}
      },
      "source": [
        "df_by_bills = df[['НомерЗаказаНаСайте', 'СуммаСтроки', 'Маржа']].groupby('НомерЗаказаНаСайте').aggregate(sum)\n",
        "df_by_bills = df_by_bills.fillna(0)\n",
        "\n",
        "print('Number of unique bills:', )"
      ],
      "execution_count": 0,
      "outputs": []
    },
    {
      "cell_type": "code",
      "metadata": {
        "id": "zZOcyI7TFOTQ",
        "colab_type": "code",
        "colab": {},
        "outputId": "613f5d52-64cf-41f8-9b82-c839e26b73e5"
      },
      "source": [
        "\n",
        "av_bill = df_by_bills['СуммаСтроки'].mean()\n",
        "av_marge = df_by_bills['Маржа'].mean()\n",
        "\n",
        "print('Avarage bill:', av_bill)\n",
        "print('Avarage marge:', av_marge)\n",
        "\n"
      ],
      "execution_count": 0,
      "outputs": [
        {
          "output_type": "stream",
          "text": [
            "Avarage bill: 3385.969676602131\n",
            "Avarage marge: 803.4567708414861\n"
          ],
          "name": "stdout"
        }
      ]
    },
    {
      "cell_type": "markdown",
      "metadata": {
        "id": "mApDO6vpFOTS",
        "colab_type": "text"
      },
      "source": [
        "This values do not contradicts logic. However, mean value is representative if the distribution of the variable is close to normal. Outsiders can influense the mean value. Lets then look at the distribution of bills and marge in bills"
      ]
    },
    {
      "cell_type": "code",
      "metadata": {
        "id": "rVmomBbAFOTT",
        "colab_type": "code",
        "colab": {},
        "outputId": "072b35f3-b956-44c0-e220-eae0ee8f0097"
      },
      "source": [
        "med_bill = df_by_bills['СуммаСтроки'].median()\n",
        "med_marge = df_by_bills['Маржа'].median()\n",
        "\n",
        "print('Avarage bill:', med_bill)\n",
        "print('Avarage marge:', med_marge)"
      ],
      "execution_count": 0,
      "outputs": [
        {
          "output_type": "stream",
          "text": [
            "Avarage bill: 2140.0\n",
            "Avarage marge: 336.0\n"
          ],
          "name": "stdout"
        }
      ]
    },
    {
      "cell_type": "code",
      "metadata": {
        "id": "mQlew-UcFOTV",
        "colab_type": "code",
        "colab": {},
        "outputId": "fe620bf6-43b9-4460-a376-e16eee720ce7"
      },
      "source": [
        "df_by_bills[['СуммаСтроки','Маржа']].hist();"
      ],
      "execution_count": 0,
      "outputs": [
        {
          "output_type": "display_data",
          "data": {
            "image/png": "[encoded data removed]",
            "text/plain": [
              "<Figure size 432x288 with 2 Axes>"
            ]
          },
          "metadata": {
            "tags": [],
            "needs_background": "light"
          }
        }
      ]
    },
    {
      "cell_type": "code",
      "metadata": {
        "id": "wW86p2rhFOTX",
        "colab_type": "code",
        "colab": {}
      },
      "source": [
        "df_by_bills[['СуммаСтроки','Маржа']] = df_by_bills[['СуммаСтроки','Маржа']].apply(lambda w: np.log(w + 1))"
      ],
      "execution_count": 0,
      "outputs": []
    },
    {
      "cell_type": "code",
      "metadata": {
        "id": "_vo59EMXFOTZ",
        "colab_type": "code",
        "colab": {},
        "outputId": "b1a9dda4-1543-4392-fc3b-1faf992e0978"
      },
      "source": [
        "df_by_bills[['СуммаСтроки','Маржа']].hist();"
      ],
      "execution_count": 0,
      "outputs": [
        {
          "output_type": "display_data",
          "data": {
            "image/png": "[encoded data removed]",
            "text/plain": [
              "<Figure size 432x288 with 2 Axes>"
            ]
          },
          "metadata": {
            "tags": [],
            "needs_background": "light"
          }
        }
      ]
    },
    {
      "cell_type": "markdown",
      "metadata": {
        "id": "OjcmOxLSFOTc",
        "colab_type": "text"
      },
      "source": [
        "Now lets look how different catigoris of goods are distributed in our data set. What category of products are most often bought? Which category of products brings the most profit, that is, which category is the most marginal? For clarity, let's look at pie chars"
      ]
    },
    {
      "cell_type": "code",
      "metadata": {
        "id": "BnwM2CCVFOTc",
        "colab_type": "code",
        "colab": {}
      },
      "source": [
        "def pieChar(data_names, data_values, title):\n",
        "    #data_names - массив названий частей диаграммы\n",
        "    #data_values - массив соответствующих числовых значений\n",
        "    #title - заголовок диаграммы \n",
        "    dpi = 80\n",
        "    fig = plt.figure(dpi = dpi, figsize = (512 / dpi, 384 / dpi) )\n",
        "    mpl.rcParams.update({'font.size': 9})\n",
        "\n",
        "    plt.title(title)\n",
        "\n",
        "    xs = range(len(data_names))\n",
        "\n",
        "    plt.pie(\n",
        "        data_values, autopct='%.1f', radius = 1.1,\n",
        "        explode = [0.15] + [0 for _ in range(len(data_names) - 1)] )\n",
        "    plt.legend(\n",
        "        bbox_to_anchor = (-0.16, 0.45, 0.25, 0.25),\n",
        "        loc = 'lower left', labels = data_names )\n",
        "    fig.savefig('pie.png')"
      ],
      "execution_count": 0,
      "outputs": []
    },
    {
      "cell_type": "code",
      "metadata": {
        "id": "gjUZ-wNNFOTf",
        "colab_type": "code",
        "colab": {}
      },
      "source": [
        "type_set = df[\"Тип\"].unique()"
      ],
      "execution_count": 0,
      "outputs": []
    },
    {
      "cell_type": "code",
      "metadata": {
        "id": "lf249LnlFOTj",
        "colab_type": "code",
        "colab": {}
      },
      "source": [
        "quantity_for_types = []\n",
        "marge_for_types = []\n",
        "for types in type_set:\n",
        "    quantity_for_types.append(len(df[df[\"Тип\"] == types]))\n",
        "    marge_for_types.append(df[df[\"Тип\"] == types]['Маржа'].sum())"
      ],
      "execution_count": 0,
      "outputs": []
    },
    {
      "cell_type": "code",
      "metadata": {
        "id": "lXFoMdWBFOTl",
        "colab_type": "code",
        "colab": {},
        "outputId": "391fc1d1-1126-4659-b3b4-d34f6179c0b4"
      },
      "source": [
        "pieChar(type_set, quantity_for_types, 'Distribution by quantity')\n",
        "pieChar(type_set, marge_for_types, 'Distribution by marge')\n"
      ],
      "execution_count": 0,
      "outputs": [
        {
          "output_type": "display_data",
          "data": {
            "image/png": "[encoded data removed]",
            "text/plain": [
              "<Figure size 512x384 with 1 Axes>"
            ]
          },
          "metadata": {
            "tags": []
          }
        },
        {
          "output_type": "display_data",
          "data": {
            "image/png": "[encoded data removed]",
            "text/plain": [
              "<Figure size 512x384 with 1 Axes>"
            ]
          },
          "metadata": {
            "tags": []
          }
        }
      ]
    },
    {
      "cell_type": "markdown",
      "metadata": {
        "id": "Kx2YIzEEFOTn",
        "colab_type": "text"
      },
      "source": [
        "ДОПИСАТЬ ВЫВОДЫ КОТОРЫЕ МОЖНО СДЕЛАТЬ НА ОСНОВЕ ПАЙ ЧАРОВ"
      ]
    },
    {
      "cell_type": "code",
      "metadata": {
        "id": "XdBjYsi6FOTn",
        "colab_type": "code",
        "colab": {}
      },
      "source": [
        ""
      ],
      "execution_count": 0,
      "outputs": []
    }
  ]
}