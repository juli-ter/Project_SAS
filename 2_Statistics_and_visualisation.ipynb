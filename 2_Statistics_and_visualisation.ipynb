{
  "nbformat": 4,
  "nbformat_minor": 0,
  "metadata": {
    "kernelspec": {
      "display_name": "Python 3",
      "language": "python",
      "name": "python3"
    },
    "language_info": {
      "codemirror_mode": {
        "name": "ipython",
        "version": 3
      },
      "file_extension": ".py",
      "mimetype": "text/x-python",
      "name": "python",
      "nbconvert_exporter": "python",
      "pygments_lexer": "ipython3",
      "version": "3.7.4"
    },
    "colab": {
      "name": "2. Statistics and visualisation.ipynb",
      "provenance": [],
      "include_colab_link": true
    }
  },
  "cells": [
    {
      "cell_type": "markdown",
      "metadata": {
        "id": "view-in-github",
        "colab_type": "text"
      },
      "source": [
        "<a href=\"https://colab.research.google.com/github/juli-ter/Project_SAS/blob/master/2_Statistics_and_visualisation.ipynb\" target=\"_parent\"><img src=\"https://colab.research.google.com/assets/colab-badge.svg\" alt=\"Open In Colab\"/></a>"
      ]
    },
    {
      "cell_type": "markdown",
      "metadata": {
        "id": "RTlVM5sSjMjN",
        "colab_type": "text"
      },
      "source": [
        "# 2. Statistics and visualisation"
      ]
    },
    {
      "cell_type": "markdown",
      "metadata": {
        "id": "2AFtpSbNjMjP",
        "colab_type": "text"
      },
      "source": [
        "We have already cleaned the initial data set and now it is time to have a look on the values and try to make conclutions"
      ]
    },
    {
      "cell_type": "code",
      "metadata": {
        "id": "8zf2Et_EjMjQ",
        "colab_type": "code",
        "colab": {
          "base_uri": "https://localhost:8080/",
          "height": 51
        },
        "outputId": "a57d0cb0-6109-40b4-f5d6-7f424e5deeae"
      },
      "source": [
        "import pandas as pd               \n",
        "import numpy as np           \n",
        "import matplotlib as mpl\n",
        "import matplotlib.pyplot as plt   \n",
        "import seaborn as sns             \n",
        "plt.style.use('ggplot')     \n",
        "import matplotlib.dates as mdates\n",
        "\n",
        "%matplotlib inline"
      ],
      "execution_count": null,
      "outputs": [
        {
          "output_type": "stream",
          "text": [
            "/usr/local/lib/python3.6/dist-packages/statsmodels/tools/_testing.py:19: FutureWarning: pandas.util.testing is deprecated. Use the functions in the public API at pandas.testing instead.\n",
            "  import pandas.util.testing as tm\n"
          ],
          "name": "stderr"
        }
      ]
    },
    {
      "cell_type": "code",
      "metadata": {
        "id": "UDt5M-3FOsre",
        "colab_type": "code",
        "colab": {
          "base_uri": "https://localhost:8080/",
          "height": 122
        },
        "outputId": "63a66d2b-4954-4cf8-f3bc-2052a2c655f2"
      },
      "source": [
        "from google.colab import drive\n",
        "drive.mount('/content/drive/')"
      ],
      "execution_count": null,
      "outputs": [
        {
          "output_type": "stream",
          "text": [
            "Go to this URL in a browser: https://accounts.google.com/o/oauth2/auth?client_id=947318989803-6bn6qk8qdgf4n4g3pfee6491hc0brc4i.apps.googleusercontent.com&redirect_uri=urn%3aietf%3awg%3aoauth%3a2.0%3aoob&response_type=code&scope=email%20https%3a%2f%2fwww.googleapis.com%2fauth%2fdocs.test%20https%3a%2f%2fwww.googleapis.com%2fauth%2fdrive%20https%3a%2f%2fwww.googleapis.com%2fauth%2fdrive.photos.readonly%20https%3a%2f%2fwww.googleapis.com%2fauth%2fpeopleapi.readonly\n",
            "\n",
            "Enter your authorization code:\n",
            "··········\n",
            "Mounted at /content/drive/\n"
          ],
          "name": "stdout"
        }
      ]
    },
    {
      "cell_type": "code",
      "metadata": {
        "id": "RWTdq2fXOw7z",
        "colab_type": "code",
        "colab": {}
      },
      "source": [
        "path = \"/content/drive/My Drive/Optimisation/\"\n",
        "df = pd.read_csv(path+'clean_data_final01.csv')"
      ],
      "execution_count": null,
      "outputs": []
    },
    {
      "cell_type": "code",
      "metadata": {
        "id": "J6X-VfnkjMjZ",
        "colab_type": "code",
        "colab": {
          "base_uri": "https://localhost:8080/",
          "height": 513
        },
        "outputId": "cd7c3eae-f6df-49f2-af84-4971e597f358"
      },
      "source": [
        "df.drop('Unnamed: 0', axis=1, inplace=True)\n",
        "df.head()"
      ],
      "execution_count": null,
      "outputs": [
        {
          "output_type": "execute_result",
          "data": {
            "text/html": [
              "<div>\n",
              "<style scoped>\n",
              "    .dataframe tbody tr th:only-of-type {\n",
              "        vertical-align: middle;\n",
              "    }\n",
              "\n",
              "    .dataframe tbody tr th {\n",
              "        vertical-align: top;\n",
              "    }\n",
              "\n",
              "    .dataframe thead th {\n",
              "        text-align: right;\n",
              "    }\n",
              "</style>\n",
              "<table border=\"1\" class=\"dataframe\">\n",
              "  <thead>\n",
              "    <tr style=\"text-align: right;\">\n",
              "      <th></th>\n",
              "      <th>Дата</th>\n",
              "      <th>ДатаДоставки</th>\n",
              "      <th>НомерЗаказаНаСайте</th>\n",
              "      <th>НовыйСтатус</th>\n",
              "      <th>СуммаЗаказаНаСайте</th>\n",
              "      <th>СуммаДокумента</th>\n",
              "      <th>МетодДоставки</th>\n",
              "      <th>ФормаОплаты</th>\n",
              "      <th>Регион</th>\n",
              "      <th>Группа2</th>\n",
              "      <th>Группа3</th>\n",
              "      <th>Группа4</th>\n",
              "      <th>Тип</th>\n",
              "      <th>Номенклатура</th>\n",
              "      <th>ТипТовара</th>\n",
              "      <th>Отменено</th>\n",
              "      <th>Количество</th>\n",
              "      <th>Цена</th>\n",
              "      <th>Revenue</th>\n",
              "      <th>ЦенаЗакупки</th>\n",
              "      <th>МесяцДатыЗаказа</th>\n",
              "      <th>ГодДатыЗаказа</th>\n",
              "      <th>Статус</th>\n",
              "      <th>Гео</th>\n",
              "      <th>Marge</th>\n",
              "      <th>СуммаУслуг</th>\n",
              "      <th>СуммаДоставки</th>\n",
              "      <th>НомерСтроки</th>\n",
              "      <th>КоличествоПроданоКлиенту</th>\n",
              "      <th>ДатаЗаказаНаСайте</th>\n",
              "      <th>Телефон_new</th>\n",
              "      <th>ЭлектроннаяПочта_new</th>\n",
              "      <th>Клиент</th>\n",
              "      <th>ID_SKU</th>\n",
              "      <th>ГородМагазина</th>\n",
              "    </tr>\n",
              "  </thead>\n",
              "  <tbody>\n",
              "    <tr>\n",
              "      <th>0</th>\n",
              "      <td>01.03.2017 12:22</td>\n",
              "      <td>15.03.2017 0:00</td>\n",
              "      <td>3999117_TR</td>\n",
              "      <td>Доставлен</td>\n",
              "      <td>4819</td>\n",
              "      <td>3 759</td>\n",
              "      <td>Магазины</td>\n",
              "      <td>Безналичная</td>\n",
              "      <td>Челябинск</td>\n",
              "      <td>ТЕКСТИЛЬ, ТРИКОТАЖ</td>\n",
              "      <td>ОДЕЖДА ДЛЯ НОВОРОЖДЕННЫХ (0-2 лет)</td>\n",
              "      <td>боди</td>\n",
              "      <td>ОДЕЖДА</td>\n",
              "      <td>GAMEX, БОДИ кор. рук. Roza, (бел/сер), р. 86, ...</td>\n",
              "      <td>МГТ</td>\n",
              "      <td>Нет</td>\n",
              "      <td>1</td>\n",
              "      <td>379.0</td>\n",
              "      <td>379.0</td>\n",
              "      <td>209,8</td>\n",
              "      <td>3</td>\n",
              "      <td>2 017</td>\n",
              "      <td>Доставлен</td>\n",
              "      <td>Регионы</td>\n",
              "      <td>169.20</td>\n",
              "      <td>0</td>\n",
              "      <td>0</td>\n",
              "      <td>3</td>\n",
              "      <td>1</td>\n",
              "      <td>01.03.2017 0:00</td>\n",
              "      <td>55575453-56535648535679</td>\n",
              "      <td>107117_ku16@list.ru</td>\n",
              "      <td>Гость</td>\n",
              "      <td>IDL00028974351</td>\n",
              "      <td>0</td>\n",
              "    </tr>\n",
              "    <tr>\n",
              "      <th>1</th>\n",
              "      <td>01.03.2017 12:31</td>\n",
              "      <td>17.03.2017 0:00</td>\n",
              "      <td>3999122_TR</td>\n",
              "      <td>Доставлен</td>\n",
              "      <td>3325</td>\n",
              "      <td>3 325</td>\n",
              "      <td>Магазины</td>\n",
              "      <td>Безналичная</td>\n",
              "      <td>Нижневартовск</td>\n",
              "      <td>ИГРУШКИ</td>\n",
              "      <td>ИГРУШКИ ДЛЯ ДЕВОЧЕК</td>\n",
              "      <td>имитационные игрушки для девочек</td>\n",
              "      <td>ИГРУШКИ</td>\n",
              "      <td>ИГРУША, ХОЛОДИЛЬНИК (на бат), (29,5*19*45,5 см)</td>\n",
              "      <td>МГТ</td>\n",
              "      <td>Нет</td>\n",
              "      <td>1</td>\n",
              "      <td>3325.0</td>\n",
              "      <td>3325.0</td>\n",
              "      <td>1 149</td>\n",
              "      <td>3</td>\n",
              "      <td>2 017</td>\n",
              "      <td>Доставлен</td>\n",
              "      <td>Регионы</td>\n",
              "      <td>2176.00</td>\n",
              "      <td>0</td>\n",
              "      <td>0</td>\n",
              "      <td>1</td>\n",
              "      <td>1</td>\n",
              "      <td>01.03.2017 0:00</td>\n",
              "      <td>55574950-57515657535772</td>\n",
              "      <td>109117_mu17@mail.ru</td>\n",
              "      <td>Гость</td>\n",
              "      <td>IDL00038573351</td>\n",
              "      <td>0</td>\n",
              "    </tr>\n",
              "    <tr>\n",
              "      <th>2</th>\n",
              "      <td>01.03.2017 11:38</td>\n",
              "      <td>14.03.2017 0:00</td>\n",
              "      <td>3999411_TR</td>\n",
              "      <td>Доставлен</td>\n",
              "      <td>528</td>\n",
              "      <td>528</td>\n",
              "      <td>Магазины</td>\n",
              "      <td>Безналичная</td>\n",
              "      <td>Ижевск</td>\n",
              "      <td>ИГРУШКИ</td>\n",
              "      <td>ИГРУШКИ ДЛЯ РАЗВИТИЯ МАЛЫШЕЙ</td>\n",
              "      <td>игрушки для ванной</td>\n",
              "      <td>ИГРУШКИ</td>\n",
              "      <td>S+S TOYS, ИГРУШКА ПВХ в наборе, (2 шт)</td>\n",
              "      <td>МГТ</td>\n",
              "      <td>Нет</td>\n",
              "      <td>1</td>\n",
              "      <td>199.0</td>\n",
              "      <td>199.0</td>\n",
              "      <td>79</td>\n",
              "      <td>3</td>\n",
              "      <td>2 017</td>\n",
              "      <td>Доставлен</td>\n",
              "      <td>Регионы</td>\n",
              "      <td>120.00</td>\n",
              "      <td>0</td>\n",
              "      <td>0</td>\n",
              "      <td>3</td>\n",
              "      <td>1</td>\n",
              "      <td>01.03.2017 0:00</td>\n",
              "      <td>55574854-56495552515179</td>\n",
              "      <td>guest_103117_gu28@workmail.ru</td>\n",
              "      <td>Гость</td>\n",
              "      <td>IDL00035791553</td>\n",
              "      <td>0</td>\n",
              "    </tr>\n",
              "    <tr>\n",
              "      <th>3</th>\n",
              "      <td>01.03.2017 9:02</td>\n",
              "      <td>03.03.2017 0:00</td>\n",
              "      <td>3999713_TR</td>\n",
              "      <td>Доставлен</td>\n",
              "      <td>1196</td>\n",
              "      <td>1 196</td>\n",
              "      <td>Магазины</td>\n",
              "      <td>Безналичная</td>\n",
              "      <td>Подольск (Московская область район)</td>\n",
              "      <td>ТЕКСТИЛЬ, ТРИКОТАЖ</td>\n",
              "      <td>ДЕТСКАЯ ОДЕЖДА (2-6 лет)</td>\n",
              "      <td>футболки</td>\n",
              "      <td>ОДЕЖДА</td>\n",
              "      <td>FUN TIME, СОРОЧКА верхняя с воротом поло, р. 3 г</td>\n",
              "      <td>МГТ</td>\n",
              "      <td>Нет</td>\n",
              "      <td>1</td>\n",
              "      <td>349.0</td>\n",
              "      <td>349.0</td>\n",
              "      <td>243,09</td>\n",
              "      <td>3</td>\n",
              "      <td>2 017</td>\n",
              "      <td>Доставлен</td>\n",
              "      <td>МО</td>\n",
              "      <td>105.91</td>\n",
              "      <td>49</td>\n",
              "      <td>49</td>\n",
              "      <td>3</td>\n",
              "      <td>1</td>\n",
              "      <td>01.03.2017 0:00</td>\n",
              "      <td>55574948-52515357485779</td>\n",
              "      <td>111117_ou25@yandex.ru</td>\n",
              "      <td>Ольга</td>\n",
              "      <td>IDL00025316250</td>\n",
              "      <td>0</td>\n",
              "    </tr>\n",
              "    <tr>\n",
              "      <th>4</th>\n",
              "      <td>01.03.2017 9:02</td>\n",
              "      <td>03.03.2017 0:00</td>\n",
              "      <td>3999713_TR</td>\n",
              "      <td>Доставлен</td>\n",
              "      <td>1196</td>\n",
              "      <td>1 196</td>\n",
              "      <td>Магазины</td>\n",
              "      <td>Безналичная</td>\n",
              "      <td>Подольск (Московская область район)</td>\n",
              "      <td>ТЕКСТИЛЬ, ТРИКОТАЖ</td>\n",
              "      <td>ДЕТСКАЯ ОДЕЖДА (2-6 лет)</td>\n",
              "      <td>футболки</td>\n",
              "      <td>ОДЕЖДА</td>\n",
              "      <td>FUN TIME, СОРОЧКА верхняя с воротом поло, р. 3 г</td>\n",
              "      <td>МГТ</td>\n",
              "      <td>Нет</td>\n",
              "      <td>1</td>\n",
              "      <td>349.0</td>\n",
              "      <td>349.0</td>\n",
              "      <td>243,09</td>\n",
              "      <td>3</td>\n",
              "      <td>2 017</td>\n",
              "      <td>Доставлен</td>\n",
              "      <td>МО</td>\n",
              "      <td>105.91</td>\n",
              "      <td>49</td>\n",
              "      <td>49</td>\n",
              "      <td>2</td>\n",
              "      <td>1</td>\n",
              "      <td>01.03.2017 0:00</td>\n",
              "      <td>55574948-52515357485779</td>\n",
              "      <td>111117_ou25@yandex.ru</td>\n",
              "      <td>Ольга</td>\n",
              "      <td>IDL00025320553</td>\n",
              "      <td>0</td>\n",
              "    </tr>\n",
              "  </tbody>\n",
              "</table>\n",
              "</div>"
            ],
            "text/plain": [
              "               Дата     ДатаДоставки  ...          ID_SKU ГородМагазина\n",
              "0  01.03.2017 12:22  15.03.2017 0:00  ...  IDL00028974351             0\n",
              "1  01.03.2017 12:31  17.03.2017 0:00  ...  IDL00038573351             0\n",
              "2  01.03.2017 11:38  14.03.2017 0:00  ...  IDL00035791553             0\n",
              "3   01.03.2017 9:02  03.03.2017 0:00  ...  IDL00025316250             0\n",
              "4   01.03.2017 9:02  03.03.2017 0:00  ...  IDL00025320553             0\n",
              "\n",
              "[5 rows x 35 columns]"
            ]
          },
          "metadata": {
            "tags": []
          },
          "execution_count": 5
        }
      ]
    },
    {
      "cell_type": "code",
      "metadata": {
        "id": "e38ppnOvjMje",
        "colab_type": "code",
        "colab": {
          "base_uri": "https://localhost:8080/",
          "height": 731
        },
        "outputId": "e6289551-4e66-4e48-9369-ab4cc5300156"
      },
      "source": [
        "df.info()"
      ],
      "execution_count": null,
      "outputs": [
        {
          "output_type": "stream",
          "text": [
            "<class 'pandas.core.frame.DataFrame'>\n",
            "RangeIndex: 214455 entries, 0 to 214454\n",
            "Data columns (total 35 columns):\n",
            " #   Column                    Non-Null Count   Dtype  \n",
            "---  ------                    --------------   -----  \n",
            " 0   Дата                      214455 non-null  object \n",
            " 1   ДатаДоставки              214455 non-null  object \n",
            " 2   НомерЗаказаНаСайте        214455 non-null  object \n",
            " 3   НовыйСтатус               214455 non-null  object \n",
            " 4   СуммаЗаказаНаСайте        214455 non-null  int64  \n",
            " 5   СуммаДокумента            214455 non-null  object \n",
            " 6   МетодДоставки             214455 non-null  object \n",
            " 7   ФормаОплаты               214455 non-null  object \n",
            " 8   Регион                    211879 non-null  object \n",
            " 9   Группа2                   214455 non-null  object \n",
            " 10  Группа3                   214455 non-null  object \n",
            " 11  Группа4                   205726 non-null  object \n",
            " 12  Тип                       214455 non-null  object \n",
            " 13  Номенклатура              214455 non-null  object \n",
            " 14  ТипТовара                 214455 non-null  object \n",
            " 15  Отменено                  214455 non-null  object \n",
            " 16  Количество                214455 non-null  int64  \n",
            " 17  Цена                      214455 non-null  float64\n",
            " 18  Revenue                   214455 non-null  float64\n",
            " 19  ЦенаЗакупки               213790 non-null  object \n",
            " 20  МесяцДатыЗаказа           214455 non-null  int64  \n",
            " 21  ГодДатыЗаказа             214455 non-null  object \n",
            " 22  Статус                    214455 non-null  object \n",
            " 23  Гео                       214455 non-null  object \n",
            " 24  Marge                     213790 non-null  float64\n",
            " 25  СуммаУслуг                214455 non-null  int64  \n",
            " 26  СуммаДоставки             214455 non-null  int64  \n",
            " 27  НомерСтроки               214455 non-null  int64  \n",
            " 28  КоличествоПроданоКлиенту  214455 non-null  int64  \n",
            " 29  ДатаЗаказаНаСайте         214455 non-null  object \n",
            " 30  Телефон_new               214455 non-null  object \n",
            " 31  ЭлектроннаяПочта_new      209976 non-null  object \n",
            " 32  Клиент                    214379 non-null  object \n",
            " 33  ID_SKU                    214455 non-null  object \n",
            " 34  ГородМагазина             214455 non-null  object \n",
            "dtypes: float64(3), int64(7), object(25)\n",
            "memory usage: 57.3+ MB\n"
          ],
          "name": "stdout"
        }
      ]
    },
    {
      "cell_type": "markdown",
      "metadata": {
        "id": "5k0Ga76NjMjj",
        "colab_type": "text"
      },
      "source": [
        "Firstly, we will calculate avarage value of a bill and avarage value of the marge of a bill. In order to do that we need to group rows of the dataframe by the number of the bill. "
      ]
    },
    {
      "cell_type": "code",
      "metadata": {
        "id": "B8OHeSosjMjj",
        "colab_type": "code",
        "colab": {
          "base_uri": "https://localhost:8080/",
          "height": 34
        },
        "outputId": "236c4349-de39-4b2f-ef55-110a401c0d91"
      },
      "source": [
        "df_by_bills = pd.read_csv(path+'clean_data_drouped_by_bills.csv')\n",
        "\n",
        "print('Number of unique bills:', len(df_by_bills))"
      ],
      "execution_count": null,
      "outputs": [
        {
          "output_type": "stream",
          "text": [
            "Number of unique bills: 75079\n"
          ],
          "name": "stdout"
        }
      ]
    },
    {
      "cell_type": "code",
      "metadata": {
        "id": "eCTtAOgcjMjo",
        "colab_type": "code",
        "colab": {
          "base_uri": "https://localhost:8080/",
          "height": 34
        },
        "outputId": "0e93f2e5-500c-4e62-d6ec-4c3dd51f4d97"
      },
      "source": [
        "df_by_bills['Revenue'].sum()"
      ],
      "execution_count": null,
      "outputs": [
        {
          "output_type": "execute_result",
          "data": {
            "text/plain": [
              "231431823.2"
            ]
          },
          "metadata": {
            "tags": []
          },
          "execution_count": 7
        }
      ]
    },
    {
      "cell_type": "code",
      "metadata": {
        "id": "CBcR3BpjRq06",
        "colab_type": "code",
        "colab": {
          "base_uri": "https://localhost:8080/",
          "height": 34
        },
        "outputId": "d43fb75d-94d7-4e3f-e7af-b028eae7499d"
      },
      "source": [
        "df_by_bills['Marge'].sum()"
      ],
      "execution_count": null,
      "outputs": [
        {
          "output_type": "execute_result",
          "data": {
            "text/plain": [
              "52277156.050000004"
            ]
          },
          "metadata": {
            "tags": []
          },
          "execution_count": 8
        }
      ]
    },
    {
      "cell_type": "code",
      "metadata": {
        "id": "gbZmGxDojMjr",
        "colab_type": "code",
        "colab": {
          "base_uri": "https://localhost:8080/",
          "height": 204
        },
        "outputId": "5cdc3b11-88f7-4096-81e1-00b169a424a4"
      },
      "source": [
        "df_by_bills.head()"
      ],
      "execution_count": null,
      "outputs": [
        {
          "output_type": "execute_result",
          "data": {
            "text/html": [
              "<div>\n",
              "<style scoped>\n",
              "    .dataframe tbody tr th:only-of-type {\n",
              "        vertical-align: middle;\n",
              "    }\n",
              "\n",
              "    .dataframe tbody tr th {\n",
              "        vertical-align: top;\n",
              "    }\n",
              "\n",
              "    .dataframe thead th {\n",
              "        text-align: right;\n",
              "    }\n",
              "</style>\n",
              "<table border=\"1\" class=\"dataframe\">\n",
              "  <thead>\n",
              "    <tr style=\"text-align: right;\">\n",
              "      <th></th>\n",
              "      <th>Unnamed: 0</th>\n",
              "      <th>НомерЗаказаНаСайте</th>\n",
              "      <th>Revenue</th>\n",
              "      <th>Marge</th>\n",
              "      <th>Количество</th>\n",
              "      <th>Дата</th>\n",
              "      <th>Date</th>\n",
              "      <th>Hours</th>\n",
              "      <th>Weekday</th>\n",
              "    </tr>\n",
              "  </thead>\n",
              "  <tbody>\n",
              "    <tr>\n",
              "      <th>0</th>\n",
              "      <td>0</td>\n",
              "      <td>1303000313_TR</td>\n",
              "      <td>247.0</td>\n",
              "      <td>63.08</td>\n",
              "      <td>1</td>\n",
              "      <td>04.03.2017 9:53</td>\n",
              "      <td>2017-03-04</td>\n",
              "      <td>9</td>\n",
              "      <td>5</td>\n",
              "    </tr>\n",
              "    <tr>\n",
              "      <th>1</th>\n",
              "      <td>1</td>\n",
              "      <td>1303000319_TR</td>\n",
              "      <td>13300.0</td>\n",
              "      <td>3246.00</td>\n",
              "      <td>1</td>\n",
              "      <td>16.03.2017 12:58</td>\n",
              "      <td>2017-03-16</td>\n",
              "      <td>12</td>\n",
              "      <td>3</td>\n",
              "    </tr>\n",
              "    <tr>\n",
              "      <th>2</th>\n",
              "      <td>2</td>\n",
              "      <td>1303000321_TR</td>\n",
              "      <td>16150.0</td>\n",
              "      <td>4436.07</td>\n",
              "      <td>1</td>\n",
              "      <td>18.03.2017 18:22</td>\n",
              "      <td>2017-03-18</td>\n",
              "      <td>18</td>\n",
              "      <td>5</td>\n",
              "    </tr>\n",
              "    <tr>\n",
              "      <th>3</th>\n",
              "      <td>3</td>\n",
              "      <td>1303000323_TR</td>\n",
              "      <td>4180.0</td>\n",
              "      <td>1345.00</td>\n",
              "      <td>1</td>\n",
              "      <td>23.03.2017 20:01</td>\n",
              "      <td>2017-03-23</td>\n",
              "      <td>20</td>\n",
              "      <td>3</td>\n",
              "    </tr>\n",
              "    <tr>\n",
              "      <th>4</th>\n",
              "      <td>4</td>\n",
              "      <td>1303000324_TR</td>\n",
              "      <td>18500.0</td>\n",
              "      <td>3400.00</td>\n",
              "      <td>1</td>\n",
              "      <td>24.03.2017 10:06</td>\n",
              "      <td>2017-03-24</td>\n",
              "      <td>10</td>\n",
              "      <td>4</td>\n",
              "    </tr>\n",
              "  </tbody>\n",
              "</table>\n",
              "</div>"
            ],
            "text/plain": [
              "   Unnamed: 0 НомерЗаказаНаСайте  Revenue  ...        Date  Hours Weekday\n",
              "0           0      1303000313_TR    247.0  ...  2017-03-04      9       5\n",
              "1           1      1303000319_TR  13300.0  ...  2017-03-16     12       3\n",
              "2           2      1303000321_TR  16150.0  ...  2017-03-18     18       5\n",
              "3           3      1303000323_TR   4180.0  ...  2017-03-23     20       3\n",
              "4           4      1303000324_TR  18500.0  ...  2017-03-24     10       4\n",
              "\n",
              "[5 rows x 9 columns]"
            ]
          },
          "metadata": {
            "tags": []
          },
          "execution_count": 9
        }
      ]
    },
    {
      "cell_type": "code",
      "metadata": {
        "id": "GdhxSjU3jMjv",
        "colab_type": "code",
        "colab": {}
      },
      "source": [
        "df_by_hours = df_by_bills[['Revenue','Marge','Количество','Hours']].groupby('Hours').aggregate(sum)\n",
        "df_by_weekday = df_by_bills[['Revenue','Marge','Количество','Weekday']].groupby('Weekday').aggregate(sum)"
      ],
      "execution_count": null,
      "outputs": []
    },
    {
      "cell_type": "code",
      "metadata": {
        "id": "nYB4mGrajMjy",
        "colab_type": "code",
        "colab": {}
      },
      "source": [
        "df_by_hours.to_csv(path+'clean_data_grouped_by_hours.csv')\n",
        "df_by_weekday.to_csv(path+'clean_data_grouped_by_weekday.csv')"
      ],
      "execution_count": null,
      "outputs": []
    },
    {
      "cell_type": "code",
      "metadata": {
        "id": "ht9mzmtNjMj1",
        "colab_type": "code",
        "colab": {
          "base_uri": "https://localhost:8080/",
          "height": 51
        },
        "outputId": "733ad236-56dc-4e53-8401-7f316cfafa73"
      },
      "source": [
        "\n",
        "av_bill = df_by_bills['Revenue'].mean()\n",
        "av_marge = df_by_bills['Marge'].mean()\n",
        "\n",
        "print('Avarage bill:', av_bill)\n",
        "print('Avarage marge:', av_marge)\n",
        "\n"
      ],
      "execution_count": null,
      "outputs": [
        {
          "output_type": "stream",
          "text": [
            "Avarage bill: 3082.5107313629605\n",
            "Avarage marge: 696.2953162668693\n"
          ],
          "name": "stdout"
        }
      ]
    },
    {
      "cell_type": "markdown",
      "metadata": {
        "id": "zC66_tSDjMj5",
        "colab_type": "text"
      },
      "source": [
        "This values do not contradicts logic. However, mean value is representative if the distribution of the variable is close to normal. Outsiders can influense the mean value. Lets then look at the distribution of bills and marge in bills"
      ]
    },
    {
      "cell_type": "code",
      "metadata": {
        "id": "3mZtUFf5jMj5",
        "colab_type": "code",
        "colab": {
          "base_uri": "https://localhost:8080/",
          "height": 51
        },
        "outputId": "93145c74-f3a8-4920-e277-eed9798ac517"
      },
      "source": [
        "med_bill = df_by_bills['Revenue'].median()\n",
        "med_marge = df_by_bills['Marge'].median()\n",
        "\n",
        "print('Avarage bill:', med_bill)\n",
        "print('Avarage marge:', med_marge)"
      ],
      "execution_count": null,
      "outputs": [
        {
          "output_type": "stream",
          "text": [
            "Avarage bill: 2027.0\n",
            "Avarage marge: 305.32\n"
          ],
          "name": "stdout"
        }
      ]
    },
    {
      "cell_type": "code",
      "metadata": {
        "id": "ahPKPT9rjMkA",
        "colab_type": "code",
        "colab": {
          "base_uri": "https://localhost:8080/",
          "height": 592
        },
        "outputId": "94b5ead2-21b3-4d1e-bdab-c2805e0a8a18"
      },
      "source": [
        "df_by_bills['Revenue'].hist(figsize=(20,10), bins = 100 );"
      ],
      "execution_count": null,
      "outputs": [
        {
          "output_type": "display_data",
          "data": {
            "image/png": "[encoded data removed]",
            "text/plain": [
              "<Figure size 1440x720 with 1 Axes>"
            ]
          },
          "metadata": {
            "tags": [],
            "needs_background": "light"
          }
        }
      ]
    },
    {
      "cell_type": "code",
      "metadata": {
        "id": "V5yA8XzMjMkF",
        "colab_type": "code",
        "colab": {
          "base_uri": "https://localhost:8080/",
          "height": 592
        },
        "outputId": "4e1eaab3-fdad-4911-dd91-edf212e65f8b"
      },
      "source": [
        "df_by_bills['Marge'].hist(figsize=(20,10), bins = 100 );"
      ],
      "execution_count": null,
      "outputs": [
        {
          "output_type": "display_data",
          "data": {
            "image/png": "[encoded data removed]",
            "text/plain": [
              "<Figure size 1440x720 with 1 Axes>"
            ]
          },
          "metadata": {
            "tags": [],
            "needs_background": "light"
          }
        }
      ]
    },
    {
      "cell_type": "code",
      "metadata": {
        "id": "51CKuMH2jMkI",
        "colab_type": "code",
        "colab": {
          "base_uri": "https://localhost:8080/",
          "height": 204
        },
        "outputId": "93913444-f55f-43e7-ad1a-e245810673e5"
      },
      "source": [
        "df_by_bills[['Revenue','Marge']].head()"
      ],
      "execution_count": null,
      "outputs": [
        {
          "output_type": "execute_result",
          "data": {
            "text/html": [
              "<div>\n",
              "<style scoped>\n",
              "    .dataframe tbody tr th:only-of-type {\n",
              "        vertical-align: middle;\n",
              "    }\n",
              "\n",
              "    .dataframe tbody tr th {\n",
              "        vertical-align: top;\n",
              "    }\n",
              "\n",
              "    .dataframe thead th {\n",
              "        text-align: right;\n",
              "    }\n",
              "</style>\n",
              "<table border=\"1\" class=\"dataframe\">\n",
              "  <thead>\n",
              "    <tr style=\"text-align: right;\">\n",
              "      <th></th>\n",
              "      <th>Revenue</th>\n",
              "      <th>Marge</th>\n",
              "    </tr>\n",
              "  </thead>\n",
              "  <tbody>\n",
              "    <tr>\n",
              "      <th>0</th>\n",
              "      <td>247.0</td>\n",
              "      <td>63.08</td>\n",
              "    </tr>\n",
              "    <tr>\n",
              "      <th>1</th>\n",
              "      <td>13300.0</td>\n",
              "      <td>3246.00</td>\n",
              "    </tr>\n",
              "    <tr>\n",
              "      <th>2</th>\n",
              "      <td>16150.0</td>\n",
              "      <td>4436.07</td>\n",
              "    </tr>\n",
              "    <tr>\n",
              "      <th>3</th>\n",
              "      <td>4180.0</td>\n",
              "      <td>1345.00</td>\n",
              "    </tr>\n",
              "    <tr>\n",
              "      <th>4</th>\n",
              "      <td>18500.0</td>\n",
              "      <td>3400.00</td>\n",
              "    </tr>\n",
              "  </tbody>\n",
              "</table>\n",
              "</div>"
            ],
            "text/plain": [
              "   Revenue    Marge\n",
              "0    247.0    63.08\n",
              "1  13300.0  3246.00\n",
              "2  16150.0  4436.07\n",
              "3   4180.0  1345.00\n",
              "4  18500.0  3400.00"
            ]
          },
          "metadata": {
            "tags": []
          },
          "execution_count": 16
        }
      ]
    },
    {
      "cell_type": "code",
      "metadata": {
        "id": "kRgj-SBMjMkL",
        "colab_type": "code",
        "colab": {}
      },
      "source": [
        "df_by_bills['Revenue_ln'] = df_by_bills['Revenue']\n",
        "df_by_bills['Marge_ln'] = df_by_bills['Marge']"
      ],
      "execution_count": null,
      "outputs": []
    },
    {
      "cell_type": "code",
      "metadata": {
        "id": "r4sFDWO7UVqf",
        "colab_type": "code",
        "colab": {}
      },
      "source": [
        "df_by_bills = df_by_bills[(df_by_bills['Marge'] > 0)]\n"
      ],
      "execution_count": null,
      "outputs": []
    },
    {
      "cell_type": "code",
      "metadata": {
        "id": "kpA_hbGejMkO",
        "colab_type": "code",
        "colab": {
          "base_uri": "https://localhost:8080/",
          "height": 419
        },
        "outputId": "948ac1db-1113-470c-d019-b4706ea030aa"
      },
      "source": [
        "df_by_bills[['Revenue_ln','Marge_ln']] = df_by_bills[['Revenue_ln','Marge_ln']].apply(lambda w: np.log(w + 1))\n",
        "df_by_bills.replace([np.inf, -np.inf], np.nan).dropna(subset=['Revenue_ln','Marge_ln'], how=\"all\")"
      ],
      "execution_count": null,
      "outputs": [
        {
          "output_type": "execute_result",
          "data": {
            "text/html": [
              "<div>\n",
              "<style scoped>\n",
              "    .dataframe tbody tr th:only-of-type {\n",
              "        vertical-align: middle;\n",
              "    }\n",
              "\n",
              "    .dataframe tbody tr th {\n",
              "        vertical-align: top;\n",
              "    }\n",
              "\n",
              "    .dataframe thead th {\n",
              "        text-align: right;\n",
              "    }\n",
              "</style>\n",
              "<table border=\"1\" class=\"dataframe\">\n",
              "  <thead>\n",
              "    <tr style=\"text-align: right;\">\n",
              "      <th></th>\n",
              "      <th>Unnamed: 0</th>\n",
              "      <th>НомерЗаказаНаСайте</th>\n",
              "      <th>Revenue</th>\n",
              "      <th>Marge</th>\n",
              "      <th>Количество</th>\n",
              "      <th>Дата</th>\n",
              "      <th>Date</th>\n",
              "      <th>Hours</th>\n",
              "      <th>Weekday</th>\n",
              "      <th>Revenue_ln</th>\n",
              "      <th>Marge_ln</th>\n",
              "    </tr>\n",
              "  </thead>\n",
              "  <tbody>\n",
              "    <tr>\n",
              "      <th>0</th>\n",
              "      <td>0</td>\n",
              "      <td>1303000313_TR</td>\n",
              "      <td>247.0</td>\n",
              "      <td>63.08</td>\n",
              "      <td>1</td>\n",
              "      <td>04.03.2017 9:53</td>\n",
              "      <td>2017-03-04</td>\n",
              "      <td>9</td>\n",
              "      <td>5</td>\n",
              "      <td>5.513429</td>\n",
              "      <td>4.160132</td>\n",
              "    </tr>\n",
              "    <tr>\n",
              "      <th>1</th>\n",
              "      <td>1</td>\n",
              "      <td>1303000319_TR</td>\n",
              "      <td>13300.0</td>\n",
              "      <td>3246.00</td>\n",
              "      <td>1</td>\n",
              "      <td>16.03.2017 12:58</td>\n",
              "      <td>2017-03-16</td>\n",
              "      <td>12</td>\n",
              "      <td>3</td>\n",
              "      <td>9.495594</td>\n",
              "      <td>8.085487</td>\n",
              "    </tr>\n",
              "    <tr>\n",
              "      <th>2</th>\n",
              "      <td>2</td>\n",
              "      <td>1303000321_TR</td>\n",
              "      <td>16150.0</td>\n",
              "      <td>4436.07</td>\n",
              "      <td>1</td>\n",
              "      <td>18.03.2017 18:22</td>\n",
              "      <td>2017-03-18</td>\n",
              "      <td>18</td>\n",
              "      <td>5</td>\n",
              "      <td>9.689737</td>\n",
              "      <td>8.397750</td>\n",
              "    </tr>\n",
              "    <tr>\n",
              "      <th>3</th>\n",
              "      <td>3</td>\n",
              "      <td>1303000323_TR</td>\n",
              "      <td>4180.0</td>\n",
              "      <td>1345.00</td>\n",
              "      <td>1</td>\n",
              "      <td>23.03.2017 20:01</td>\n",
              "      <td>2017-03-23</td>\n",
              "      <td>20</td>\n",
              "      <td>3</td>\n",
              "      <td>8.338306</td>\n",
              "      <td>7.204893</td>\n",
              "    </tr>\n",
              "    <tr>\n",
              "      <th>4</th>\n",
              "      <td>4</td>\n",
              "      <td>1303000324_TR</td>\n",
              "      <td>18500.0</td>\n",
              "      <td>3400.00</td>\n",
              "      <td>1</td>\n",
              "      <td>24.03.2017 10:06</td>\n",
              "      <td>2017-03-24</td>\n",
              "      <td>10</td>\n",
              "      <td>4</td>\n",
              "      <td>9.825580</td>\n",
              "      <td>8.131825</td>\n",
              "    </tr>\n",
              "    <tr>\n",
              "      <th>...</th>\n",
              "      <td>...</td>\n",
              "      <td>...</td>\n",
              "      <td>...</td>\n",
              "      <td>...</td>\n",
              "      <td>...</td>\n",
              "      <td>...</td>\n",
              "      <td>...</td>\n",
              "      <td>...</td>\n",
              "      <td>...</td>\n",
              "      <td>...</td>\n",
              "      <td>...</td>\n",
              "    </tr>\n",
              "    <tr>\n",
              "      <th>75073</th>\n",
              "      <td>75073</td>\n",
              "      <td>4513462_TR</td>\n",
              "      <td>19845.0</td>\n",
              "      <td>10423.00</td>\n",
              "      <td>1</td>\n",
              "      <td>30.04.2017 23:48</td>\n",
              "      <td>2017-04-30</td>\n",
              "      <td>23</td>\n",
              "      <td>6</td>\n",
              "      <td>9.895758</td>\n",
              "      <td>9.251866</td>\n",
              "    </tr>\n",
              "    <tr>\n",
              "      <th>75074</th>\n",
              "      <td>75074</td>\n",
              "      <td>4513463_TR</td>\n",
              "      <td>1932.0</td>\n",
              "      <td>429.28</td>\n",
              "      <td>4</td>\n",
              "      <td>30.04.2017 23:48</td>\n",
              "      <td>2017-04-30</td>\n",
              "      <td>23</td>\n",
              "      <td>6</td>\n",
              "      <td>7.566828</td>\n",
              "      <td>6.064436</td>\n",
              "    </tr>\n",
              "    <tr>\n",
              "      <th>75075</th>\n",
              "      <td>75075</td>\n",
              "      <td>4513474_TR</td>\n",
              "      <td>2002.0</td>\n",
              "      <td>558.57</td>\n",
              "      <td>10</td>\n",
              "      <td>30.04.2017 23:53</td>\n",
              "      <td>2017-04-30</td>\n",
              "      <td>23</td>\n",
              "      <td>6</td>\n",
              "      <td>7.602401</td>\n",
              "      <td>6.327169</td>\n",
              "    </tr>\n",
              "    <tr>\n",
              "      <th>75076</th>\n",
              "      <td>75076</td>\n",
              "      <td>4513480_TR</td>\n",
              "      <td>4864.0</td>\n",
              "      <td>910.86</td>\n",
              "      <td>2</td>\n",
              "      <td>30.04.2017 23:58</td>\n",
              "      <td>2017-04-30</td>\n",
              "      <td>23</td>\n",
              "      <td>6</td>\n",
              "      <td>8.489822</td>\n",
              "      <td>6.815486</td>\n",
              "    </tr>\n",
              "    <tr>\n",
              "      <th>75078</th>\n",
              "      <td>75078</td>\n",
              "      <td>4513487_TR</td>\n",
              "      <td>2319.0</td>\n",
              "      <td>107.62</td>\n",
              "      <td>44</td>\n",
              "      <td>30.04.2017 23:58</td>\n",
              "      <td>2017-04-30</td>\n",
              "      <td>23</td>\n",
              "      <td>6</td>\n",
              "      <td>7.749322</td>\n",
              "      <td>4.687856</td>\n",
              "    </tr>\n",
              "  </tbody>\n",
              "</table>\n",
              "<p>69859 rows × 11 columns</p>\n",
              "</div>"
            ],
            "text/plain": [
              "       Unnamed: 0 НомерЗаказаНаСайте  Revenue  ...  Weekday  Revenue_ln  Marge_ln\n",
              "0               0      1303000313_TR    247.0  ...        5    5.513429  4.160132\n",
              "1               1      1303000319_TR  13300.0  ...        3    9.495594  8.085487\n",
              "2               2      1303000321_TR  16150.0  ...        5    9.689737  8.397750\n",
              "3               3      1303000323_TR   4180.0  ...        3    8.338306  7.204893\n",
              "4               4      1303000324_TR  18500.0  ...        4    9.825580  8.131825\n",
              "...           ...                ...      ...  ...      ...         ...       ...\n",
              "75073       75073         4513462_TR  19845.0  ...        6    9.895758  9.251866\n",
              "75074       75074         4513463_TR   1932.0  ...        6    7.566828  6.064436\n",
              "75075       75075         4513474_TR   2002.0  ...        6    7.602401  6.327169\n",
              "75076       75076         4513480_TR   4864.0  ...        6    8.489822  6.815486\n",
              "75078       75078         4513487_TR   2319.0  ...        6    7.749322  4.687856\n",
              "\n",
              "[69859 rows x 11 columns]"
            ]
          },
          "metadata": {
            "tags": []
          },
          "execution_count": 14
        }
      ]
    },
    {
      "cell_type": "code",
      "metadata": {
        "id": "H4wxndvVjMkT",
        "colab_type": "code",
        "colab": {
          "base_uri": "https://localhost:8080/",
          "height": 391
        },
        "outputId": "3bb24976-3a3a-48d1-b8fc-225036b990ce"
      },
      "source": [
        "df_by_bills[['Revenue_ln','Marge_ln']].hist(figsize=(20,6), bins = 100 );"
      ],
      "execution_count": null,
      "outputs": [
        {
          "output_type": "display_data",
          "data": {
            "image/png": "[encoded data removed]",
            "text/plain": [
              "<Figure size 1440x432 with 2 Axes>"
            ]
          },
          "metadata": {
            "tags": [],
            "needs_background": "light"
          }
        }
      ]
    },
    {
      "cell_type": "markdown",
      "metadata": {
        "id": "kLD0JtRDjMkW",
        "colab_type": "text"
      },
      "source": [
        "Now lets look how different catigoris of goods are distributed in our data set. What category of products are most often bought? Which category of products brings the most profit, that is, which category is the most marginal? For clarity, let's look at pie chars"
      ]
    },
    {
      "cell_type": "code",
      "metadata": {
        "id": "zkEQCe60jMkX",
        "colab_type": "code",
        "colab": {}
      },
      "source": [
        "\n",
        "def pieChar(data_names, data_values, title):\n",
        "    dpi = 80\n",
        "    fig = plt.figure(dpi = dpi, figsize = (512 / dpi, 384 / dpi) )\n",
        "    mpl.rcParams.update({'font.size': 9})\n",
        "\n",
        "    plt.title(title)\n",
        "\n",
        "    xs = range(len(data_names))\n",
        "\n",
        "    plt.pie(\n",
        "        data_values, autopct='%.1f', radius = 1.1)\n",
        "    plt.legend(\n",
        "        bbox_to_anchor = (-0.16, 0.45, 0.25, 0.25),\n",
        "        loc = 'lower left', labels = data_names )\n",
        "    fig.savefig('pie.png')"
      ],
      "execution_count": null,
      "outputs": []
    },
    {
      "cell_type": "code",
      "metadata": {
        "id": "Up6E_Y2pjMka",
        "colab_type": "code",
        "colab": {}
      },
      "source": [
        "type_set = df[\"Тип\"].unique()"
      ],
      "execution_count": null,
      "outputs": []
    },
    {
      "cell_type": "code",
      "metadata": {
        "id": "mqPoTh0WjMke",
        "colab_type": "code",
        "colab": {}
      },
      "source": [
        "quantity_for_types = []\n",
        "marge_for_types = []\n",
        "revenue_for_types = []\n",
        "for types in type_set:\n",
        "    quantity_for_types.append(len(df[df[\"Тип\"] == types]))\n",
        "    marge_for_types.append(df[df[\"Тип\"] == types]['Marge'].sum())\n",
        "    revenue_for_types.append(df[df[\"Тип\"] == types]['Revenue'].sum())"
      ],
      "execution_count": null,
      "outputs": []
    },
    {
      "cell_type": "code",
      "metadata": {
        "id": "JCap3jI3jMkh",
        "colab_type": "code",
        "colab": {
          "base_uri": "https://localhost:8080/",
          "height": 986
        },
        "outputId": "4eb492f4-a874-4c1c-e7e4-697ddc11a9fc"
      },
      "source": [
        "pieChar(type_set, quantity_for_types, 'Distribution by quantity')\n",
        "pieChar(type_set, marge_for_types, 'Distribution by marge')\n",
        "pieChar(type_set, revenue_for_types, 'Distribution by revenue')"
      ],
      "execution_count": null,
      "outputs": [
        {
          "output_type": "display_data",
          "data": {
            "image/png": "[encoded data removed]",
            "text/plain": [
              "<Figure size 512x384 with 1 Axes>"
            ]
          },
          "metadata": {
            "tags": []
          }
        },
        {
          "output_type": "display_data",
          "data": {
            "image/png": "[encoded data removed]",
            "text/plain": [
              "<Figure size 512x384 with 1 Axes>"
            ]
          },
          "metadata": {
            "tags": []
          }
        },
        {
          "output_type": "display_data",
          "data": {
            "image/png": "[encoded data removed]",
            "text/plain": [
              "<Figure size 512x384 with 1 Axes>"
            ]
          },
          "metadata": {
            "tags": []
          }
        }
      ]
    },
    {
      "cell_type": "code",
      "metadata": {
        "id": "pwMgA_ubjMkl",
        "colab_type": "code",
        "colab": {}
      },
      "source": [
        "df_by_bills.drop(['Unnamed: 0', 'Revenue_ln', 'Marge_ln'], axis='columns', inplace=True)"
      ],
      "execution_count": null,
      "outputs": []
    },
    {
      "cell_type": "code",
      "metadata": {
        "id": "3cHDpM4VjMkp",
        "colab_type": "code",
        "colab": {}
      },
      "source": [
        "from datetime import datetime"
      ],
      "execution_count": null,
      "outputs": []
    },
    {
      "cell_type": "code",
      "metadata": {
        "id": "Y0F1w32IUxIX",
        "colab_type": "code",
        "colab": {
          "base_uri": "https://localhost:8080/",
          "height": 450
        },
        "outputId": "286eae4b-5a92-4b85-ee16-5d134afd07ed"
      },
      "source": [
        "df_by_dates = df_by_bills.groupby('Date').aggregate(sum)\n",
        "df_by_dates"
      ],
      "execution_count": null,
      "outputs": [
        {
          "output_type": "execute_result",
          "data": {
            "text/html": [
              "<div>\n",
              "<style scoped>\n",
              "    .dataframe tbody tr th:only-of-type {\n",
              "        vertical-align: middle;\n",
              "    }\n",
              "\n",
              "    .dataframe tbody tr th {\n",
              "        vertical-align: top;\n",
              "    }\n",
              "\n",
              "    .dataframe thead th {\n",
              "        text-align: right;\n",
              "    }\n",
              "</style>\n",
              "<table border=\"1\" class=\"dataframe\">\n",
              "  <thead>\n",
              "    <tr style=\"text-align: right;\">\n",
              "      <th></th>\n",
              "      <th>Revenue</th>\n",
              "      <th>Marge</th>\n",
              "      <th>Количество</th>\n",
              "      <th>Hours</th>\n",
              "      <th>Weekday</th>\n",
              "    </tr>\n",
              "    <tr>\n",
              "      <th>Date</th>\n",
              "      <th></th>\n",
              "      <th></th>\n",
              "      <th></th>\n",
              "      <th></th>\n",
              "      <th></th>\n",
              "    </tr>\n",
              "  </thead>\n",
              "  <tbody>\n",
              "    <tr>\n",
              "      <th>2017-03-01</th>\n",
              "      <td>3634783.51</td>\n",
              "      <td>902241.09</td>\n",
              "      <td>3601</td>\n",
              "      <td>17518</td>\n",
              "      <td>2304</td>\n",
              "    </tr>\n",
              "    <tr>\n",
              "      <th>2017-03-02</th>\n",
              "      <td>3494213.15</td>\n",
              "      <td>920122.91</td>\n",
              "      <td>3190</td>\n",
              "      <td>15733</td>\n",
              "      <td>3240</td>\n",
              "    </tr>\n",
              "    <tr>\n",
              "      <th>2017-03-03</th>\n",
              "      <td>3126095.19</td>\n",
              "      <td>767155.54</td>\n",
              "      <td>3218</td>\n",
              "      <td>15022</td>\n",
              "      <td>4156</td>\n",
              "    </tr>\n",
              "    <tr>\n",
              "      <th>2017-03-04</th>\n",
              "      <td>3250778.44</td>\n",
              "      <td>830332.98</td>\n",
              "      <td>3038</td>\n",
              "      <td>14140</td>\n",
              "      <td>4705</td>\n",
              "    </tr>\n",
              "    <tr>\n",
              "      <th>2017-03-05</th>\n",
              "      <td>3409089.59</td>\n",
              "      <td>891829.54</td>\n",
              "      <td>3162</td>\n",
              "      <td>15403</td>\n",
              "      <td>6108</td>\n",
              "    </tr>\n",
              "    <tr>\n",
              "      <th>...</th>\n",
              "      <td>...</td>\n",
              "      <td>...</td>\n",
              "      <td>...</td>\n",
              "      <td>...</td>\n",
              "      <td>...</td>\n",
              "    </tr>\n",
              "    <tr>\n",
              "      <th>2017-04-26</th>\n",
              "      <td>3204886.76</td>\n",
              "      <td>800001.57</td>\n",
              "      <td>4667</td>\n",
              "      <td>14912</td>\n",
              "      <td>2138</td>\n",
              "    </tr>\n",
              "    <tr>\n",
              "      <th>2017-04-27</th>\n",
              "      <td>2560832.98</td>\n",
              "      <td>616444.38</td>\n",
              "      <td>3574</td>\n",
              "      <td>11531</td>\n",
              "      <td>2532</td>\n",
              "    </tr>\n",
              "    <tr>\n",
              "      <th>2017-04-28</th>\n",
              "      <td>3012607.65</td>\n",
              "      <td>737103.54</td>\n",
              "      <td>4745</td>\n",
              "      <td>11682</td>\n",
              "      <td>3868</td>\n",
              "    </tr>\n",
              "    <tr>\n",
              "      <th>2017-04-29</th>\n",
              "      <td>3084290.41</td>\n",
              "      <td>760416.42</td>\n",
              "      <td>3414</td>\n",
              "      <td>9280</td>\n",
              "      <td>4300</td>\n",
              "    </tr>\n",
              "    <tr>\n",
              "      <th>2017-04-30</th>\n",
              "      <td>3239874.85</td>\n",
              "      <td>887613.34</td>\n",
              "      <td>3585</td>\n",
              "      <td>11573</td>\n",
              "      <td>5418</td>\n",
              "    </tr>\n",
              "  </tbody>\n",
              "</table>\n",
              "<p>61 rows × 5 columns</p>\n",
              "</div>"
            ],
            "text/plain": [
              "               Revenue      Marge  Количество  Hours  Weekday\n",
              "Date                                                         \n",
              "2017-03-01  3634783.51  902241.09        3601  17518     2304\n",
              "2017-03-02  3494213.15  920122.91        3190  15733     3240\n",
              "2017-03-03  3126095.19  767155.54        3218  15022     4156\n",
              "2017-03-04  3250778.44  830332.98        3038  14140     4705\n",
              "2017-03-05  3409089.59  891829.54        3162  15403     6108\n",
              "...                ...        ...         ...    ...      ...\n",
              "2017-04-26  3204886.76  800001.57        4667  14912     2138\n",
              "2017-04-27  2560832.98  616444.38        3574  11531     2532\n",
              "2017-04-28  3012607.65  737103.54        4745  11682     3868\n",
              "2017-04-29  3084290.41  760416.42        3414   9280     4300\n",
              "2017-04-30  3239874.85  887613.34        3585  11573     5418\n",
              "\n",
              "[61 rows x 5 columns]"
            ]
          },
          "metadata": {
            "tags": []
          },
          "execution_count": 21
        }
      ]
    },
    {
      "cell_type": "code",
      "metadata": {
        "id": "KA58okNoVSuz",
        "colab_type": "code",
        "colab": {
          "base_uri": "https://localhost:8080/",
          "height": 419
        },
        "outputId": "089492c6-b760-47c7-82d7-6e4549bf1634"
      },
      "source": [
        "df_by_dates = df_by_dates.reset_index()\n",
        "df_by_dates"
      ],
      "execution_count": null,
      "outputs": [
        {
          "output_type": "execute_result",
          "data": {
            "text/html": [
              "<div>\n",
              "<style scoped>\n",
              "    .dataframe tbody tr th:only-of-type {\n",
              "        vertical-align: middle;\n",
              "    }\n",
              "\n",
              "    .dataframe tbody tr th {\n",
              "        vertical-align: top;\n",
              "    }\n",
              "\n",
              "    .dataframe thead th {\n",
              "        text-align: right;\n",
              "    }\n",
              "</style>\n",
              "<table border=\"1\" class=\"dataframe\">\n",
              "  <thead>\n",
              "    <tr style=\"text-align: right;\">\n",
              "      <th></th>\n",
              "      <th>Date</th>\n",
              "      <th>Revenue</th>\n",
              "      <th>Marge</th>\n",
              "      <th>Количество</th>\n",
              "      <th>Hours</th>\n",
              "      <th>Weekday</th>\n",
              "    </tr>\n",
              "  </thead>\n",
              "  <tbody>\n",
              "    <tr>\n",
              "      <th>0</th>\n",
              "      <td>2017-03-01</td>\n",
              "      <td>3634783.51</td>\n",
              "      <td>902241.09</td>\n",
              "      <td>3601</td>\n",
              "      <td>17518</td>\n",
              "      <td>2304</td>\n",
              "    </tr>\n",
              "    <tr>\n",
              "      <th>1</th>\n",
              "      <td>2017-03-02</td>\n",
              "      <td>3494213.15</td>\n",
              "      <td>920122.91</td>\n",
              "      <td>3190</td>\n",
              "      <td>15733</td>\n",
              "      <td>3240</td>\n",
              "    </tr>\n",
              "    <tr>\n",
              "      <th>2</th>\n",
              "      <td>2017-03-03</td>\n",
              "      <td>3126095.19</td>\n",
              "      <td>767155.54</td>\n",
              "      <td>3218</td>\n",
              "      <td>15022</td>\n",
              "      <td>4156</td>\n",
              "    </tr>\n",
              "    <tr>\n",
              "      <th>3</th>\n",
              "      <td>2017-03-04</td>\n",
              "      <td>3250778.44</td>\n",
              "      <td>830332.98</td>\n",
              "      <td>3038</td>\n",
              "      <td>14140</td>\n",
              "      <td>4705</td>\n",
              "    </tr>\n",
              "    <tr>\n",
              "      <th>4</th>\n",
              "      <td>2017-03-05</td>\n",
              "      <td>3409089.59</td>\n",
              "      <td>891829.54</td>\n",
              "      <td>3162</td>\n",
              "      <td>15403</td>\n",
              "      <td>6108</td>\n",
              "    </tr>\n",
              "    <tr>\n",
              "      <th>...</th>\n",
              "      <td>...</td>\n",
              "      <td>...</td>\n",
              "      <td>...</td>\n",
              "      <td>...</td>\n",
              "      <td>...</td>\n",
              "      <td>...</td>\n",
              "    </tr>\n",
              "    <tr>\n",
              "      <th>56</th>\n",
              "      <td>2017-04-26</td>\n",
              "      <td>3204886.76</td>\n",
              "      <td>800001.57</td>\n",
              "      <td>4667</td>\n",
              "      <td>14912</td>\n",
              "      <td>2138</td>\n",
              "    </tr>\n",
              "    <tr>\n",
              "      <th>57</th>\n",
              "      <td>2017-04-27</td>\n",
              "      <td>2560832.98</td>\n",
              "      <td>616444.38</td>\n",
              "      <td>3574</td>\n",
              "      <td>11531</td>\n",
              "      <td>2532</td>\n",
              "    </tr>\n",
              "    <tr>\n",
              "      <th>58</th>\n",
              "      <td>2017-04-28</td>\n",
              "      <td>3012607.65</td>\n",
              "      <td>737103.54</td>\n",
              "      <td>4745</td>\n",
              "      <td>11682</td>\n",
              "      <td>3868</td>\n",
              "    </tr>\n",
              "    <tr>\n",
              "      <th>59</th>\n",
              "      <td>2017-04-29</td>\n",
              "      <td>3084290.41</td>\n",
              "      <td>760416.42</td>\n",
              "      <td>3414</td>\n",
              "      <td>9280</td>\n",
              "      <td>4300</td>\n",
              "    </tr>\n",
              "    <tr>\n",
              "      <th>60</th>\n",
              "      <td>2017-04-30</td>\n",
              "      <td>3239874.85</td>\n",
              "      <td>887613.34</td>\n",
              "      <td>3585</td>\n",
              "      <td>11573</td>\n",
              "      <td>5418</td>\n",
              "    </tr>\n",
              "  </tbody>\n",
              "</table>\n",
              "<p>61 rows × 6 columns</p>\n",
              "</div>"
            ],
            "text/plain": [
              "          Date     Revenue      Marge  Количество  Hours  Weekday\n",
              "0   2017-03-01  3634783.51  902241.09        3601  17518     2304\n",
              "1   2017-03-02  3494213.15  920122.91        3190  15733     3240\n",
              "2   2017-03-03  3126095.19  767155.54        3218  15022     4156\n",
              "3   2017-03-04  3250778.44  830332.98        3038  14140     4705\n",
              "4   2017-03-05  3409089.59  891829.54        3162  15403     6108\n",
              "..         ...         ...        ...         ...    ...      ...\n",
              "56  2017-04-26  3204886.76  800001.57        4667  14912     2138\n",
              "57  2017-04-27  2560832.98  616444.38        3574  11531     2532\n",
              "58  2017-04-28  3012607.65  737103.54        4745  11682     3868\n",
              "59  2017-04-29  3084290.41  760416.42        3414   9280     4300\n",
              "60  2017-04-30  3239874.85  887613.34        3585  11573     5418\n",
              "\n",
              "[61 rows x 6 columns]"
            ]
          },
          "metadata": {
            "tags": []
          },
          "execution_count": 22
        }
      ]
    },
    {
      "cell_type": "code",
      "metadata": {
        "id": "Rh3jqa6LypEg",
        "colab_type": "code",
        "colab": {}
      },
      "source": [
        "weekdays = []\n",
        "for item in df_by_dates['Date']:\n",
        "    \n",
        "    x =  pd.to_datetime(item, format=\"%Y-%m-%d\")\n",
        "    a = x.timetuple()\n",
        "    weekdays.append(a[6])\n",
        "\n",
        "df_by_dates['Weekday'] = weekdays"
      ],
      "execution_count": null,
      "outputs": []
    },
    {
      "cell_type": "code",
      "metadata": {
        "id": "ECDlvqfIy5Hz",
        "colab_type": "code",
        "colab": {
          "base_uri": "https://localhost:8080/",
          "height": 419
        },
        "outputId": "576370e6-990b-4332-d0fb-0e078671448e"
      },
      "source": [
        "df_by_dates"
      ],
      "execution_count": null,
      "outputs": [
        {
          "output_type": "execute_result",
          "data": {
            "text/html": [
              "<div>\n",
              "<style scoped>\n",
              "    .dataframe tbody tr th:only-of-type {\n",
              "        vertical-align: middle;\n",
              "    }\n",
              "\n",
              "    .dataframe tbody tr th {\n",
              "        vertical-align: top;\n",
              "    }\n",
              "\n",
              "    .dataframe thead th {\n",
              "        text-align: right;\n",
              "    }\n",
              "</style>\n",
              "<table border=\"1\" class=\"dataframe\">\n",
              "  <thead>\n",
              "    <tr style=\"text-align: right;\">\n",
              "      <th></th>\n",
              "      <th>Date</th>\n",
              "      <th>Revenue</th>\n",
              "      <th>Marge</th>\n",
              "      <th>Количество</th>\n",
              "      <th>Hours</th>\n",
              "      <th>Weekday</th>\n",
              "    </tr>\n",
              "  </thead>\n",
              "  <tbody>\n",
              "    <tr>\n",
              "      <th>0</th>\n",
              "      <td>2017-03-01</td>\n",
              "      <td>3634783.51</td>\n",
              "      <td>902241.09</td>\n",
              "      <td>3601</td>\n",
              "      <td>17518</td>\n",
              "      <td>2</td>\n",
              "    </tr>\n",
              "    <tr>\n",
              "      <th>1</th>\n",
              "      <td>2017-03-02</td>\n",
              "      <td>3494213.15</td>\n",
              "      <td>920122.91</td>\n",
              "      <td>3190</td>\n",
              "      <td>15733</td>\n",
              "      <td>3</td>\n",
              "    </tr>\n",
              "    <tr>\n",
              "      <th>2</th>\n",
              "      <td>2017-03-03</td>\n",
              "      <td>3126095.19</td>\n",
              "      <td>767155.54</td>\n",
              "      <td>3218</td>\n",
              "      <td>15022</td>\n",
              "      <td>4</td>\n",
              "    </tr>\n",
              "    <tr>\n",
              "      <th>3</th>\n",
              "      <td>2017-03-04</td>\n",
              "      <td>3250778.44</td>\n",
              "      <td>830332.98</td>\n",
              "      <td>3038</td>\n",
              "      <td>14140</td>\n",
              "      <td>5</td>\n",
              "    </tr>\n",
              "    <tr>\n",
              "      <th>4</th>\n",
              "      <td>2017-03-05</td>\n",
              "      <td>3409089.59</td>\n",
              "      <td>891829.54</td>\n",
              "      <td>3162</td>\n",
              "      <td>15403</td>\n",
              "      <td>6</td>\n",
              "    </tr>\n",
              "    <tr>\n",
              "      <th>...</th>\n",
              "      <td>...</td>\n",
              "      <td>...</td>\n",
              "      <td>...</td>\n",
              "      <td>...</td>\n",
              "      <td>...</td>\n",
              "      <td>...</td>\n",
              "    </tr>\n",
              "    <tr>\n",
              "      <th>56</th>\n",
              "      <td>2017-04-26</td>\n",
              "      <td>3204886.76</td>\n",
              "      <td>800001.57</td>\n",
              "      <td>4667</td>\n",
              "      <td>14912</td>\n",
              "      <td>2</td>\n",
              "    </tr>\n",
              "    <tr>\n",
              "      <th>57</th>\n",
              "      <td>2017-04-27</td>\n",
              "      <td>2560832.98</td>\n",
              "      <td>616444.38</td>\n",
              "      <td>3574</td>\n",
              "      <td>11531</td>\n",
              "      <td>3</td>\n",
              "    </tr>\n",
              "    <tr>\n",
              "      <th>58</th>\n",
              "      <td>2017-04-28</td>\n",
              "      <td>3012607.65</td>\n",
              "      <td>737103.54</td>\n",
              "      <td>4745</td>\n",
              "      <td>11682</td>\n",
              "      <td>4</td>\n",
              "    </tr>\n",
              "    <tr>\n",
              "      <th>59</th>\n",
              "      <td>2017-04-29</td>\n",
              "      <td>3084290.41</td>\n",
              "      <td>760416.42</td>\n",
              "      <td>3414</td>\n",
              "      <td>9280</td>\n",
              "      <td>5</td>\n",
              "    </tr>\n",
              "    <tr>\n",
              "      <th>60</th>\n",
              "      <td>2017-04-30</td>\n",
              "      <td>3239874.85</td>\n",
              "      <td>887613.34</td>\n",
              "      <td>3585</td>\n",
              "      <td>11573</td>\n",
              "      <td>6</td>\n",
              "    </tr>\n",
              "  </tbody>\n",
              "</table>\n",
              "<p>61 rows × 6 columns</p>\n",
              "</div>"
            ],
            "text/plain": [
              "          Date     Revenue      Marge  Количество  Hours  Weekday\n",
              "0   2017-03-01  3634783.51  902241.09        3601  17518        2\n",
              "1   2017-03-02  3494213.15  920122.91        3190  15733        3\n",
              "2   2017-03-03  3126095.19  767155.54        3218  15022        4\n",
              "3   2017-03-04  3250778.44  830332.98        3038  14140        5\n",
              "4   2017-03-05  3409089.59  891829.54        3162  15403        6\n",
              "..         ...         ...        ...         ...    ...      ...\n",
              "56  2017-04-26  3204886.76  800001.57        4667  14912        2\n",
              "57  2017-04-27  2560832.98  616444.38        3574  11531        3\n",
              "58  2017-04-28  3012607.65  737103.54        4745  11682        4\n",
              "59  2017-04-29  3084290.41  760416.42        3414   9280        5\n",
              "60  2017-04-30  3239874.85  887613.34        3585  11573        6\n",
              "\n",
              "[61 rows x 6 columns]"
            ]
          },
          "metadata": {
            "tags": []
          },
          "execution_count": 25
        }
      ]
    },
    {
      "cell_type": "code",
      "metadata": {
        "id": "iqN9TesSjMku",
        "colab_type": "code",
        "colab": {}
      },
      "source": [
        "\n",
        "num_unique_bills = []\n",
        "for day in set(df_by_dates['Date']):\n",
        "    num_unique_bills.append(len(df_by_bills[df_by_bills['Date'] == day]))\n",
        "    "
      ],
      "execution_count": null,
      "outputs": []
    },
    {
      "cell_type": "code",
      "metadata": {
        "id": "tLAR5RCtjMkx",
        "colab_type": "code",
        "colab": {}
      },
      "source": [
        "df_by_bills['Date'] = pd.to_datetime(df_by_bills['Date'])"
      ],
      "execution_count": null,
      "outputs": []
    },
    {
      "cell_type": "code",
      "metadata": {
        "id": "7yDxambFjMk1",
        "colab_type": "code",
        "colab": {}
      },
      "source": [
        "df_by_dates['UniqueBills'] = num_unique_bills\n"
      ],
      "execution_count": null,
      "outputs": []
    },
    {
      "cell_type": "code",
      "metadata": {
        "id": "zd2PaLQ-V5RF",
        "colab_type": "code",
        "colab": {
          "base_uri": "https://localhost:8080/",
          "height": 419
        },
        "outputId": "4cc0ec55-21d5-4424-f53d-207ea6cf2c0c"
      },
      "source": [
        "df_by_dates"
      ],
      "execution_count": null,
      "outputs": [
        {
          "output_type": "execute_result",
          "data": {
            "text/html": [
              "<div>\n",
              "<style scoped>\n",
              "    .dataframe tbody tr th:only-of-type {\n",
              "        vertical-align: middle;\n",
              "    }\n",
              "\n",
              "    .dataframe tbody tr th {\n",
              "        vertical-align: top;\n",
              "    }\n",
              "\n",
              "    .dataframe thead th {\n",
              "        text-align: right;\n",
              "    }\n",
              "</style>\n",
              "<table border=\"1\" class=\"dataframe\">\n",
              "  <thead>\n",
              "    <tr style=\"text-align: right;\">\n",
              "      <th></th>\n",
              "      <th>Date</th>\n",
              "      <th>Revenue</th>\n",
              "      <th>Marge</th>\n",
              "      <th>Количество</th>\n",
              "      <th>Hours</th>\n",
              "      <th>Weekday</th>\n",
              "      <th>UniqueBills</th>\n",
              "    </tr>\n",
              "  </thead>\n",
              "  <tbody>\n",
              "    <tr>\n",
              "      <th>0</th>\n",
              "      <td>2017-03-01</td>\n",
              "      <td>3634783.51</td>\n",
              "      <td>902241.09</td>\n",
              "      <td>3601</td>\n",
              "      <td>17518</td>\n",
              "      <td>2</td>\n",
              "      <td>1395</td>\n",
              "    </tr>\n",
              "    <tr>\n",
              "      <th>1</th>\n",
              "      <td>2017-03-02</td>\n",
              "      <td>3494213.15</td>\n",
              "      <td>920122.91</td>\n",
              "      <td>3190</td>\n",
              "      <td>15733</td>\n",
              "      <td>3</td>\n",
              "      <td>842</td>\n",
              "    </tr>\n",
              "    <tr>\n",
              "      <th>2</th>\n",
              "      <td>2017-03-03</td>\n",
              "      <td>3126095.19</td>\n",
              "      <td>767155.54</td>\n",
              "      <td>3218</td>\n",
              "      <td>15022</td>\n",
              "      <td>4</td>\n",
              "      <td>2294</td>\n",
              "    </tr>\n",
              "    <tr>\n",
              "      <th>3</th>\n",
              "      <td>2017-03-04</td>\n",
              "      <td>3250778.44</td>\n",
              "      <td>830332.98</td>\n",
              "      <td>3038</td>\n",
              "      <td>14140</td>\n",
              "      <td>5</td>\n",
              "      <td>830</td>\n",
              "    </tr>\n",
              "    <tr>\n",
              "      <th>4</th>\n",
              "      <td>2017-03-05</td>\n",
              "      <td>3409089.59</td>\n",
              "      <td>891829.54</td>\n",
              "      <td>3162</td>\n",
              "      <td>15403</td>\n",
              "      <td>6</td>\n",
              "      <td>1504</td>\n",
              "    </tr>\n",
              "    <tr>\n",
              "      <th>...</th>\n",
              "      <td>...</td>\n",
              "      <td>...</td>\n",
              "      <td>...</td>\n",
              "      <td>...</td>\n",
              "      <td>...</td>\n",
              "      <td>...</td>\n",
              "      <td>...</td>\n",
              "    </tr>\n",
              "    <tr>\n",
              "      <th>56</th>\n",
              "      <td>2017-04-26</td>\n",
              "      <td>3204886.76</td>\n",
              "      <td>800001.57</td>\n",
              "      <td>4667</td>\n",
              "      <td>14912</td>\n",
              "      <td>2</td>\n",
              "      <td>1032</td>\n",
              "    </tr>\n",
              "    <tr>\n",
              "      <th>57</th>\n",
              "      <td>2017-04-27</td>\n",
              "      <td>2560832.98</td>\n",
              "      <td>616444.38</td>\n",
              "      <td>3574</td>\n",
              "      <td>11531</td>\n",
              "      <td>3</td>\n",
              "      <td>1095</td>\n",
              "    </tr>\n",
              "    <tr>\n",
              "      <th>58</th>\n",
              "      <td>2017-04-28</td>\n",
              "      <td>3012607.65</td>\n",
              "      <td>737103.54</td>\n",
              "      <td>4745</td>\n",
              "      <td>11682</td>\n",
              "      <td>4</td>\n",
              "      <td>807</td>\n",
              "    </tr>\n",
              "    <tr>\n",
              "      <th>59</th>\n",
              "      <td>2017-04-29</td>\n",
              "      <td>3084290.41</td>\n",
              "      <td>760416.42</td>\n",
              "      <td>3414</td>\n",
              "      <td>9280</td>\n",
              "      <td>5</td>\n",
              "      <td>1421</td>\n",
              "    </tr>\n",
              "    <tr>\n",
              "      <th>60</th>\n",
              "      <td>2017-04-30</td>\n",
              "      <td>3239874.85</td>\n",
              "      <td>887613.34</td>\n",
              "      <td>3585</td>\n",
              "      <td>11573</td>\n",
              "      <td>6</td>\n",
              "      <td>721</td>\n",
              "    </tr>\n",
              "  </tbody>\n",
              "</table>\n",
              "<p>61 rows × 7 columns</p>\n",
              "</div>"
            ],
            "text/plain": [
              "          Date     Revenue      Marge  Количество  Hours  Weekday  UniqueBills\n",
              "0   2017-03-01  3634783.51  902241.09        3601  17518        2         1395\n",
              "1   2017-03-02  3494213.15  920122.91        3190  15733        3          842\n",
              "2   2017-03-03  3126095.19  767155.54        3218  15022        4         2294\n",
              "3   2017-03-04  3250778.44  830332.98        3038  14140        5          830\n",
              "4   2017-03-05  3409089.59  891829.54        3162  15403        6         1504\n",
              "..         ...         ...        ...         ...    ...      ...          ...\n",
              "56  2017-04-26  3204886.76  800001.57        4667  14912        2         1032\n",
              "57  2017-04-27  2560832.98  616444.38        3574  11531        3         1095\n",
              "58  2017-04-28  3012607.65  737103.54        4745  11682        4          807\n",
              "59  2017-04-29  3084290.41  760416.42        3414   9280        5         1421\n",
              "60  2017-04-30  3239874.85  887613.34        3585  11573        6          721\n",
              "\n",
              "[61 rows x 7 columns]"
            ]
          },
          "metadata": {
            "tags": []
          },
          "execution_count": 29
        }
      ]
    },
    {
      "cell_type": "code",
      "metadata": {
        "id": "lmlxwP1SjMk5",
        "colab_type": "code",
        "colab": {}
      },
      "source": [
        "df_by_dates.to_csv(path+'clean_data_grouped_by_dates.csv')"
      ],
      "execution_count": null,
      "outputs": []
    },
    {
      "cell_type": "code",
      "metadata": {
        "id": "RIRvaGrnjMk8",
        "colab_type": "code",
        "colab": {}
      },
      "source": [
        "#уникальные чеки, количество товаров, выручка, маржа"
      ],
      "execution_count": null,
      "outputs": []
    }
  ]
}