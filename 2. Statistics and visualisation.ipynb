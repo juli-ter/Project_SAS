{
 "cells": [
  {
   "cell_type": "markdown",
   "metadata": {},
   "source": [
    "# 2. Statistics and visualisation"
   ]
  },
  {
   "cell_type": "markdown",
   "metadata": {},
   "source": [
    "We have already cleaned the initial data set and now it is time to have a look on the values and try to make conclutions"
   ]
  },
  {
   "cell_type": "code",
   "execution_count": 195,
   "metadata": {},
   "outputs": [],
   "source": [
    "import pandas as pd               \n",
    "import numpy as np           \n",
    "import matplotlib as mpl\n",
    "import matplotlib.pyplot as plt   \n",
    "import seaborn as sns             \n",
    "plt.style.use('ggplot')     \n",
    "import matplotlib.dates as mdates\n",
    "\n",
    "%matplotlib inline"
   ]
  },
  {
   "cell_type": "code",
   "execution_count": 140,
   "metadata": {},
   "outputs": [],
   "source": [
    "df = pd.read_csv('clean_data_final01.csv')"
   ]
  },
  {
   "cell_type": "code",
   "execution_count": 141,
   "metadata": {},
   "outputs": [
    {
     "data": {
      "text/html": [
       "<div>\n",
       "<style scoped>\n",
       "    .dataframe tbody tr th:only-of-type {\n",
       "        vertical-align: middle;\n",
       "    }\n",
       "\n",
       "    .dataframe tbody tr th {\n",
       "        vertical-align: top;\n",
       "    }\n",
       "\n",
       "    .dataframe thead th {\n",
       "        text-align: right;\n",
       "    }\n",
       "</style>\n",
       "<table border=\"1\" class=\"dataframe\">\n",
       "  <thead>\n",
       "    <tr style=\"text-align: right;\">\n",
       "      <th></th>\n",
       "      <th>Дата</th>\n",
       "      <th>ДатаДоставки</th>\n",
       "      <th>НомерЗаказаНаСайте</th>\n",
       "      <th>НовыйСтатус</th>\n",
       "      <th>СуммаЗаказаНаСайте</th>\n",
       "      <th>СуммаДокумента</th>\n",
       "      <th>МетодДоставки</th>\n",
       "      <th>ФормаОплаты</th>\n",
       "      <th>Регион</th>\n",
       "      <th>Группа2</th>\n",
       "      <th>...</th>\n",
       "      <th>СуммаУслуг</th>\n",
       "      <th>СуммаДоставки</th>\n",
       "      <th>НомерСтроки</th>\n",
       "      <th>КоличествоПроданоКлиенту</th>\n",
       "      <th>ДатаЗаказаНаСайте</th>\n",
       "      <th>Телефон_new</th>\n",
       "      <th>ЭлектроннаяПочта_new</th>\n",
       "      <th>Клиент</th>\n",
       "      <th>ID_SKU</th>\n",
       "      <th>ГородМагазина</th>\n",
       "    </tr>\n",
       "  </thead>\n",
       "  <tbody>\n",
       "    <tr>\n",
       "      <td>0</td>\n",
       "      <td>01.03.2017 12:22</td>\n",
       "      <td>15.03.2017 0:00</td>\n",
       "      <td>3999117_TR</td>\n",
       "      <td>Доставлен</td>\n",
       "      <td>4819</td>\n",
       "      <td>3 759</td>\n",
       "      <td>Магазины</td>\n",
       "      <td>Безналичная</td>\n",
       "      <td>Челябинск</td>\n",
       "      <td>ТЕКСТИЛЬ, ТРИКОТАЖ</td>\n",
       "      <td>...</td>\n",
       "      <td>0</td>\n",
       "      <td>0</td>\n",
       "      <td>3</td>\n",
       "      <td>1</td>\n",
       "      <td>01.03.2017 0:00</td>\n",
       "      <td>55575453-56535648535679</td>\n",
       "      <td>107117_ku16@list.ru</td>\n",
       "      <td>Гость</td>\n",
       "      <td>IDL00028974351</td>\n",
       "      <td>0</td>\n",
       "    </tr>\n",
       "    <tr>\n",
       "      <td>1</td>\n",
       "      <td>01.03.2017 12:31</td>\n",
       "      <td>17.03.2017 0:00</td>\n",
       "      <td>3999122_TR</td>\n",
       "      <td>Доставлен</td>\n",
       "      <td>3325</td>\n",
       "      <td>3 325</td>\n",
       "      <td>Магазины</td>\n",
       "      <td>Безналичная</td>\n",
       "      <td>Нижневартовск</td>\n",
       "      <td>ИГРУШКИ</td>\n",
       "      <td>...</td>\n",
       "      <td>0</td>\n",
       "      <td>0</td>\n",
       "      <td>1</td>\n",
       "      <td>1</td>\n",
       "      <td>01.03.2017 0:00</td>\n",
       "      <td>55574950-57515657535772</td>\n",
       "      <td>109117_mu17@mail.ru</td>\n",
       "      <td>Гость</td>\n",
       "      <td>IDL00038573351</td>\n",
       "      <td>0</td>\n",
       "    </tr>\n",
       "    <tr>\n",
       "      <td>2</td>\n",
       "      <td>01.03.2017 11:38</td>\n",
       "      <td>14.03.2017 0:00</td>\n",
       "      <td>3999411_TR</td>\n",
       "      <td>Доставлен</td>\n",
       "      <td>528</td>\n",
       "      <td>528</td>\n",
       "      <td>Магазины</td>\n",
       "      <td>Безналичная</td>\n",
       "      <td>Ижевск</td>\n",
       "      <td>ИГРУШКИ</td>\n",
       "      <td>...</td>\n",
       "      <td>0</td>\n",
       "      <td>0</td>\n",
       "      <td>3</td>\n",
       "      <td>1</td>\n",
       "      <td>01.03.2017 0:00</td>\n",
       "      <td>55574854-56495552515179</td>\n",
       "      <td>guest_103117_gu28@workmail.ru</td>\n",
       "      <td>Гость</td>\n",
       "      <td>IDL00035791553</td>\n",
       "      <td>0</td>\n",
       "    </tr>\n",
       "    <tr>\n",
       "      <td>3</td>\n",
       "      <td>01.03.2017 9:02</td>\n",
       "      <td>03.03.2017 0:00</td>\n",
       "      <td>3999713_TR</td>\n",
       "      <td>Доставлен</td>\n",
       "      <td>1196</td>\n",
       "      <td>1 196</td>\n",
       "      <td>Магазины</td>\n",
       "      <td>Безналичная</td>\n",
       "      <td>Подольск (Московская область район)</td>\n",
       "      <td>ТЕКСТИЛЬ, ТРИКОТАЖ</td>\n",
       "      <td>...</td>\n",
       "      <td>49</td>\n",
       "      <td>49</td>\n",
       "      <td>3</td>\n",
       "      <td>1</td>\n",
       "      <td>01.03.2017 0:00</td>\n",
       "      <td>55574948-52515357485779</td>\n",
       "      <td>111117_ou25@yandex.ru</td>\n",
       "      <td>Ольга</td>\n",
       "      <td>IDL00025316250</td>\n",
       "      <td>0</td>\n",
       "    </tr>\n",
       "    <tr>\n",
       "      <td>4</td>\n",
       "      <td>01.03.2017 9:02</td>\n",
       "      <td>03.03.2017 0:00</td>\n",
       "      <td>3999713_TR</td>\n",
       "      <td>Доставлен</td>\n",
       "      <td>1196</td>\n",
       "      <td>1 196</td>\n",
       "      <td>Магазины</td>\n",
       "      <td>Безналичная</td>\n",
       "      <td>Подольск (Московская область район)</td>\n",
       "      <td>ТЕКСТИЛЬ, ТРИКОТАЖ</td>\n",
       "      <td>...</td>\n",
       "      <td>49</td>\n",
       "      <td>49</td>\n",
       "      <td>2</td>\n",
       "      <td>1</td>\n",
       "      <td>01.03.2017 0:00</td>\n",
       "      <td>55574948-52515357485779</td>\n",
       "      <td>111117_ou25@yandex.ru</td>\n",
       "      <td>Ольга</td>\n",
       "      <td>IDL00025320553</td>\n",
       "      <td>0</td>\n",
       "    </tr>\n",
       "  </tbody>\n",
       "</table>\n",
       "<p>5 rows × 35 columns</p>\n",
       "</div>"
      ],
      "text/plain": [
       "               Дата     ДатаДоставки НомерЗаказаНаСайте НовыйСтатус  \\\n",
       "0  01.03.2017 12:22  15.03.2017 0:00         3999117_TR   Доставлен   \n",
       "1  01.03.2017 12:31  17.03.2017 0:00         3999122_TR   Доставлен   \n",
       "2  01.03.2017 11:38  14.03.2017 0:00         3999411_TR   Доставлен   \n",
       "3   01.03.2017 9:02  03.03.2017 0:00         3999713_TR   Доставлен   \n",
       "4   01.03.2017 9:02  03.03.2017 0:00         3999713_TR   Доставлен   \n",
       "\n",
       "   СуммаЗаказаНаСайте СуммаДокумента МетодДоставки  ФормаОплаты  \\\n",
       "0                4819          3 759      Магазины  Безналичная   \n",
       "1                3325          3 325      Магазины  Безналичная   \n",
       "2                 528            528      Магазины  Безналичная   \n",
       "3                1196          1 196      Магазины  Безналичная   \n",
       "4                1196          1 196      Магазины  Безналичная   \n",
       "\n",
       "                                Регион             Группа2  ... СуммаУслуг  \\\n",
       "0                            Челябинск  ТЕКСТИЛЬ, ТРИКОТАЖ  ...          0   \n",
       "1                        Нижневартовск             ИГРУШКИ  ...          0   \n",
       "2                               Ижевск             ИГРУШКИ  ...          0   \n",
       "3  Подольск (Московская область район)  ТЕКСТИЛЬ, ТРИКОТАЖ  ...         49   \n",
       "4  Подольск (Московская область район)  ТЕКСТИЛЬ, ТРИКОТАЖ  ...         49   \n",
       "\n",
       "  СуммаДоставки НомерСтроки КоличествоПроданоКлиенту ДатаЗаказаНаСайте  \\\n",
       "0             0           3                        1   01.03.2017 0:00   \n",
       "1             0           1                        1   01.03.2017 0:00   \n",
       "2             0           3                        1   01.03.2017 0:00   \n",
       "3            49           3                        1   01.03.2017 0:00   \n",
       "4            49           2                        1   01.03.2017 0:00   \n",
       "\n",
       "               Телефон_new           ЭлектроннаяПочта_new  Клиент  \\\n",
       "0  55575453-56535648535679            107117_ku16@list.ru   Гость   \n",
       "1  55574950-57515657535772            109117_mu17@mail.ru   Гость   \n",
       "2  55574854-56495552515179  guest_103117_gu28@workmail.ru   Гость   \n",
       "3  55574948-52515357485779          111117_ou25@yandex.ru   Ольга   \n",
       "4  55574948-52515357485779          111117_ou25@yandex.ru   Ольга   \n",
       "\n",
       "           ID_SKU ГородМагазина  \n",
       "0  IDL00028974351             0  \n",
       "1  IDL00038573351             0  \n",
       "2  IDL00035791553             0  \n",
       "3  IDL00025316250             0  \n",
       "4  IDL00025320553             0  \n",
       "\n",
       "[5 rows x 35 columns]"
      ]
     },
     "execution_count": 141,
     "metadata": {},
     "output_type": "execute_result"
    }
   ],
   "source": [
    "df.drop('Unnamed: 0', axis=1, inplace=True)\n",
    "df.head()"
   ]
  },
  {
   "cell_type": "code",
   "execution_count": 11,
   "metadata": {},
   "outputs": [
    {
     "name": "stdout",
     "output_type": "stream",
     "text": [
      "<class 'pandas.core.frame.DataFrame'>\n",
      "RangeIndex: 219046 entries, 0 to 219045\n",
      "Data columns (total 35 columns):\n",
      "Дата                        219046 non-null object\n",
      "ДатаДоставки                219046 non-null object\n",
      "НомерЗаказаНаСайте          219046 non-null object\n",
      "НовыйСтатус                 219046 non-null object\n",
      "СуммаЗаказаНаСайте          219046 non-null int64\n",
      "СуммаДокумента              219046 non-null object\n",
      "МетодДоставки               219046 non-null object\n",
      "ФормаОплаты                 219046 non-null object\n",
      "Регион                      216439 non-null object\n",
      "Группа2                     219046 non-null object\n",
      "Группа3                     219046 non-null object\n",
      "Группа4                     210219 non-null object\n",
      "Тип                         219046 non-null object\n",
      "Номенклатура                219046 non-null object\n",
      "ТипТовара                   219046 non-null object\n",
      "Отменено                    219046 non-null object\n",
      "Количество                  219046 non-null int64\n",
      "Цена                        219046 non-null float64\n",
      "Revenue                     219046 non-null float64\n",
      "ЦенаЗакупки                 218366 non-null object\n",
      "МесяцДатыЗаказа             219046 non-null int64\n",
      "ГодДатыЗаказа               219046 non-null object\n",
      "Статус                      219046 non-null object\n",
      "Гео                         219046 non-null object\n",
      "Marge                       218366 non-null float64\n",
      "СуммаУслуг                  219046 non-null int64\n",
      "СуммаДоставки               219046 non-null int64\n",
      "НомерСтроки                 219046 non-null int64\n",
      "КоличествоПроданоКлиенту    219046 non-null int64\n",
      "ДатаЗаказаНаСайте           219046 non-null object\n",
      "Телефон_new                 219046 non-null object\n",
      "ЭлектроннаяПочта_new        214463 non-null object\n",
      "Клиент                      218967 non-null object\n",
      "ID_SKU                      219046 non-null object\n",
      "ГородМагазина               219046 non-null object\n",
      "dtypes: float64(3), int64(7), object(25)\n",
      "memory usage: 58.5+ MB\n"
     ]
    }
   ],
   "source": [
    "df.info()"
   ]
  },
  {
   "cell_type": "markdown",
   "metadata": {},
   "source": [
    "Firstly, we will calculate avarage value of a bill and avarage value of the marge of a bill. In order to do that we need to group rows of the dataframe by the number of the bill. "
   ]
  },
  {
   "cell_type": "code",
   "execution_count": 245,
   "metadata": {},
   "outputs": [
    {
     "name": "stdout",
     "output_type": "stream",
     "text": [
      "Number of unique bills: 75632\n"
     ]
    }
   ],
   "source": [
    "df_by_bills = pd.read_csv('clean_data_drouped_by_bills.csv')\n",
    "\n",
    "print('Number of unique bills:', len(df_by_bills))"
   ]
  },
  {
   "cell_type": "code",
   "execution_count": 246,
   "metadata": {},
   "outputs": [
    {
     "data": {
      "text/plain": [
       "236885210.42000002"
      ]
     },
     "execution_count": 246,
     "metadata": {},
     "output_type": "execute_result"
    }
   ],
   "source": [
    "df_by_bills['Revenue'].sum()"
   ]
  },
  {
   "cell_type": "code",
   "execution_count": 247,
   "metadata": {},
   "outputs": [
    {
     "data": {
      "text/html": [
       "<div>\n",
       "<style scoped>\n",
       "    .dataframe tbody tr th:only-of-type {\n",
       "        vertical-align: middle;\n",
       "    }\n",
       "\n",
       "    .dataframe tbody tr th {\n",
       "        vertical-align: top;\n",
       "    }\n",
       "\n",
       "    .dataframe thead th {\n",
       "        text-align: right;\n",
       "    }\n",
       "</style>\n",
       "<table border=\"1\" class=\"dataframe\">\n",
       "  <thead>\n",
       "    <tr style=\"text-align: right;\">\n",
       "      <th></th>\n",
       "      <th>Unnamed: 0</th>\n",
       "      <th>НомерЗаказаНаСайте</th>\n",
       "      <th>Revenue</th>\n",
       "      <th>Marge</th>\n",
       "      <th>Количество</th>\n",
       "      <th>Дата</th>\n",
       "      <th>Date</th>\n",
       "      <th>Hours</th>\n",
       "      <th>Weekday</th>\n",
       "    </tr>\n",
       "  </thead>\n",
       "  <tbody>\n",
       "    <tr>\n",
       "      <td>0</td>\n",
       "      <td>0</td>\n",
       "      <td>1303000313_TR</td>\n",
       "      <td>247.0</td>\n",
       "      <td>63.08</td>\n",
       "      <td>1</td>\n",
       "      <td>04.03.2017 9:53</td>\n",
       "      <td>2017-03-04</td>\n",
       "      <td>9</td>\n",
       "      <td>5</td>\n",
       "    </tr>\n",
       "    <tr>\n",
       "      <td>1</td>\n",
       "      <td>1</td>\n",
       "      <td>1303000319_TR</td>\n",
       "      <td>13300.0</td>\n",
       "      <td>3246.00</td>\n",
       "      <td>1</td>\n",
       "      <td>16.03.2017 12:58</td>\n",
       "      <td>2017-03-16</td>\n",
       "      <td>12</td>\n",
       "      <td>3</td>\n",
       "    </tr>\n",
       "    <tr>\n",
       "      <td>2</td>\n",
       "      <td>2</td>\n",
       "      <td>1303000321_TR</td>\n",
       "      <td>16150.0</td>\n",
       "      <td>4436.07</td>\n",
       "      <td>1</td>\n",
       "      <td>18.03.2017 18:22</td>\n",
       "      <td>2017-03-18</td>\n",
       "      <td>18</td>\n",
       "      <td>5</td>\n",
       "    </tr>\n",
       "    <tr>\n",
       "      <td>3</td>\n",
       "      <td>3</td>\n",
       "      <td>1303000323_TR</td>\n",
       "      <td>4180.0</td>\n",
       "      <td>1345.00</td>\n",
       "      <td>1</td>\n",
       "      <td>23.03.2017 20:01</td>\n",
       "      <td>2017-03-23</td>\n",
       "      <td>20</td>\n",
       "      <td>3</td>\n",
       "    </tr>\n",
       "    <tr>\n",
       "      <td>4</td>\n",
       "      <td>4</td>\n",
       "      <td>1303000324_TR</td>\n",
       "      <td>18500.0</td>\n",
       "      <td>3400.00</td>\n",
       "      <td>1</td>\n",
       "      <td>24.03.2017 10:06</td>\n",
       "      <td>2017-03-24</td>\n",
       "      <td>10</td>\n",
       "      <td>4</td>\n",
       "    </tr>\n",
       "  </tbody>\n",
       "</table>\n",
       "</div>"
      ],
      "text/plain": [
       "   Unnamed: 0 НомерЗаказаНаСайте  Revenue    Marge  Количество  \\\n",
       "0           0      1303000313_TR    247.0    63.08           1   \n",
       "1           1      1303000319_TR  13300.0  3246.00           1   \n",
       "2           2      1303000321_TR  16150.0  4436.07           1   \n",
       "3           3      1303000323_TR   4180.0  1345.00           1   \n",
       "4           4      1303000324_TR  18500.0  3400.00           1   \n",
       "\n",
       "               Дата        Date  Hours  Weekday  \n",
       "0   04.03.2017 9:53  2017-03-04      9        5  \n",
       "1  16.03.2017 12:58  2017-03-16     12        3  \n",
       "2  18.03.2017 18:22  2017-03-18     18        5  \n",
       "3  23.03.2017 20:01  2017-03-23     20        3  \n",
       "4  24.03.2017 10:06  2017-03-24     10        4  "
      ]
     },
     "execution_count": 247,
     "metadata": {},
     "output_type": "execute_result"
    }
   ],
   "source": [
    "df_by_bills.head()"
   ]
  },
  {
   "cell_type": "code",
   "execution_count": 252,
   "metadata": {},
   "outputs": [],
   "source": [
    "df_by_hours = df_by_bills[['Revenue','Marge','Количество','Hours']].groupby('Hours').aggregate(sum)\n",
    "df_by_weekday = df_by_bills[['Revenue','Marge','Количество','Weekday']].groupby('Weekday').aggregate(sum)"
   ]
  },
  {
   "cell_type": "code",
   "execution_count": 255,
   "metadata": {},
   "outputs": [],
   "source": [
    "df_by_hours.to_csv('clean_data_grouped_by_hours.csv')\n",
    "df_by_weekday.to_csv('clean_data_grouped_by_weekday.csv')"
   ]
  },
  {
   "cell_type": "code",
   "execution_count": 156,
   "metadata": {},
   "outputs": [
    {
     "name": "stdout",
     "output_type": "stream",
     "text": [
      "Avarage bill: 3132.0765075629342\n",
      "Avarage marge: 712.1206595092082\n"
     ]
    }
   ],
   "source": [
    "\n",
    "av_bill = df_by_bills['Revenue'].mean()\n",
    "av_marge = df_by_bills['Marge'].mean()\n",
    "\n",
    "print('Avarage bill:', av_bill)\n",
    "print('Avarage marge:', av_marge)\n",
    "\n"
   ]
  },
  {
   "cell_type": "markdown",
   "metadata": {},
   "source": [
    "This values do not contradicts logic. However, mean value is representative if the distribution of the variable is close to normal. Outsiders can influense the mean value. Lets then look at the distribution of bills and marge in bills"
   ]
  },
  {
   "cell_type": "code",
   "execution_count": 157,
   "metadata": {},
   "outputs": [
    {
     "name": "stdout",
     "output_type": "stream",
     "text": [
      "Avarage bill: 2050.0\n",
      "Avarage marge: 310.45\n"
     ]
    }
   ],
   "source": [
    "med_bill = df_by_bills['Revenue'].median()\n",
    "med_marge = df_by_bills['Marge'].median()\n",
    "\n",
    "print('Avarage bill:', med_bill)\n",
    "print('Avarage marge:', med_marge)"
   ]
  },
  {
   "cell_type": "code",
   "execution_count": 158,
   "metadata": {},
   "outputs": [
    {
     "data": {
      "image/png": "[encoded data removed]",
      "text/plain": [
       "<Figure size 1440x720 with 1 Axes>"
      ]
     },
     "metadata": {
      "needs_background": "light"
     },
     "output_type": "display_data"
    }
   ],
   "source": [
    "df_by_bills['Revenue'].hist(figsize=(20,10), bins = 100 );"
   ]
  },
  {
   "cell_type": "code",
   "execution_count": 159,
   "metadata": {},
   "outputs": [
    {
     "data": {
      "image/png": "[encoded data removed]",
      "text/plain": [
       "<Figure size 1440x720 with 1 Axes>"
      ]
     },
     "metadata": {
      "needs_background": "light"
     },
     "output_type": "display_data"
    }
   ],
   "source": [
    "df_by_bills['Marge'].hist(figsize=(20,10), bins = 100 );"
   ]
  },
  {
   "cell_type": "code",
   "execution_count": 160,
   "metadata": {},
   "outputs": [
    {
     "data": {
      "text/html": [
       "<div>\n",
       "<style scoped>\n",
       "    .dataframe tbody tr th:only-of-type {\n",
       "        vertical-align: middle;\n",
       "    }\n",
       "\n",
       "    .dataframe tbody tr th {\n",
       "        vertical-align: top;\n",
       "    }\n",
       "\n",
       "    .dataframe thead th {\n",
       "        text-align: right;\n",
       "    }\n",
       "</style>\n",
       "<table border=\"1\" class=\"dataframe\">\n",
       "  <thead>\n",
       "    <tr style=\"text-align: right;\">\n",
       "      <th></th>\n",
       "      <th>Revenue</th>\n",
       "      <th>Marge</th>\n",
       "    </tr>\n",
       "  </thead>\n",
       "  <tbody>\n",
       "    <tr>\n",
       "      <td>0</td>\n",
       "      <td>247.0</td>\n",
       "      <td>63.08</td>\n",
       "    </tr>\n",
       "    <tr>\n",
       "      <td>1</td>\n",
       "      <td>13300.0</td>\n",
       "      <td>3246.00</td>\n",
       "    </tr>\n",
       "    <tr>\n",
       "      <td>2</td>\n",
       "      <td>16150.0</td>\n",
       "      <td>4436.07</td>\n",
       "    </tr>\n",
       "    <tr>\n",
       "      <td>3</td>\n",
       "      <td>4180.0</td>\n",
       "      <td>1345.00</td>\n",
       "    </tr>\n",
       "    <tr>\n",
       "      <td>4</td>\n",
       "      <td>18500.0</td>\n",
       "      <td>3400.00</td>\n",
       "    </tr>\n",
       "  </tbody>\n",
       "</table>\n",
       "</div>"
      ],
      "text/plain": [
       "   Revenue    Marge\n",
       "0    247.0    63.08\n",
       "1  13300.0  3246.00\n",
       "2  16150.0  4436.07\n",
       "3   4180.0  1345.00\n",
       "4  18500.0  3400.00"
      ]
     },
     "execution_count": 160,
     "metadata": {},
     "output_type": "execute_result"
    }
   ],
   "source": [
    "df_by_bills[['Revenue','Marge']].head()"
   ]
  },
  {
   "cell_type": "code",
   "execution_count": 172,
   "metadata": {},
   "outputs": [],
   "source": [
    "df_by_bills['Revenue_ln'] = df_by_bills['Revenue']\n",
    "df_by_bills['Marge_ln'] = df_by_bills['Marge']"
   ]
  },
  {
   "cell_type": "code",
   "execution_count": 175,
   "metadata": {},
   "outputs": [
    {
     "data": {
      "text/html": [
       "<div>\n",
       "<style scoped>\n",
       "    .dataframe tbody tr th:only-of-type {\n",
       "        vertical-align: middle;\n",
       "    }\n",
       "\n",
       "    .dataframe tbody tr th {\n",
       "        vertical-align: top;\n",
       "    }\n",
       "\n",
       "    .dataframe thead th {\n",
       "        text-align: right;\n",
       "    }\n",
       "</style>\n",
       "<table border=\"1\" class=\"dataframe\">\n",
       "  <thead>\n",
       "    <tr style=\"text-align: right;\">\n",
       "      <th></th>\n",
       "      <th>Unnamed: 0</th>\n",
       "      <th>НомерЗаказаНаСайте</th>\n",
       "      <th>Revenue</th>\n",
       "      <th>Marge</th>\n",
       "      <th>Количество</th>\n",
       "      <th>Дата</th>\n",
       "      <th>Revenue_ln</th>\n",
       "      <th>Marge_ln</th>\n",
       "    </tr>\n",
       "  </thead>\n",
       "  <tbody>\n",
       "    <tr>\n",
       "      <td>0</td>\n",
       "      <td>0</td>\n",
       "      <td>1303000313_TR</td>\n",
       "      <td>247.0</td>\n",
       "      <td>63.08</td>\n",
       "      <td>1</td>\n",
       "      <td>04.03.2017 9:53</td>\n",
       "      <td>1.873866</td>\n",
       "      <td>1.640962</td>\n",
       "    </tr>\n",
       "    <tr>\n",
       "      <td>1</td>\n",
       "      <td>1</td>\n",
       "      <td>1303000319_TR</td>\n",
       "      <td>13300.0</td>\n",
       "      <td>3246.00</td>\n",
       "      <td>1</td>\n",
       "      <td>16.03.2017 12:58</td>\n",
       "      <td>2.350956</td>\n",
       "      <td>2.206678</td>\n",
       "    </tr>\n",
       "    <tr>\n",
       "      <td>2</td>\n",
       "      <td>2</td>\n",
       "      <td>1303000321_TR</td>\n",
       "      <td>16150.0</td>\n",
       "      <td>4436.07</td>\n",
       "      <td>1</td>\n",
       "      <td>18.03.2017 18:22</td>\n",
       "      <td>2.369284</td>\n",
       "      <td>2.240470</td>\n",
       "    </tr>\n",
       "    <tr>\n",
       "      <td>3</td>\n",
       "      <td>3</td>\n",
       "      <td>1303000323_TR</td>\n",
       "      <td>4180.0</td>\n",
       "      <td>1345.00</td>\n",
       "      <td>1</td>\n",
       "      <td>23.03.2017 20:01</td>\n",
       "      <td>2.234125</td>\n",
       "      <td>2.104731</td>\n",
       "    </tr>\n",
       "    <tr>\n",
       "      <td>4</td>\n",
       "      <td>4</td>\n",
       "      <td>1303000324_TR</td>\n",
       "      <td>18500.0</td>\n",
       "      <td>3400.00</td>\n",
       "      <td>1</td>\n",
       "      <td>24.03.2017 10:06</td>\n",
       "      <td>2.381912</td>\n",
       "      <td>2.211766</td>\n",
       "    </tr>\n",
       "    <tr>\n",
       "      <td>...</td>\n",
       "      <td>...</td>\n",
       "      <td>...</td>\n",
       "      <td>...</td>\n",
       "      <td>...</td>\n",
       "      <td>...</td>\n",
       "      <td>...</td>\n",
       "      <td>...</td>\n",
       "      <td>...</td>\n",
       "    </tr>\n",
       "    <tr>\n",
       "      <td>75627</td>\n",
       "      <td>75627</td>\n",
       "      <td>4513463_TR</td>\n",
       "      <td>1932.0</td>\n",
       "      <td>429.28</td>\n",
       "      <td>4</td>\n",
       "      <td>30.04.2017 23:48</td>\n",
       "      <td>2.147898</td>\n",
       "      <td>1.955073</td>\n",
       "    </tr>\n",
       "    <tr>\n",
       "      <td>75628</td>\n",
       "      <td>75628</td>\n",
       "      <td>4513474_TR</td>\n",
       "      <td>2002.0</td>\n",
       "      <td>558.57</td>\n",
       "      <td>10</td>\n",
       "      <td>30.04.2017 23:53</td>\n",
       "      <td>2.152041</td>\n",
       "      <td>1.991589</td>\n",
       "    </tr>\n",
       "    <tr>\n",
       "      <td>75629</td>\n",
       "      <td>75629</td>\n",
       "      <td>4513480_TR</td>\n",
       "      <td>4864.0</td>\n",
       "      <td>910.86</td>\n",
       "      <td>2</td>\n",
       "      <td>30.04.2017 23:58</td>\n",
       "      <td>2.250220</td>\n",
       "      <td>2.056107</td>\n",
       "    </tr>\n",
       "    <tr>\n",
       "      <td>75630</td>\n",
       "      <td>75630</td>\n",
       "      <td>4513486_TR</td>\n",
       "      <td>1436.0</td>\n",
       "      <td>-118.60</td>\n",
       "      <td>3</td>\n",
       "      <td>30.04.2017 23:58</td>\n",
       "      <td>2.112672</td>\n",
       "      <td>NaN</td>\n",
       "    </tr>\n",
       "    <tr>\n",
       "      <td>75631</td>\n",
       "      <td>75631</td>\n",
       "      <td>4513487_TR</td>\n",
       "      <td>2319.0</td>\n",
       "      <td>107.62</td>\n",
       "      <td>44</td>\n",
       "      <td>30.04.2017 23:58</td>\n",
       "      <td>2.168976</td>\n",
       "      <td>1.738333</td>\n",
       "    </tr>\n",
       "  </tbody>\n",
       "</table>\n",
       "<p>75632 rows × 8 columns</p>\n",
       "</div>"
      ],
      "text/plain": [
       "       Unnamed: 0 НомерЗаказаНаСайте  Revenue    Marge  Количество  \\\n",
       "0               0      1303000313_TR    247.0    63.08           1   \n",
       "1               1      1303000319_TR  13300.0  3246.00           1   \n",
       "2               2      1303000321_TR  16150.0  4436.07           1   \n",
       "3               3      1303000323_TR   4180.0  1345.00           1   \n",
       "4               4      1303000324_TR  18500.0  3400.00           1   \n",
       "...           ...                ...      ...      ...         ...   \n",
       "75627       75627         4513463_TR   1932.0   429.28           4   \n",
       "75628       75628         4513474_TR   2002.0   558.57          10   \n",
       "75629       75629         4513480_TR   4864.0   910.86           2   \n",
       "75630       75630         4513486_TR   1436.0  -118.60           3   \n",
       "75631       75631         4513487_TR   2319.0   107.62          44   \n",
       "\n",
       "                   Дата  Revenue_ln  Marge_ln  \n",
       "0       04.03.2017 9:53    1.873866  1.640962  \n",
       "1      16.03.2017 12:58    2.350956  2.206678  \n",
       "2      18.03.2017 18:22    2.369284  2.240470  \n",
       "3      23.03.2017 20:01    2.234125  2.104731  \n",
       "4      24.03.2017 10:06    2.381912  2.211766  \n",
       "...                 ...         ...       ...  \n",
       "75627  30.04.2017 23:48    2.147898  1.955073  \n",
       "75628  30.04.2017 23:53    2.152041  1.991589  \n",
       "75629  30.04.2017 23:58    2.250220  2.056107  \n",
       "75630  30.04.2017 23:58    2.112672       NaN  \n",
       "75631  30.04.2017 23:58    2.168976  1.738333  \n",
       "\n",
       "[75632 rows x 8 columns]"
      ]
     },
     "execution_count": 175,
     "metadata": {},
     "output_type": "execute_result"
    }
   ],
   "source": [
    "df_by_bills[['Revenue_ln','Marge_ln']] = df_by_bills[['Revenue_ln','Marge_ln']].apply(lambda w: np.log(w + 1))\n",
    "df_by_bills.replace([np.inf, -np.inf], np.nan).dropna(subset=['Revenue_ln','Marge_ln'], how=\"all\")"
   ]
  },
  {
   "cell_type": "code",
   "execution_count": 176,
   "metadata": {},
   "outputs": [
    {
     "data": {
      "image/png": "[encoded data removed]",
      "text/plain": [
       "<Figure size 1440x432 with 2 Axes>"
      ]
     },
     "metadata": {
      "needs_background": "light"
     },
     "output_type": "display_data"
    }
   ],
   "source": [
    "df_by_bills[['Revenue_ln','Marge_ln']].hist(figsize=(20,6), bins = 100 );"
   ]
  },
  {
   "cell_type": "markdown",
   "metadata": {},
   "source": [
    "Now lets look how different catigoris of goods are distributed in our data set. What category of products are most often bought? Which category of products brings the most profit, that is, which category is the most marginal? For clarity, let's look at pie chars"
   ]
  },
  {
   "cell_type": "code",
   "execution_count": 79,
   "metadata": {},
   "outputs": [],
   "source": [
    "\n",
    "def pieChar(data_names, data_values, title):\n",
    "    dpi = 80\n",
    "    fig = plt.figure(dpi = dpi, figsize = (512 / dpi, 384 / dpi) )\n",
    "    mpl.rcParams.update({'font.size': 9})\n",
    "\n",
    "    plt.title(title)\n",
    "\n",
    "    xs = range(len(data_names))\n",
    "\n",
    "    plt.pie(\n",
    "        data_values, autopct='%.1f', radius = 1.1)\n",
    "    plt.legend(\n",
    "        bbox_to_anchor = (-0.16, 0.45, 0.25, 0.25),\n",
    "        loc = 'lower left', labels = data_names )\n",
    "    fig.savefig('pie.png')"
   ]
  },
  {
   "cell_type": "code",
   "execution_count": 80,
   "metadata": {},
   "outputs": [],
   "source": [
    "type_set = df[\"Тип\"].unique()"
   ]
  },
  {
   "cell_type": "code",
   "execution_count": 177,
   "metadata": {},
   "outputs": [],
   "source": [
    "quantity_for_types = []\n",
    "marge_for_types = []\n",
    "revenue_for_types = []\n",
    "for types in type_set:\n",
    "    quantity_for_types.append(len(df[df[\"Тип\"] == types]))\n",
    "    marge_for_types.append(df[df[\"Тип\"] == types]['Marge'].sum())\n",
    "    revenue_for_types.append(df[df[\"Тип\"] == types]['Revenue'].sum())"
   ]
  },
  {
   "cell_type": "code",
   "execution_count": 178,
   "metadata": {},
   "outputs": [
    {
     "data": {
      "image/png": "[encoded data removed]",
      "text/plain": [
       "<Figure size 512x384 with 1 Axes>"
      ]
     },
     "metadata": {},
     "output_type": "display_data"
    },
    {
     "data": {
      "image/png": "[encoded data removed]",
      "text/plain": [
       "<Figure size 512x384 with 1 Axes>"
      ]
     },
     "metadata": {},
     "output_type": "display_data"
    },
    {
     "data": {
      "image/png": "[encoded data removed]",
      "text/plain": [
       "<Figure size 512x384 with 1 Axes>"
      ]
     },
     "metadata": {},
     "output_type": "display_data"
    }
   ],
   "source": [
    "pieChar(type_set, quantity_for_types, 'Distribution by quantity')\n",
    "pieChar(type_set, marge_for_types, 'Distribution by marge')\n",
    "pieChar(type_set, revenue_for_types, 'Distribution by revenue')"
   ]
  },
  {
   "cell_type": "code",
   "execution_count": 225,
   "metadata": {},
   "outputs": [
    {
     "ename": "KeyError",
     "evalue": "\"['Revenue_ln' 'Marge_ln'] not found in axis\"",
     "output_type": "error",
     "traceback": [
      "\u001b[0;31m---------------------------------------------------------------------------\u001b[0m",
      "\u001b[0;31mKeyError\u001b[0m                                  Traceback (most recent call last)",
      "\u001b[0;32m<ipython-input-225-f87bbf106ded>\u001b[0m in \u001b[0;36m<module>\u001b[0;34m\u001b[0m\n\u001b[0;32m----> 1\u001b[0;31m \u001b[0mdf_by_bills\u001b[0m\u001b[0;34m.\u001b[0m\u001b[0mdrop\u001b[0m\u001b[0;34m(\u001b[0m\u001b[0;34m[\u001b[0m\u001b[0;34m'Unnamed: 0'\u001b[0m\u001b[0;34m,\u001b[0m \u001b[0;34m'Revenue_ln'\u001b[0m\u001b[0;34m,\u001b[0m \u001b[0;34m'Marge_ln'\u001b[0m\u001b[0;34m]\u001b[0m\u001b[0;34m,\u001b[0m \u001b[0maxis\u001b[0m\u001b[0;34m=\u001b[0m\u001b[0;34m'columns'\u001b[0m\u001b[0;34m,\u001b[0m \u001b[0minplace\u001b[0m\u001b[0;34m=\u001b[0m\u001b[0;32mTrue\u001b[0m\u001b[0;34m)\u001b[0m\u001b[0;34m\u001b[0m\u001b[0;34m\u001b[0m\u001b[0m\n\u001b[0m",
      "\u001b[0;32m/opt/anaconda3/lib/python3.7/site-packages/pandas/core/frame.py\u001b[0m in \u001b[0;36mdrop\u001b[0;34m(self, labels, axis, index, columns, level, inplace, errors)\u001b[0m\n\u001b[1;32m   4100\u001b[0m             \u001b[0mlevel\u001b[0m\u001b[0;34m=\u001b[0m\u001b[0mlevel\u001b[0m\u001b[0;34m,\u001b[0m\u001b[0;34m\u001b[0m\u001b[0;34m\u001b[0m\u001b[0m\n\u001b[1;32m   4101\u001b[0m             \u001b[0minplace\u001b[0m\u001b[0;34m=\u001b[0m\u001b[0minplace\u001b[0m\u001b[0;34m,\u001b[0m\u001b[0;34m\u001b[0m\u001b[0;34m\u001b[0m\u001b[0m\n\u001b[0;32m-> 4102\u001b[0;31m             \u001b[0merrors\u001b[0m\u001b[0;34m=\u001b[0m\u001b[0merrors\u001b[0m\u001b[0;34m,\u001b[0m\u001b[0;34m\u001b[0m\u001b[0;34m\u001b[0m\u001b[0m\n\u001b[0m\u001b[1;32m   4103\u001b[0m         )\n\u001b[1;32m   4104\u001b[0m \u001b[0;34m\u001b[0m\u001b[0m\n",
      "\u001b[0;32m/opt/anaconda3/lib/python3.7/site-packages/pandas/core/generic.py\u001b[0m in \u001b[0;36mdrop\u001b[0;34m(self, labels, axis, index, columns, level, inplace, errors)\u001b[0m\n\u001b[1;32m   3912\u001b[0m         \u001b[0;32mfor\u001b[0m \u001b[0maxis\u001b[0m\u001b[0;34m,\u001b[0m \u001b[0mlabels\u001b[0m \u001b[0;32min\u001b[0m \u001b[0maxes\u001b[0m\u001b[0;34m.\u001b[0m\u001b[0mitems\u001b[0m\u001b[0;34m(\u001b[0m\u001b[0;34m)\u001b[0m\u001b[0;34m:\u001b[0m\u001b[0;34m\u001b[0m\u001b[0;34m\u001b[0m\u001b[0m\n\u001b[1;32m   3913\u001b[0m             \u001b[0;32mif\u001b[0m \u001b[0mlabels\u001b[0m \u001b[0;32mis\u001b[0m \u001b[0;32mnot\u001b[0m \u001b[0;32mNone\u001b[0m\u001b[0;34m:\u001b[0m\u001b[0;34m\u001b[0m\u001b[0;34m\u001b[0m\u001b[0m\n\u001b[0;32m-> 3914\u001b[0;31m                 \u001b[0mobj\u001b[0m \u001b[0;34m=\u001b[0m \u001b[0mobj\u001b[0m\u001b[0;34m.\u001b[0m\u001b[0m_drop_axis\u001b[0m\u001b[0;34m(\u001b[0m\u001b[0mlabels\u001b[0m\u001b[0;34m,\u001b[0m \u001b[0maxis\u001b[0m\u001b[0;34m,\u001b[0m \u001b[0mlevel\u001b[0m\u001b[0;34m=\u001b[0m\u001b[0mlevel\u001b[0m\u001b[0;34m,\u001b[0m \u001b[0merrors\u001b[0m\u001b[0;34m=\u001b[0m\u001b[0merrors\u001b[0m\u001b[0;34m)\u001b[0m\u001b[0;34m\u001b[0m\u001b[0;34m\u001b[0m\u001b[0m\n\u001b[0m\u001b[1;32m   3915\u001b[0m \u001b[0;34m\u001b[0m\u001b[0m\n\u001b[1;32m   3916\u001b[0m         \u001b[0;32mif\u001b[0m \u001b[0minplace\u001b[0m\u001b[0;34m:\u001b[0m\u001b[0;34m\u001b[0m\u001b[0;34m\u001b[0m\u001b[0m\n",
      "\u001b[0;32m/opt/anaconda3/lib/python3.7/site-packages/pandas/core/generic.py\u001b[0m in \u001b[0;36m_drop_axis\u001b[0;34m(self, labels, axis, level, errors)\u001b[0m\n\u001b[1;32m   3944\u001b[0m                 \u001b[0mnew_axis\u001b[0m \u001b[0;34m=\u001b[0m \u001b[0maxis\u001b[0m\u001b[0;34m.\u001b[0m\u001b[0mdrop\u001b[0m\u001b[0;34m(\u001b[0m\u001b[0mlabels\u001b[0m\u001b[0;34m,\u001b[0m \u001b[0mlevel\u001b[0m\u001b[0;34m=\u001b[0m\u001b[0mlevel\u001b[0m\u001b[0;34m,\u001b[0m \u001b[0merrors\u001b[0m\u001b[0;34m=\u001b[0m\u001b[0merrors\u001b[0m\u001b[0;34m)\u001b[0m\u001b[0;34m\u001b[0m\u001b[0;34m\u001b[0m\u001b[0m\n\u001b[1;32m   3945\u001b[0m             \u001b[0;32melse\u001b[0m\u001b[0;34m:\u001b[0m\u001b[0;34m\u001b[0m\u001b[0;34m\u001b[0m\u001b[0m\n\u001b[0;32m-> 3946\u001b[0;31m                 \u001b[0mnew_axis\u001b[0m \u001b[0;34m=\u001b[0m \u001b[0maxis\u001b[0m\u001b[0;34m.\u001b[0m\u001b[0mdrop\u001b[0m\u001b[0;34m(\u001b[0m\u001b[0mlabels\u001b[0m\u001b[0;34m,\u001b[0m \u001b[0merrors\u001b[0m\u001b[0;34m=\u001b[0m\u001b[0merrors\u001b[0m\u001b[0;34m)\u001b[0m\u001b[0;34m\u001b[0m\u001b[0;34m\u001b[0m\u001b[0m\n\u001b[0m\u001b[1;32m   3947\u001b[0m             \u001b[0mresult\u001b[0m \u001b[0;34m=\u001b[0m \u001b[0mself\u001b[0m\u001b[0;34m.\u001b[0m\u001b[0mreindex\u001b[0m\u001b[0;34m(\u001b[0m\u001b[0;34m**\u001b[0m\u001b[0;34m{\u001b[0m\u001b[0maxis_name\u001b[0m\u001b[0;34m:\u001b[0m \u001b[0mnew_axis\u001b[0m\u001b[0;34m}\u001b[0m\u001b[0;34m)\u001b[0m\u001b[0;34m\u001b[0m\u001b[0;34m\u001b[0m\u001b[0m\n\u001b[1;32m   3948\u001b[0m \u001b[0;34m\u001b[0m\u001b[0m\n",
      "\u001b[0;32m/opt/anaconda3/lib/python3.7/site-packages/pandas/core/indexes/base.py\u001b[0m in \u001b[0;36mdrop\u001b[0;34m(self, labels, errors)\u001b[0m\n\u001b[1;32m   5338\u001b[0m         \u001b[0;32mif\u001b[0m \u001b[0mmask\u001b[0m\u001b[0;34m.\u001b[0m\u001b[0many\u001b[0m\u001b[0;34m(\u001b[0m\u001b[0;34m)\u001b[0m\u001b[0;34m:\u001b[0m\u001b[0;34m\u001b[0m\u001b[0;34m\u001b[0m\u001b[0m\n\u001b[1;32m   5339\u001b[0m             \u001b[0;32mif\u001b[0m \u001b[0merrors\u001b[0m \u001b[0;34m!=\u001b[0m \u001b[0;34m\"ignore\"\u001b[0m\u001b[0;34m:\u001b[0m\u001b[0;34m\u001b[0m\u001b[0;34m\u001b[0m\u001b[0m\n\u001b[0;32m-> 5340\u001b[0;31m                 \u001b[0;32mraise\u001b[0m \u001b[0mKeyError\u001b[0m\u001b[0;34m(\u001b[0m\u001b[0;34m\"{} not found in axis\"\u001b[0m\u001b[0;34m.\u001b[0m\u001b[0mformat\u001b[0m\u001b[0;34m(\u001b[0m\u001b[0mlabels\u001b[0m\u001b[0;34m[\u001b[0m\u001b[0mmask\u001b[0m\u001b[0;34m]\u001b[0m\u001b[0;34m)\u001b[0m\u001b[0;34m)\u001b[0m\u001b[0;34m\u001b[0m\u001b[0;34m\u001b[0m\u001b[0m\n\u001b[0m\u001b[1;32m   5341\u001b[0m             \u001b[0mindexer\u001b[0m \u001b[0;34m=\u001b[0m \u001b[0mindexer\u001b[0m\u001b[0;34m[\u001b[0m\u001b[0;34m~\u001b[0m\u001b[0mmask\u001b[0m\u001b[0;34m]\u001b[0m\u001b[0;34m\u001b[0m\u001b[0;34m\u001b[0m\u001b[0m\n\u001b[1;32m   5342\u001b[0m         \u001b[0;32mreturn\u001b[0m \u001b[0mself\u001b[0m\u001b[0;34m.\u001b[0m\u001b[0mdelete\u001b[0m\u001b[0;34m(\u001b[0m\u001b[0mindexer\u001b[0m\u001b[0;34m)\u001b[0m\u001b[0;34m\u001b[0m\u001b[0;34m\u001b[0m\u001b[0m\n",
      "\u001b[0;31mKeyError\u001b[0m: \"['Revenue_ln' 'Marge_ln'] not found in axis\""
     ]
    }
   ],
   "source": [
    "df_by_bills.drop(['Unnamed: 0', 'Revenue_ln', 'Marge_ln'], axis='columns', inplace=True)"
   ]
  },
  {
   "cell_type": "code",
   "execution_count": 226,
   "metadata": {},
   "outputs": [],
   "source": [
    "from datetime import datetime"
   ]
  },
  {
   "cell_type": "code",
   "execution_count": 228,
   "metadata": {},
   "outputs": [],
   "source": [
    "df_by_dates = df_by_bills.groupby('Date').aggregate(sum)\n",
    "\n",
    "num_unique_bills = []\n",
    "for day in set(date):\n",
    "    num_unique_bills.append(len(df_by_bills[df_by_bills['Date'] == day]))\n",
    "    "
   ]
  },
  {
   "cell_type": "code",
   "execution_count": 234,
   "metadata": {},
   "outputs": [],
   "source": [
    "df_by_bills['Date'] = pd.to_datetime(df_by_bills['Date'])"
   ]
  },
  {
   "cell_type": "code",
   "execution_count": 235,
   "metadata": {},
   "outputs": [],
   "source": [
    "df_by_dates['UniqueBills'] = num_unique_bills\n"
   ]
  },
  {
   "cell_type": "code",
   "execution_count": 243,
   "metadata": {},
   "outputs": [],
   "source": [
    "df_by_dates.to_csv('clean_data_drouped_by_dates.csv')"
   ]
  },
  {
   "cell_type": "code",
   "execution_count": null,
   "metadata": {},
   "outputs": [],
   "source": [
    "#уникальные чеки, количество товаров, выручка, маржа"
   ]
  }
 ],
 "metadata": {
  "kernelspec": {
   "display_name": "Python 3",
   "language": "python",
   "name": "python3"
  },
  "language_info": {
   "codemirror_mode": {
    "name": "ipython",
    "version": 3
   },
   "file_extension": ".py",
   "mimetype": "text/x-python",
   "name": "python",
   "nbconvert_exporter": "python",
   "pygments_lexer": "ipython3",
   "version": "3.7.4"
  }
 },
 "nbformat": 4,
 "nbformat_minor": 2
}
